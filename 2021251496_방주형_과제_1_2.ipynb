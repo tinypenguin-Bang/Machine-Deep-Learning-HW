{
  "nbformat": 4,
  "nbformat_minor": 0,
  "metadata": {
    "colab": {
      "name": "2021251496 방주형 과제 1-2.ipynb",
      "provenance": [],
      "collapsed_sections": [],
      "mount_file_id": "1e39KHdzMxqb5QdnomUIg6YIG5bR7c72P",
      "authorship_tag": "ABX9TyM6PnQwYOsdgKVUgrG6bWCA",
      "include_colab_link": true
    },
    "kernelspec": {
      "name": "python3",
      "display_name": "Python 3"
    },
    "language_info": {
      "name": "python"
    },
    "accelerator": "GPU"
  },
  "cells": [
    {
      "cell_type": "markdown",
      "metadata": {
        "id": "view-in-github",
        "colab_type": "text"
      },
      "source": [
        "<a href=\"https://colab.research.google.com/github/tinypenguin-Bang/Machine-Deep-Learning-HW/blob/main/2021251496_%EB%B0%A9%EC%A3%BC%ED%98%95_%EA%B3%BC%EC%A0%9C_1_2.ipynb\" target=\"_parent\"><img src=\"https://colab.research.google.com/assets/colab-badge.svg\" alt=\"Open In Colab\"/></a>"
      ]
    },
    {
      "cell_type": "markdown",
      "source": [
        "# 기초적인 Numpy 활용법\n",
        "*   numpy import하기\n",
        "*   np.array()를 통해 리스트를 numpy array로 바꾸기\n",
        "*   array간 의 간단한 연산하기"
      ],
      "metadata": {
        "id": "pIyb0suJC9wr"
      }
    },
    {
      "cell_type": "code",
      "execution_count": 2,
      "metadata": {
        "id": "Yc_eAQUAEwml",
        "colab": {
          "base_uri": "https://localhost:8080/"
        },
        "outputId": "f8e7d467-cbf2-4703-de09-da007e473a5c"
      },
      "outputs": [
        {
          "output_type": "stream",
          "name": "stdout",
          "text": [
            "[1 3 5 7 9]\n",
            "[  1  15  45  91 153]\n"
          ]
        }
      ],
      "source": [
        "import numpy as np\n",
        "\n",
        "# list의 numpy array 변경\n",
        "A = [1,3,5,7,9]\n",
        "A_arr = np.array(A)\n",
        "print(A_arr)\n",
        "\n",
        "# numpy array간 연산\n",
        "B = [1,5,9,13,17]\n",
        "B_arr = np.array(B)\n",
        "multiply = A_arr * B_arr\n",
        "print(multiply)"
      ]
    },
    {
      "cell_type": "markdown",
      "source": [
        "2차 배열 형태 array 활용\n",
        "*   2D array 요소 불러오기\n",
        "*   2D array간 연산 및 행렬곱 적용하기"
      ],
      "metadata": {
        "id": "D_yvz4wJC8vE"
      }
    },
    {
      "cell_type": "code",
      "source": [
        "C = [[1,5,9,13], [2,6,10,14], [3,7,11,15], [4,8,12,16]]\n",
        "C_arr = np.array(C)\n",
        "print(C_arr)\n",
        "print(C_arr[1][3])\n",
        "\n",
        "D = [[-16,-16,-16,-16], [-16,-16,-16,-16], [-16,-16,-16,-16], [-16,-16,-16,-16]]\n",
        "D_arr = np.array(D)\n",
        "E = C_arr + D_arr\n",
        "print(E)\n",
        "C @ E"
      ],
      "metadata": {
        "colab": {
          "base_uri": "https://localhost:8080/"
        },
        "id": "n8Wah_6pQimb",
        "outputId": "7cc128cc-68e1-49d6-850e-a0ad4ce66a75"
      },
      "execution_count": null,
      "outputs": [
        {
          "output_type": "stream",
          "name": "stdout",
          "text": [
            "[[ 1  5  9 13]\n",
            " [ 2  6 10 14]\n",
            " [ 3  7 11 15]\n",
            " [ 4  8 12 16]]\n",
            "14\n",
            "[[-15 -11  -7  -3]\n",
            " [-14 -10  -6  -2]\n",
            " [-13  -9  -5  -1]\n",
            " [-12  -8  -4   0]]\n"
          ]
        },
        {
          "output_type": "execute_result",
          "data": {
            "text/plain": [
              "array([[-358, -246, -134,  -22],\n",
              "       [-412, -284, -156,  -28],\n",
              "       [-466, -322, -178,  -34],\n",
              "       [-520, -360, -200,  -40]])"
            ]
          },
          "metadata": {},
          "execution_count": 15
        }
      ]
    },
    {
      "cell_type": "markdown",
      "source": [
        "*   2D array 전치시키기\n",
        "*   np.linspace(시작, 끝, 개수) 활용하기"
      ],
      "metadata": {
        "id": "YJ8y5VYTQjfa"
      }
    },
    {
      "cell_type": "code",
      "source": [
        "C_arr.transpose()"
      ],
      "metadata": {
        "colab": {
          "base_uri": "https://localhost:8080/"
        },
        "id": "Tih4CWinQjxq",
        "outputId": "d91c9954-9cbb-4e73-fd9a-b107b2d8ed63"
      },
      "execution_count": null,
      "outputs": [
        {
          "output_type": "execute_result",
          "data": {
            "text/plain": [
              "array([[ 1,  2,  3,  4],\n",
              "       [ 5,  6,  7,  8],\n",
              "       [ 9, 10, 11, 12],\n",
              "       [13, 14, 15, 16]])"
            ]
          },
          "metadata": {},
          "execution_count": 14
        }
      ]
    },
    {
      "cell_type": "code",
      "source": [
        "E.T"
      ],
      "metadata": {
        "colab": {
          "base_uri": "https://localhost:8080/"
        },
        "id": "BeE4jt8zWr1i",
        "outputId": "e0b80f2e-6dec-4aa3-efc8-14057ff5e4f2"
      },
      "execution_count": null,
      "outputs": [
        {
          "output_type": "execute_result",
          "data": {
            "text/plain": [
              "array([[-15, -14, -13, -12],\n",
              "       [-11, -10,  -9,  -8],\n",
              "       [ -7,  -6,  -5,  -4],\n",
              "       [ -3,  -2,  -1,   0]])"
            ]
          },
          "metadata": {},
          "execution_count": 16
        }
      ]
    },
    {
      "cell_type": "code",
      "source": [
        "np.linspace(2,16,63)"
      ],
      "metadata": {
        "colab": {
          "base_uri": "https://localhost:8080/"
        },
        "id": "xyGA4RBoW0I6",
        "outputId": "095f6bf8-9e2f-40ac-a649-4e6604eb0927"
      },
      "execution_count": null,
      "outputs": [
        {
          "output_type": "execute_result",
          "data": {
            "text/plain": [
              "array([ 2.        ,  2.22580645,  2.4516129 ,  2.67741935,  2.90322581,\n",
              "        3.12903226,  3.35483871,  3.58064516,  3.80645161,  4.03225806,\n",
              "        4.25806452,  4.48387097,  4.70967742,  4.93548387,  5.16129032,\n",
              "        5.38709677,  5.61290323,  5.83870968,  6.06451613,  6.29032258,\n",
              "        6.51612903,  6.74193548,  6.96774194,  7.19354839,  7.41935484,\n",
              "        7.64516129,  7.87096774,  8.09677419,  8.32258065,  8.5483871 ,\n",
              "        8.77419355,  9.        ,  9.22580645,  9.4516129 ,  9.67741935,\n",
              "        9.90322581, 10.12903226, 10.35483871, 10.58064516, 10.80645161,\n",
              "       11.03225806, 11.25806452, 11.48387097, 11.70967742, 11.93548387,\n",
              "       12.16129032, 12.38709677, 12.61290323, 12.83870968, 13.06451613,\n",
              "       13.29032258, 13.51612903, 13.74193548, 13.96774194, 14.19354839,\n",
              "       14.41935484, 14.64516129, 14.87096774, 15.09677419, 15.32258065,\n",
              "       15.5483871 , 15.77419355, 16.        ])"
            ]
          },
          "metadata": {},
          "execution_count": 17
        }
      ]
    },
    {
      "cell_type": "markdown",
      "source": [
        "배열 자동 생성\n",
        "*   random.randint(start, end, size = (row size, column size)) 사용하기\n",
        "*   rand(row size, column size) 사용하기\n"
      ],
      "metadata": {
        "id": "v-kTNwF5XBTY"
      }
    },
    {
      "cell_type": "code",
      "source": [
        "F = np.random.randint(1, 50, size = (3,3))\n",
        "print(F)\n",
        "\n",
        "G = np.random.rand(3,3)\n",
        "print(G)"
      ],
      "metadata": {
        "colab": {
          "base_uri": "https://localhost:8080/"
        },
        "id": "fzk8Ri2FXBnL",
        "outputId": "13996788-cfcf-4ed0-edeb-faf218ef5590"
      },
      "execution_count": null,
      "outputs": [
        {
          "output_type": "stream",
          "name": "stdout",
          "text": [
            "[[16  7 19]\n",
            " [ 2 16 27]\n",
            " [ 1 43 20]]\n",
            "[[0.65912109 0.68368306 0.38895035]\n",
            " [0.1589892  0.73274661 0.44583795]\n",
            " [0.45914551 0.36472489 0.26184937]]\n"
          ]
        }
      ]
    },
    {
      "cell_type": "markdown",
      "source": [
        "*   랜덤 행렬 연산하기\n",
        "*   특정 범위 가져오기"
      ],
      "metadata": {
        "id": "6jPuDnwWa9yK"
      }
    },
    {
      "cell_type": "code",
      "source": [
        "print(F.sum())  # 합\n",
        "print(F.min())  # 최소\n",
        "print(F.max())  # 최대\n",
        "print(F.mean()) # 평균\n",
        "print(F.std())  # 표준편차\n",
        "print(F.var())  # 분산\n",
        "\n",
        "H = np.random.randint(20, size = 10)\n",
        "print(H)"
      ],
      "metadata": {
        "colab": {
          "base_uri": "https://localhost:8080/"
        },
        "id": "0aVQ8ITlbCJC",
        "outputId": "626c64e4-6358-4392-e121-3a9b415e09ea"
      },
      "execution_count": null,
      "outputs": [
        {
          "output_type": "stream",
          "name": "stdout",
          "text": [
            "151\n",
            "1\n",
            "43\n",
            "16.77777777777778\n",
            "12.344839477627689\n",
            "152.39506172839506\n",
            "[ 1 15  5 10  7  7 14  6 12 18]\n"
          ]
        }
      ]
    },
    {
      "cell_type": "code",
      "source": [
        "print(H[:3])  # 처음\n",
        "print(H[3:])  # 끝\n",
        "print(H[4:7]) # 중간\n",
        "print(H[:])   # 전체"
      ],
      "metadata": {
        "colab": {
          "base_uri": "https://localhost:8080/"
        },
        "id": "YW_5mkZQdQbb",
        "outputId": "32b8bf46-2e7e-4717-8cf2-e4a2a7e34119"
      },
      "execution_count": null,
      "outputs": [
        {
          "output_type": "stream",
          "name": "stdout",
          "text": [
            "[ 1 15  5]\n",
            "[10  7  7 14  6 12 18]\n",
            "[ 7  7 14]\n",
            "[ 1 15  5 10  7  7 14  6 12 18]\n"
          ]
        }
      ]
    },
    {
      "cell_type": "markdown",
      "source": [
        "Numpy 형태변환\n",
        "*   차원 확인(.shape), 차원 추가(.expand_dims(a,b)), 차원 삭제(.squeeze(a))\n",
        "*   형태 변경(.reshape()), 순서 변경(.transpose())"
      ],
      "metadata": {
        "id": "CMc7Kr5BdrGd"
      }
    },
    {
      "cell_type": "code",
      "source": [
        "I = np.random.randint(0, 63, (2,2,10))\n",
        "print(I.shape)\n",
        "print(I)\n",
        "\n",
        "J = np.expand_dims(I,3)\n",
        "print(J.shape)\n",
        "K = np.expand_dims(I,1)\n",
        "print(K.shape)\n",
        "L = np.squeeze(J,3)  # squeeze 적용 시 다른 위치는 제거가 불가능하기에, 알아보니 보통 shape가 1인 것만 제거가 가능했습니다.\n",
        "print(L.shape)"
      ],
      "metadata": {
        "colab": {
          "base_uri": "https://localhost:8080/"
        },
        "id": "xKvcRtpodrXT",
        "outputId": "70124bc0-231a-411d-cdaf-b7bf2ab1111c"
      },
      "execution_count": null,
      "outputs": [
        {
          "output_type": "stream",
          "name": "stdout",
          "text": [
            "(2, 2, 10)\n",
            "[[[12 25 10  7 59 34  3 38  8 28]\n",
            "  [46 39 43 56 35 41 33 47 34 48]]\n",
            "\n",
            " [[ 0 32 59  3 12 19 61  8 29 48]\n",
            "  [30 49 18 38  3  7 17 50 29 46]]]\n",
            "(2, 2, 10, 1)\n",
            "(2, 1, 2, 10)\n",
            "(2, 2, 10)\n"
          ]
        }
      ]
    },
    {
      "cell_type": "code",
      "source": [
        "M = np.arange(60)\n",
        "print(M.shape)\n",
        "N = M.reshape(2,3,10)\n",
        "print(N.shape)\n",
        "\n",
        "O = N.transpose(2,1,0)\n",
        "print(O.shape)"
      ],
      "metadata": {
        "colab": {
          "base_uri": "https://localhost:8080/"
        },
        "id": "A26dQ_UckThb",
        "outputId": "01b997f1-2f88-4d21-d133-e1f6ae9362ae"
      },
      "execution_count": null,
      "outputs": [
        {
          "output_type": "stream",
          "name": "stdout",
          "text": [
            "(60,)\n",
            "(2, 3, 10)\n",
            "(10, 3, 2)\n"
          ]
        }
      ]
    },
    {
      "cell_type": "markdown",
      "source": [
        "# 기초적인 Pandas 활용법\n",
        "*   pandas import하기\n",
        "*   Series(1차원 배열) 활용하기\n",
        "*   Dictionary에서 만들어 인덱스 넣기"
      ],
      "metadata": {
        "id": "ST0UjWHMlapc"
      }
    },
    {
      "cell_type": "code",
      "source": [
        "import pandas as pd\n",
        "\n",
        "AA = pd.Series([60, 35, 87, 100, 98, 54])\n",
        "print(type(AA))\n",
        "print(AA)\n",
        "\n",
        "BB = pd.Series({'A+':95, 'A':80, 'B+':65, 'B':50, 'C+':35, 'C':15})\n",
        "print(BB)"
      ],
      "metadata": {
        "colab": {
          "base_uri": "https://localhost:8080/"
        },
        "id": "vnJwb5y3mgAV",
        "outputId": "0ae250b7-45ec-4fc7-9415-f1e0c0e9c024"
      },
      "execution_count": 3,
      "outputs": [
        {
          "output_type": "stream",
          "name": "stdout",
          "text": [
            "<class 'pandas.core.series.Series'>\n",
            "0     60\n",
            "1     35\n",
            "2     87\n",
            "3    100\n",
            "4     98\n",
            "5     54\n",
            "dtype: int64\n",
            "A+    95\n",
            "A     80\n",
            "B+    65\n",
            "B     50\n",
            "C+    35\n",
            "C     15\n",
            "dtype: int64\n"
          ]
        }
      ]
    },
    {
      "cell_type": "markdown",
      "source": [
        "DataFrame(2차원 배열)\n",
        "*   행의 이름과 열의 이름 적용\n"
      ],
      "metadata": {
        "id": "5PWLuyJ3none"
      }
    },
    {
      "cell_type": "code",
      "source": [
        "CC = [{'체력':  100, '공격력':  300, '방어력':  200}, \n",
        "      {'체력':  500, '공격력':  100, '방어력':  300}, \n",
        "      {'체력':  50, '공격력':  500, '방어력':  150}]\n",
        "CC_df = pd.DataFrame(CC)  #  대소문자 구별 숙지!!!\n",
        "print(CC_df)"
      ],
      "metadata": {
        "colab": {
          "base_uri": "https://localhost:8080/"
        },
        "id": "RgpSNc5YoeUo",
        "outputId": "91774536-1c3c-49b3-9bc4-78947a1f36af"
      },
      "execution_count": null,
      "outputs": [
        {
          "output_type": "stream",
          "name": "stdout",
          "text": [
            "    체력  공격력  방어력\n",
            "0  100  300  200\n",
            "1  500  100  300\n",
            "2   50  500  150\n"
          ]
        }
      ]
    },
    {
      "cell_type": "markdown",
      "source": [
        "colab 저장 확인"
      ],
      "metadata": {
        "id": "gZoEJoaipfhl"
      }
    },
    {
      "cell_type": "code",
      "source": [
        "!ls   # 현재 폴더 파일 확인"
      ],
      "metadata": {
        "colab": {
          "base_uri": "https://localhost:8080/"
        },
        "id": "Z1hguhoBpfxk",
        "outputId": "8c488e4a-9a23-4d3c-f6d1-c023552b59f4"
      },
      "execution_count": 4,
      "outputs": [
        {
          "output_type": "stream",
          "name": "stdout",
          "text": [
            "drive  sample_data\n"
          ]
        }
      ]
    },
    {
      "cell_type": "code",
      "source": [
        "!pwd  # 현재 경로 확인"
      ],
      "metadata": {
        "colab": {
          "base_uri": "https://localhost:8080/"
        },
        "id": "FJVI1jcfqJCP",
        "outputId": "3abd21f0-ef87-4397-c6d6-9b0bd83deb31"
      },
      "execution_count": 5,
      "outputs": [
        {
          "output_type": "stream",
          "name": "stdout",
          "text": [
            "/content\n"
          ]
        }
      ]
    },
    {
      "cell_type": "markdown",
      "source": [
        "Pandas 데이터 읽기\n",
        "*   구글 드라이브 연동하기\n",
        "*   read_csv() 함수로 외부 csv or txt 파일 데이터 읽기"
      ],
      "metadata": {
        "id": "ruqW0jl4rnYz"
      }
    },
    {
      "cell_type": "code",
      "source": [
        "from google.colab import drive\n",
        "drive.mount('/g') "
      ],
      "metadata": {
        "colab": {
          "base_uri": "https://localhost:8080/"
        },
        "id": "MWwCaIEKsCVr",
        "outputId": "77685c26-f4f7-4e4f-d12c-f48994b91029"
      },
      "execution_count": 6,
      "outputs": [
        {
          "output_type": "stream",
          "name": "stdout",
          "text": [
            "Mounted at /g\n"
          ]
        }
      ]
    },
    {
      "cell_type": "code",
      "source": [
        "!ls /g"
      ],
      "metadata": {
        "colab": {
          "base_uri": "https://localhost:8080/"
        },
        "id": "PZd_FcFIsPrL",
        "outputId": "bc56995c-cfa6-44a6-aba5-d19c9e919053"
      },
      "execution_count": 7,
      "outputs": [
        {
          "output_type": "stream",
          "name": "stdout",
          "text": [
            "MyDrive\n"
          ]
        }
      ]
    },
    {
      "cell_type": "code",
      "source": [
        "!ls '/g/MyDrive'"
      ],
      "metadata": {
        "colab": {
          "base_uri": "https://localhost:8080/"
        },
        "id": "F4xKgRYEsRFa",
        "outputId": "01ca4ec3-10cd-430a-cdc5-4aeee0a0c343"
      },
      "execution_count": 8,
      "outputs": [
        {
          "output_type": "stream",
          "name": "stdout",
          "text": [
            "'제목없는 폴더'\n",
            "'가두모집 시간표 (1).gdoc'\n",
            "'가두모집 시간표 (2).gdoc'\n",
            "'가두모집 시간표 (3).gdoc'\n",
            "'가두모집 시간표 (4).gdoc'\n",
            "'가두모집 시간표 (5).gdoc'\n",
            "'Adventure Design 1 (기계융합1) 소홍윤 교수님 조 편성.gsheet'\n",
            "'Adventure Design 1 (기계융합1) 소홍윤 교수님 기말평가.gsheet'\n",
            "'Adventure Design 1 (기계융합1) 소홍윤 교수님 중간평가.gsheet'\n",
            " ClevMoney\n",
            "'Colab Notebooks'\n",
            "'가두모집 시간표.gdoc'\n",
            "'제목 없는 설문지.gform'\n"
          ]
        }
      ]
    },
    {
      "cell_type": "code",
      "source": [
        "!ls '/g/MyDrive/Colab Notebooks'"
      ],
      "metadata": {
        "colab": {
          "base_uri": "https://localhost:8080/"
        },
        "id": "E3FILdK8tEXk",
        "outputId": "db665bf7-0088-4064-e7a9-fbc12d051eae"
      },
      "execution_count": 9,
      "outputs": [
        {
          "output_type": "stream",
          "name": "stdout",
          "text": [
            "'2021251496 방주형 과제 1-2.ipynb'   report.txt\n"
          ]
        }
      ]
    },
    {
      "cell_type": "code",
      "source": [
        "data = pd.read_csv('/g/MyDrive/Colab Notebooks/report.txt', sep = '\\t')"
      ],
      "metadata": {
        "id": "bg8rRhfcvAXT"
      },
      "execution_count": 10,
      "outputs": []
    },
    {
      "cell_type": "code",
      "source": [
        "data"
      ],
      "metadata": {
        "colab": {
          "base_uri": "https://localhost:8080/",
          "height": 330
        },
        "id": "2bQkSJv1vrns",
        "outputId": "96a251f1-419b-41cd-e324-ebd9364152e4"
      },
      "execution_count": 11,
      "outputs": [
        {
          "output_type": "execute_result",
          "data": {
            "text/plain": [
              "                 컬럼1  2019 2019.1 2019.2 2019.3 2019.4 2019.5 2019.6 2019.7  \\\n",
              "0                컬럼1   서울시     성별     성별    연령별    연령별    연령별    연령별    연령별   \n",
              "1                컬럼1   서울시     남자     여자    10대    20대    30대    40대    50대   \n",
              "2  운동을 할 충분한 시간이 없어서  46.8   52.4   42.5   55.3     46   59.9   54.1   46.1   \n",
              "3   함께 운동을 할 사람이 없어서     5    4.4    5.6    4.8    4.2    5.2    3.9    6.2   \n",
              "4   운동을 할 만한 장소가 없어서   4.3    4.9    3.9    3.9    4.5    2.9    2.9    4.5   \n",
              "5           운동을 싫어해서  37.3   32.4     41   32.6   38.8   27.3   35.5   36.8   \n",
              "6  운동을 할 충분한 비용이 없어서   5.2    4.9    5.4    3.5    6.4    4.5    3.3    5.6   \n",
              "7                 기타   1.4    1.1    1.7      -    0.1    0.2    0.4    0.8   \n",
              "\n",
              "   2019.8  ... 2019.42 2019.43 2019.44 2019.45 2019.46 2019.47 2019.48  \\\n",
              "0     연령별  ...     강서구     구로구     금천구    영등포구     동작구     관악구     서초구   \n",
              "1  60대 이상  ...     강서구     구로구     금천구    영등포구     동작구     관악구     서초구   \n",
              "2    26.6  ...    38.5    45.3    53.6    50.2    39.1    44.4    49.9   \n",
              "3       6  ...     3.8     5.7     2.4     6.7    13.9     8.8     4.3   \n",
              "4     6.6  ...     1.9     5.8     2.3     3.8     8.4     5.5     4.1   \n",
              "5    48.7  ...    50.5      39    37.6    33.9    31.1    34.2    36.6   \n",
              "6     6.6  ...     4.3     2.9     2.3     5.4     7.6     6.1     3.3   \n",
              "7     5.6  ...       1     1.3     1.7       -       -       1     1.8   \n",
              "\n",
              "  2019.49 2019.50 2019.51  \n",
              "0     강남구     송파구     강동구  \n",
              "1     강남구     송파구     강동구  \n",
              "2    40.7    47.6      47  \n",
              "3     4.2       5     5.2  \n",
              "4       2     2.3     4.8  \n",
              "5    46.4    39.4    32.4  \n",
              "6     5.2     4.8     8.4  \n",
              "7     1.6       1     2.3  \n",
              "\n",
              "[8 rows x 53 columns]"
            ],
            "text/html": [
              "\n",
              "  <div id=\"df-af09962a-3394-4e3a-93d2-98b36c6e15dc\">\n",
              "    <div class=\"colab-df-container\">\n",
              "      <div>\n",
              "<style scoped>\n",
              "    .dataframe tbody tr th:only-of-type {\n",
              "        vertical-align: middle;\n",
              "    }\n",
              "\n",
              "    .dataframe tbody tr th {\n",
              "        vertical-align: top;\n",
              "    }\n",
              "\n",
              "    .dataframe thead th {\n",
              "        text-align: right;\n",
              "    }\n",
              "</style>\n",
              "<table border=\"1\" class=\"dataframe\">\n",
              "  <thead>\n",
              "    <tr style=\"text-align: right;\">\n",
              "      <th></th>\n",
              "      <th>컬럼1</th>\n",
              "      <th>2019</th>\n",
              "      <th>2019.1</th>\n",
              "      <th>2019.2</th>\n",
              "      <th>2019.3</th>\n",
              "      <th>2019.4</th>\n",
              "      <th>2019.5</th>\n",
              "      <th>2019.6</th>\n",
              "      <th>2019.7</th>\n",
              "      <th>2019.8</th>\n",
              "      <th>...</th>\n",
              "      <th>2019.42</th>\n",
              "      <th>2019.43</th>\n",
              "      <th>2019.44</th>\n",
              "      <th>2019.45</th>\n",
              "      <th>2019.46</th>\n",
              "      <th>2019.47</th>\n",
              "      <th>2019.48</th>\n",
              "      <th>2019.49</th>\n",
              "      <th>2019.50</th>\n",
              "      <th>2019.51</th>\n",
              "    </tr>\n",
              "  </thead>\n",
              "  <tbody>\n",
              "    <tr>\n",
              "      <th>0</th>\n",
              "      <td>컬럼1</td>\n",
              "      <td>서울시</td>\n",
              "      <td>성별</td>\n",
              "      <td>성별</td>\n",
              "      <td>연령별</td>\n",
              "      <td>연령별</td>\n",
              "      <td>연령별</td>\n",
              "      <td>연령별</td>\n",
              "      <td>연령별</td>\n",
              "      <td>연령별</td>\n",
              "      <td>...</td>\n",
              "      <td>강서구</td>\n",
              "      <td>구로구</td>\n",
              "      <td>금천구</td>\n",
              "      <td>영등포구</td>\n",
              "      <td>동작구</td>\n",
              "      <td>관악구</td>\n",
              "      <td>서초구</td>\n",
              "      <td>강남구</td>\n",
              "      <td>송파구</td>\n",
              "      <td>강동구</td>\n",
              "    </tr>\n",
              "    <tr>\n",
              "      <th>1</th>\n",
              "      <td>컬럼1</td>\n",
              "      <td>서울시</td>\n",
              "      <td>남자</td>\n",
              "      <td>여자</td>\n",
              "      <td>10대</td>\n",
              "      <td>20대</td>\n",
              "      <td>30대</td>\n",
              "      <td>40대</td>\n",
              "      <td>50대</td>\n",
              "      <td>60대 이상</td>\n",
              "      <td>...</td>\n",
              "      <td>강서구</td>\n",
              "      <td>구로구</td>\n",
              "      <td>금천구</td>\n",
              "      <td>영등포구</td>\n",
              "      <td>동작구</td>\n",
              "      <td>관악구</td>\n",
              "      <td>서초구</td>\n",
              "      <td>강남구</td>\n",
              "      <td>송파구</td>\n",
              "      <td>강동구</td>\n",
              "    </tr>\n",
              "    <tr>\n",
              "      <th>2</th>\n",
              "      <td>운동을 할 충분한 시간이 없어서</td>\n",
              "      <td>46.8</td>\n",
              "      <td>52.4</td>\n",
              "      <td>42.5</td>\n",
              "      <td>55.3</td>\n",
              "      <td>46</td>\n",
              "      <td>59.9</td>\n",
              "      <td>54.1</td>\n",
              "      <td>46.1</td>\n",
              "      <td>26.6</td>\n",
              "      <td>...</td>\n",
              "      <td>38.5</td>\n",
              "      <td>45.3</td>\n",
              "      <td>53.6</td>\n",
              "      <td>50.2</td>\n",
              "      <td>39.1</td>\n",
              "      <td>44.4</td>\n",
              "      <td>49.9</td>\n",
              "      <td>40.7</td>\n",
              "      <td>47.6</td>\n",
              "      <td>47</td>\n",
              "    </tr>\n",
              "    <tr>\n",
              "      <th>3</th>\n",
              "      <td>함께 운동을 할 사람이 없어서</td>\n",
              "      <td>5</td>\n",
              "      <td>4.4</td>\n",
              "      <td>5.6</td>\n",
              "      <td>4.8</td>\n",
              "      <td>4.2</td>\n",
              "      <td>5.2</td>\n",
              "      <td>3.9</td>\n",
              "      <td>6.2</td>\n",
              "      <td>6</td>\n",
              "      <td>...</td>\n",
              "      <td>3.8</td>\n",
              "      <td>5.7</td>\n",
              "      <td>2.4</td>\n",
              "      <td>6.7</td>\n",
              "      <td>13.9</td>\n",
              "      <td>8.8</td>\n",
              "      <td>4.3</td>\n",
              "      <td>4.2</td>\n",
              "      <td>5</td>\n",
              "      <td>5.2</td>\n",
              "    </tr>\n",
              "    <tr>\n",
              "      <th>4</th>\n",
              "      <td>운동을 할 만한 장소가 없어서</td>\n",
              "      <td>4.3</td>\n",
              "      <td>4.9</td>\n",
              "      <td>3.9</td>\n",
              "      <td>3.9</td>\n",
              "      <td>4.5</td>\n",
              "      <td>2.9</td>\n",
              "      <td>2.9</td>\n",
              "      <td>4.5</td>\n",
              "      <td>6.6</td>\n",
              "      <td>...</td>\n",
              "      <td>1.9</td>\n",
              "      <td>5.8</td>\n",
              "      <td>2.3</td>\n",
              "      <td>3.8</td>\n",
              "      <td>8.4</td>\n",
              "      <td>5.5</td>\n",
              "      <td>4.1</td>\n",
              "      <td>2</td>\n",
              "      <td>2.3</td>\n",
              "      <td>4.8</td>\n",
              "    </tr>\n",
              "    <tr>\n",
              "      <th>5</th>\n",
              "      <td>운동을 싫어해서</td>\n",
              "      <td>37.3</td>\n",
              "      <td>32.4</td>\n",
              "      <td>41</td>\n",
              "      <td>32.6</td>\n",
              "      <td>38.8</td>\n",
              "      <td>27.3</td>\n",
              "      <td>35.5</td>\n",
              "      <td>36.8</td>\n",
              "      <td>48.7</td>\n",
              "      <td>...</td>\n",
              "      <td>50.5</td>\n",
              "      <td>39</td>\n",
              "      <td>37.6</td>\n",
              "      <td>33.9</td>\n",
              "      <td>31.1</td>\n",
              "      <td>34.2</td>\n",
              "      <td>36.6</td>\n",
              "      <td>46.4</td>\n",
              "      <td>39.4</td>\n",
              "      <td>32.4</td>\n",
              "    </tr>\n",
              "    <tr>\n",
              "      <th>6</th>\n",
              "      <td>운동을 할 충분한 비용이 없어서</td>\n",
              "      <td>5.2</td>\n",
              "      <td>4.9</td>\n",
              "      <td>5.4</td>\n",
              "      <td>3.5</td>\n",
              "      <td>6.4</td>\n",
              "      <td>4.5</td>\n",
              "      <td>3.3</td>\n",
              "      <td>5.6</td>\n",
              "      <td>6.6</td>\n",
              "      <td>...</td>\n",
              "      <td>4.3</td>\n",
              "      <td>2.9</td>\n",
              "      <td>2.3</td>\n",
              "      <td>5.4</td>\n",
              "      <td>7.6</td>\n",
              "      <td>6.1</td>\n",
              "      <td>3.3</td>\n",
              "      <td>5.2</td>\n",
              "      <td>4.8</td>\n",
              "      <td>8.4</td>\n",
              "    </tr>\n",
              "    <tr>\n",
              "      <th>7</th>\n",
              "      <td>기타</td>\n",
              "      <td>1.4</td>\n",
              "      <td>1.1</td>\n",
              "      <td>1.7</td>\n",
              "      <td>-</td>\n",
              "      <td>0.1</td>\n",
              "      <td>0.2</td>\n",
              "      <td>0.4</td>\n",
              "      <td>0.8</td>\n",
              "      <td>5.6</td>\n",
              "      <td>...</td>\n",
              "      <td>1</td>\n",
              "      <td>1.3</td>\n",
              "      <td>1.7</td>\n",
              "      <td>-</td>\n",
              "      <td>-</td>\n",
              "      <td>1</td>\n",
              "      <td>1.8</td>\n",
              "      <td>1.6</td>\n",
              "      <td>1</td>\n",
              "      <td>2.3</td>\n",
              "    </tr>\n",
              "  </tbody>\n",
              "</table>\n",
              "<p>8 rows × 53 columns</p>\n",
              "</div>\n",
              "      <button class=\"colab-df-convert\" onclick=\"convertToInteractive('df-af09962a-3394-4e3a-93d2-98b36c6e15dc')\"\n",
              "              title=\"Convert this dataframe to an interactive table.\"\n",
              "              style=\"display:none;\">\n",
              "        \n",
              "  <svg xmlns=\"http://www.w3.org/2000/svg\" height=\"24px\"viewBox=\"0 0 24 24\"\n",
              "       width=\"24px\">\n",
              "    <path d=\"M0 0h24v24H0V0z\" fill=\"none\"/>\n",
              "    <path d=\"M18.56 5.44l.94 2.06.94-2.06 2.06-.94-2.06-.94-.94-2.06-.94 2.06-2.06.94zm-11 1L8.5 8.5l.94-2.06 2.06-.94-2.06-.94L8.5 2.5l-.94 2.06-2.06.94zm10 10l.94 2.06.94-2.06 2.06-.94-2.06-.94-.94-2.06-.94 2.06-2.06.94z\"/><path d=\"M17.41 7.96l-1.37-1.37c-.4-.4-.92-.59-1.43-.59-.52 0-1.04.2-1.43.59L10.3 9.45l-7.72 7.72c-.78.78-.78 2.05 0 2.83L4 21.41c.39.39.9.59 1.41.59.51 0 1.02-.2 1.41-.59l7.78-7.78 2.81-2.81c.8-.78.8-2.07 0-2.86zM5.41 20L4 18.59l7.72-7.72 1.47 1.35L5.41 20z\"/>\n",
              "  </svg>\n",
              "      </button>\n",
              "      \n",
              "  <style>\n",
              "    .colab-df-container {\n",
              "      display:flex;\n",
              "      flex-wrap:wrap;\n",
              "      gap: 12px;\n",
              "    }\n",
              "\n",
              "    .colab-df-convert {\n",
              "      background-color: #E8F0FE;\n",
              "      border: none;\n",
              "      border-radius: 50%;\n",
              "      cursor: pointer;\n",
              "      display: none;\n",
              "      fill: #1967D2;\n",
              "      height: 32px;\n",
              "      padding: 0 0 0 0;\n",
              "      width: 32px;\n",
              "    }\n",
              "\n",
              "    .colab-df-convert:hover {\n",
              "      background-color: #E2EBFA;\n",
              "      box-shadow: 0px 1px 2px rgba(60, 64, 67, 0.3), 0px 1px 3px 1px rgba(60, 64, 67, 0.15);\n",
              "      fill: #174EA6;\n",
              "    }\n",
              "\n",
              "    [theme=dark] .colab-df-convert {\n",
              "      background-color: #3B4455;\n",
              "      fill: #D2E3FC;\n",
              "    }\n",
              "\n",
              "    [theme=dark] .colab-df-convert:hover {\n",
              "      background-color: #434B5C;\n",
              "      box-shadow: 0px 1px 3px 1px rgba(0, 0, 0, 0.15);\n",
              "      filter: drop-shadow(0px 1px 2px rgba(0, 0, 0, 0.3));\n",
              "      fill: #FFFFFF;\n",
              "    }\n",
              "  </style>\n",
              "\n",
              "      <script>\n",
              "        const buttonEl =\n",
              "          document.querySelector('#df-af09962a-3394-4e3a-93d2-98b36c6e15dc button.colab-df-convert');\n",
              "        buttonEl.style.display =\n",
              "          google.colab.kernel.accessAllowed ? 'block' : 'none';\n",
              "\n",
              "        async function convertToInteractive(key) {\n",
              "          const element = document.querySelector('#df-af09962a-3394-4e3a-93d2-98b36c6e15dc');\n",
              "          const dataTable =\n",
              "            await google.colab.kernel.invokeFunction('convertToInteractive',\n",
              "                                                     [key], {});\n",
              "          if (!dataTable) return;\n",
              "\n",
              "          const docLinkHtml = 'Like what you see? Visit the ' +\n",
              "            '<a target=\"_blank\" href=https://colab.research.google.com/notebooks/data_table.ipynb>data table notebook</a>'\n",
              "            + ' to learn more about interactive tables.';\n",
              "          element.innerHTML = '';\n",
              "          dataTable['output_type'] = 'display_data';\n",
              "          await google.colab.output.renderOutput(dataTable, element);\n",
              "          const docLink = document.createElement('div');\n",
              "          docLink.innerHTML = docLinkHtml;\n",
              "          element.appendChild(docLink);\n",
              "        }\n",
              "      </script>\n",
              "    </div>\n",
              "  </div>\n",
              "  "
            ]
          },
          "metadata": {},
          "execution_count": 11
        }
      ]
    },
    {
      "cell_type": "code",
      "source": [
        "data2 = data.transpose()\n",
        "print(data2)"
      ],
      "metadata": {
        "colab": {
          "base_uri": "https://localhost:8080/"
        },
        "id": "Ua0ZRA7RM8Ba",
        "outputId": "1a7e22c2-de78-40b9-815e-0f88e066dac6"
      },
      "execution_count": 13,
      "outputs": [
        {
          "output_type": "stream",
          "name": "stdout",
          "text": [
            "             0             1                  2                 3  \\\n",
            "컬럼1        컬럼1           컬럼1  운동을 할 충분한 시간이 없어서  함께 운동을 할 사람이 없어서   \n",
            "2019       서울시           서울시               46.8                 5   \n",
            "2019.1      성별            남자               52.4               4.4   \n",
            "2019.2      성별            여자               42.5               5.6   \n",
            "2019.3     연령별           10대               55.3               4.8   \n",
            "2019.4     연령별           20대                 46               4.2   \n",
            "2019.5     연령별           30대               59.9               5.2   \n",
            "2019.6     연령별           40대               54.1               3.9   \n",
            "2019.7     연령별           50대               46.1               6.2   \n",
            "2019.8     연령별        60대 이상               26.6                 6   \n",
            "2019.9     학력별         중졸 이하               24.7               6.2   \n",
            "2019.10    학력별         고졸 이하               44.3               5.3   \n",
            "2019.11    학력별         대졸 이하               53.1               4.7   \n",
            "2019.12    학력별        대학원 이상               61.2                 3   \n",
            "2019.13    소득별      100만원 미만               10.7               8.4   \n",
            "2019.14    소득별  100-200만원 미만               29.6               5.6   \n",
            "2019.15    소득별  200-300만원 미만               42.8               7.3   \n",
            "2019.16    소득별  300-400만원 미만               50.6               4.3   \n",
            "2019.17    소득별  400-500만원 미만                 48               4.6   \n",
            "2019.18    소득별      500만원 이상               52.8               4.3   \n",
            "2019.19  혼인상태별            기혼               48.7               4.5   \n",
            "2019.20  혼인상태별            미혼               50.2               4.9   \n",
            "2019.21  혼인상태별      이혼/사별/기타               31.5               7.2   \n",
            "2019.22  지역대분류           도심권               53.8               3.8   \n",
            "2019.23  지역대분류           동북권               44.5               3.5   \n",
            "2019.24  지역대분류           서북권               50.7               6.6   \n",
            "2019.25  지역대분류           서남권               47.1               6.7   \n",
            "2019.26  지역대분류           동남권               46.3               4.7   \n",
            "2019.27    종로구           종로구               62.2               0.4   \n",
            "2019.28     중구            중구               50.3                 3   \n",
            "2019.29    용산구           용산구               48.9               7.5   \n",
            "2019.30    성동구           성동구               46.5               4.3   \n",
            "2019.31    광진구           광진구                 42               5.7   \n",
            "2019.32   동대문구          동대문구               44.5               4.5   \n",
            "2019.33    중랑구           중랑구               46.7               2.2   \n",
            "2019.34    성북구           성북구               33.3               3.4   \n",
            "2019.35    강북구           강북구               21.3               5.3   \n",
            "2019.36    도봉구           도봉구                 52               3.2   \n",
            "2019.37    노원구           노원구               56.3               1.6   \n",
            "2019.38    은평구           은평구               42.7               8.8   \n",
            "2019.39   서대문구          서대문구               69.8               0.8   \n",
            "2019.40    마포구           마포구               46.6               8.1   \n",
            "2019.41    양천구           양천구               66.2               5.7   \n",
            "2019.42    강서구           강서구               38.5               3.8   \n",
            "2019.43    구로구           구로구               45.3               5.7   \n",
            "2019.44    금천구           금천구               53.6               2.4   \n",
            "2019.45   영등포구          영등포구               50.2               6.7   \n",
            "2019.46    동작구           동작구               39.1              13.9   \n",
            "2019.47    관악구           관악구               44.4               8.8   \n",
            "2019.48    서초구           서초구               49.9               4.3   \n",
            "2019.49    강남구           강남구               40.7               4.2   \n",
            "2019.50    송파구           송파구               47.6                 5   \n",
            "2019.51    강동구           강동구                 47               5.2   \n",
            "\n",
            "                        4         5                  6     7  \n",
            "컬럼1      운동을 할 만한 장소가 없어서  운동을 싫어해서  운동을 할 충분한 비용이 없어서    기타  \n",
            "2019                  4.3      37.3                5.2   1.4  \n",
            "2019.1                4.9      32.4                4.9   1.1  \n",
            "2019.2                3.9        41                5.4   1.7  \n",
            "2019.3                3.9      32.6                3.5     -  \n",
            "2019.4                4.5      38.8                6.4   0.1  \n",
            "2019.5                2.9      27.3                4.5   0.2  \n",
            "2019.6                2.9      35.5                3.3   0.4  \n",
            "2019.7                4.5      36.8                5.6   0.8  \n",
            "2019.8                6.6      48.7                6.6   5.6  \n",
            "2019.9                4.8      48.6                7.3   8.5  \n",
            "2019.10               5.6      38.6                5.5   0.7  \n",
            "2019.11               3.3        34                4.6   0.3  \n",
            "2019.12               5.6        29                0.9   0.3  \n",
            "2019.13               9.9      50.7                9.4  10.9  \n",
            "2019.14                 6      49.1                7.4   2.3  \n",
            "2019.15               3.9      39.5                5.1   1.4  \n",
            "2019.16               4.2      35.5                4.8   0.7  \n",
            "2019.17               3.3      38.7                5.3   0.2  \n",
            "2019.18                 4      33.4                4.5     1  \n",
            "2019.19               4.1      37.3                4.6   0.7  \n",
            "2019.20                 4      35.1                5.6   0.2  \n",
            "2019.21               5.7      42.4                6.4   6.9  \n",
            "2019.22               7.2      28.3                  4   2.9  \n",
            "2019.23               4.1      40.6                5.5   1.8  \n",
            "2019.24               5.1      31.4                5.3   0.9  \n",
            "2019.25               4.7      35.9                4.8   0.8  \n",
            "2019.26               3.1      38.9                5.4   1.5  \n",
            "2019.27               9.4      25.9                2.1     -  \n",
            "2019.28               7.7      25.7                7.6   5.7  \n",
            "2019.29               4.9      32.6                2.7   3.4  \n",
            "2019.30               5.7      34.2                8.7   0.6  \n",
            "2019.31                 3      43.5                5.8     -  \n",
            "2019.32               2.7      41.9                6.2   0.1  \n",
            "2019.33               6.8      32.8               10.9   0.5  \n",
            "2019.34               2.6        58                  2   0.7  \n",
            "2019.35               3.4      68.1                1.9     -  \n",
            "2019.36               6.2      30.8                7.6   0.3  \n",
            "2019.37               2.7      30.1                1.9   7.4  \n",
            "2019.38               7.3      34.3                6.4   0.5  \n",
            "2019.39               1.2      21.9                5.3     1  \n",
            "2019.40               4.7      35.8                3.2   1.5  \n",
            "2019.41               5.9      17.9                4.1   0.1  \n",
            "2019.42               1.9      50.5                4.3     1  \n",
            "2019.43               5.8        39                2.9   1.3  \n",
            "2019.44               2.3      37.6                2.3   1.7  \n",
            "2019.45               3.8      33.9                5.4     -  \n",
            "2019.46               8.4      31.1                7.6     -  \n",
            "2019.47               5.5      34.2                6.1     1  \n",
            "2019.48               4.1      36.6                3.3   1.8  \n",
            "2019.49                 2      46.4                5.2   1.6  \n",
            "2019.50               2.3      39.4                4.8     1  \n",
            "2019.51               4.8      32.4                8.4   2.3  \n"
          ]
        }
      ]
    },
    {
      "cell_type": "code",
      "source": [
        "data2.head(5)"
      ],
      "metadata": {
        "colab": {
          "base_uri": "https://localhost:8080/",
          "height": 206
        },
        "id": "8rmz8NgUvuDD",
        "outputId": "1f33c8a4-9c90-40ba-df25-37c356274f47"
      },
      "execution_count": 14,
      "outputs": [
        {
          "output_type": "execute_result",
          "data": {
            "text/plain": [
              "          0    1                  2                 3                 4  \\\n",
              "컬럼1     컬럼1  컬럼1  운동을 할 충분한 시간이 없어서  함께 운동을 할 사람이 없어서  운동을 할 만한 장소가 없어서   \n",
              "2019    서울시  서울시               46.8                 5               4.3   \n",
              "2019.1   성별   남자               52.4               4.4               4.9   \n",
              "2019.2   성별   여자               42.5               5.6               3.9   \n",
              "2019.3  연령별  10대               55.3               4.8               3.9   \n",
              "\n",
              "               5                  6    7  \n",
              "컬럼1     운동을 싫어해서  운동을 할 충분한 비용이 없어서   기타  \n",
              "2019        37.3                5.2  1.4  \n",
              "2019.1      32.4                4.9  1.1  \n",
              "2019.2        41                5.4  1.7  \n",
              "2019.3      32.6                3.5    -  "
            ],
            "text/html": [
              "\n",
              "  <div id=\"df-51c23015-c266-4ada-8b27-5777705052cb\">\n",
              "    <div class=\"colab-df-container\">\n",
              "      <div>\n",
              "<style scoped>\n",
              "    .dataframe tbody tr th:only-of-type {\n",
              "        vertical-align: middle;\n",
              "    }\n",
              "\n",
              "    .dataframe tbody tr th {\n",
              "        vertical-align: top;\n",
              "    }\n",
              "\n",
              "    .dataframe thead th {\n",
              "        text-align: right;\n",
              "    }\n",
              "</style>\n",
              "<table border=\"1\" class=\"dataframe\">\n",
              "  <thead>\n",
              "    <tr style=\"text-align: right;\">\n",
              "      <th></th>\n",
              "      <th>0</th>\n",
              "      <th>1</th>\n",
              "      <th>2</th>\n",
              "      <th>3</th>\n",
              "      <th>4</th>\n",
              "      <th>5</th>\n",
              "      <th>6</th>\n",
              "      <th>7</th>\n",
              "    </tr>\n",
              "  </thead>\n",
              "  <tbody>\n",
              "    <tr>\n",
              "      <th>컬럼1</th>\n",
              "      <td>컬럼1</td>\n",
              "      <td>컬럼1</td>\n",
              "      <td>운동을 할 충분한 시간이 없어서</td>\n",
              "      <td>함께 운동을 할 사람이 없어서</td>\n",
              "      <td>운동을 할 만한 장소가 없어서</td>\n",
              "      <td>운동을 싫어해서</td>\n",
              "      <td>운동을 할 충분한 비용이 없어서</td>\n",
              "      <td>기타</td>\n",
              "    </tr>\n",
              "    <tr>\n",
              "      <th>2019</th>\n",
              "      <td>서울시</td>\n",
              "      <td>서울시</td>\n",
              "      <td>46.8</td>\n",
              "      <td>5</td>\n",
              "      <td>4.3</td>\n",
              "      <td>37.3</td>\n",
              "      <td>5.2</td>\n",
              "      <td>1.4</td>\n",
              "    </tr>\n",
              "    <tr>\n",
              "      <th>2019.1</th>\n",
              "      <td>성별</td>\n",
              "      <td>남자</td>\n",
              "      <td>52.4</td>\n",
              "      <td>4.4</td>\n",
              "      <td>4.9</td>\n",
              "      <td>32.4</td>\n",
              "      <td>4.9</td>\n",
              "      <td>1.1</td>\n",
              "    </tr>\n",
              "    <tr>\n",
              "      <th>2019.2</th>\n",
              "      <td>성별</td>\n",
              "      <td>여자</td>\n",
              "      <td>42.5</td>\n",
              "      <td>5.6</td>\n",
              "      <td>3.9</td>\n",
              "      <td>41</td>\n",
              "      <td>5.4</td>\n",
              "      <td>1.7</td>\n",
              "    </tr>\n",
              "    <tr>\n",
              "      <th>2019.3</th>\n",
              "      <td>연령별</td>\n",
              "      <td>10대</td>\n",
              "      <td>55.3</td>\n",
              "      <td>4.8</td>\n",
              "      <td>3.9</td>\n",
              "      <td>32.6</td>\n",
              "      <td>3.5</td>\n",
              "      <td>-</td>\n",
              "    </tr>\n",
              "  </tbody>\n",
              "</table>\n",
              "</div>\n",
              "      <button class=\"colab-df-convert\" onclick=\"convertToInteractive('df-51c23015-c266-4ada-8b27-5777705052cb')\"\n",
              "              title=\"Convert this dataframe to an interactive table.\"\n",
              "              style=\"display:none;\">\n",
              "        \n",
              "  <svg xmlns=\"http://www.w3.org/2000/svg\" height=\"24px\"viewBox=\"0 0 24 24\"\n",
              "       width=\"24px\">\n",
              "    <path d=\"M0 0h24v24H0V0z\" fill=\"none\"/>\n",
              "    <path d=\"M18.56 5.44l.94 2.06.94-2.06 2.06-.94-2.06-.94-.94-2.06-.94 2.06-2.06.94zm-11 1L8.5 8.5l.94-2.06 2.06-.94-2.06-.94L8.5 2.5l-.94 2.06-2.06.94zm10 10l.94 2.06.94-2.06 2.06-.94-2.06-.94-.94-2.06-.94 2.06-2.06.94z\"/><path d=\"M17.41 7.96l-1.37-1.37c-.4-.4-.92-.59-1.43-.59-.52 0-1.04.2-1.43.59L10.3 9.45l-7.72 7.72c-.78.78-.78 2.05 0 2.83L4 21.41c.39.39.9.59 1.41.59.51 0 1.02-.2 1.41-.59l7.78-7.78 2.81-2.81c.8-.78.8-2.07 0-2.86zM5.41 20L4 18.59l7.72-7.72 1.47 1.35L5.41 20z\"/>\n",
              "  </svg>\n",
              "      </button>\n",
              "      \n",
              "  <style>\n",
              "    .colab-df-container {\n",
              "      display:flex;\n",
              "      flex-wrap:wrap;\n",
              "      gap: 12px;\n",
              "    }\n",
              "\n",
              "    .colab-df-convert {\n",
              "      background-color: #E8F0FE;\n",
              "      border: none;\n",
              "      border-radius: 50%;\n",
              "      cursor: pointer;\n",
              "      display: none;\n",
              "      fill: #1967D2;\n",
              "      height: 32px;\n",
              "      padding: 0 0 0 0;\n",
              "      width: 32px;\n",
              "    }\n",
              "\n",
              "    .colab-df-convert:hover {\n",
              "      background-color: #E2EBFA;\n",
              "      box-shadow: 0px 1px 2px rgba(60, 64, 67, 0.3), 0px 1px 3px 1px rgba(60, 64, 67, 0.15);\n",
              "      fill: #174EA6;\n",
              "    }\n",
              "\n",
              "    [theme=dark] .colab-df-convert {\n",
              "      background-color: #3B4455;\n",
              "      fill: #D2E3FC;\n",
              "    }\n",
              "\n",
              "    [theme=dark] .colab-df-convert:hover {\n",
              "      background-color: #434B5C;\n",
              "      box-shadow: 0px 1px 3px 1px rgba(0, 0, 0, 0.15);\n",
              "      filter: drop-shadow(0px 1px 2px rgba(0, 0, 0, 0.3));\n",
              "      fill: #FFFFFF;\n",
              "    }\n",
              "  </style>\n",
              "\n",
              "      <script>\n",
              "        const buttonEl =\n",
              "          document.querySelector('#df-51c23015-c266-4ada-8b27-5777705052cb button.colab-df-convert');\n",
              "        buttonEl.style.display =\n",
              "          google.colab.kernel.accessAllowed ? 'block' : 'none';\n",
              "\n",
              "        async function convertToInteractive(key) {\n",
              "          const element = document.querySelector('#df-51c23015-c266-4ada-8b27-5777705052cb');\n",
              "          const dataTable =\n",
              "            await google.colab.kernel.invokeFunction('convertToInteractive',\n",
              "                                                     [key], {});\n",
              "          if (!dataTable) return;\n",
              "\n",
              "          const docLinkHtml = 'Like what you see? Visit the ' +\n",
              "            '<a target=\"_blank\" href=https://colab.research.google.com/notebooks/data_table.ipynb>data table notebook</a>'\n",
              "            + ' to learn more about interactive tables.';\n",
              "          element.innerHTML = '';\n",
              "          dataTable['output_type'] = 'display_data';\n",
              "          await google.colab.output.renderOutput(dataTable, element);\n",
              "          const docLink = document.createElement('div');\n",
              "          docLink.innerHTML = docLinkHtml;\n",
              "          element.appendChild(docLink);\n",
              "        }\n",
              "      </script>\n",
              "    </div>\n",
              "  </div>\n",
              "  "
            ]
          },
          "metadata": {},
          "execution_count": 14
        }
      ]
    },
    {
      "cell_type": "code",
      "source": [
        "data2.tail(5)"
      ],
      "metadata": {
        "colab": {
          "base_uri": "https://localhost:8080/",
          "height": 206
        },
        "id": "hUcSnaCbv34M",
        "outputId": "1592b462-b426-4e34-cd08-a7f1c44b9e36"
      },
      "execution_count": 15,
      "outputs": [
        {
          "output_type": "execute_result",
          "data": {
            "text/plain": [
              "           0    1     2    3    4     5    6    7\n",
              "2019.47  관악구  관악구  44.4  8.8  5.5  34.2  6.1    1\n",
              "2019.48  서초구  서초구  49.9  4.3  4.1  36.6  3.3  1.8\n",
              "2019.49  강남구  강남구  40.7  4.2    2  46.4  5.2  1.6\n",
              "2019.50  송파구  송파구  47.6    5  2.3  39.4  4.8    1\n",
              "2019.51  강동구  강동구    47  5.2  4.8  32.4  8.4  2.3"
            ],
            "text/html": [
              "\n",
              "  <div id=\"df-fc586d5b-feff-4bd6-883e-ce8bc4596d2a\">\n",
              "    <div class=\"colab-df-container\">\n",
              "      <div>\n",
              "<style scoped>\n",
              "    .dataframe tbody tr th:only-of-type {\n",
              "        vertical-align: middle;\n",
              "    }\n",
              "\n",
              "    .dataframe tbody tr th {\n",
              "        vertical-align: top;\n",
              "    }\n",
              "\n",
              "    .dataframe thead th {\n",
              "        text-align: right;\n",
              "    }\n",
              "</style>\n",
              "<table border=\"1\" class=\"dataframe\">\n",
              "  <thead>\n",
              "    <tr style=\"text-align: right;\">\n",
              "      <th></th>\n",
              "      <th>0</th>\n",
              "      <th>1</th>\n",
              "      <th>2</th>\n",
              "      <th>3</th>\n",
              "      <th>4</th>\n",
              "      <th>5</th>\n",
              "      <th>6</th>\n",
              "      <th>7</th>\n",
              "    </tr>\n",
              "  </thead>\n",
              "  <tbody>\n",
              "    <tr>\n",
              "      <th>2019.47</th>\n",
              "      <td>관악구</td>\n",
              "      <td>관악구</td>\n",
              "      <td>44.4</td>\n",
              "      <td>8.8</td>\n",
              "      <td>5.5</td>\n",
              "      <td>34.2</td>\n",
              "      <td>6.1</td>\n",
              "      <td>1</td>\n",
              "    </tr>\n",
              "    <tr>\n",
              "      <th>2019.48</th>\n",
              "      <td>서초구</td>\n",
              "      <td>서초구</td>\n",
              "      <td>49.9</td>\n",
              "      <td>4.3</td>\n",
              "      <td>4.1</td>\n",
              "      <td>36.6</td>\n",
              "      <td>3.3</td>\n",
              "      <td>1.8</td>\n",
              "    </tr>\n",
              "    <tr>\n",
              "      <th>2019.49</th>\n",
              "      <td>강남구</td>\n",
              "      <td>강남구</td>\n",
              "      <td>40.7</td>\n",
              "      <td>4.2</td>\n",
              "      <td>2</td>\n",
              "      <td>46.4</td>\n",
              "      <td>5.2</td>\n",
              "      <td>1.6</td>\n",
              "    </tr>\n",
              "    <tr>\n",
              "      <th>2019.50</th>\n",
              "      <td>송파구</td>\n",
              "      <td>송파구</td>\n",
              "      <td>47.6</td>\n",
              "      <td>5</td>\n",
              "      <td>2.3</td>\n",
              "      <td>39.4</td>\n",
              "      <td>4.8</td>\n",
              "      <td>1</td>\n",
              "    </tr>\n",
              "    <tr>\n",
              "      <th>2019.51</th>\n",
              "      <td>강동구</td>\n",
              "      <td>강동구</td>\n",
              "      <td>47</td>\n",
              "      <td>5.2</td>\n",
              "      <td>4.8</td>\n",
              "      <td>32.4</td>\n",
              "      <td>8.4</td>\n",
              "      <td>2.3</td>\n",
              "    </tr>\n",
              "  </tbody>\n",
              "</table>\n",
              "</div>\n",
              "      <button class=\"colab-df-convert\" onclick=\"convertToInteractive('df-fc586d5b-feff-4bd6-883e-ce8bc4596d2a')\"\n",
              "              title=\"Convert this dataframe to an interactive table.\"\n",
              "              style=\"display:none;\">\n",
              "        \n",
              "  <svg xmlns=\"http://www.w3.org/2000/svg\" height=\"24px\"viewBox=\"0 0 24 24\"\n",
              "       width=\"24px\">\n",
              "    <path d=\"M0 0h24v24H0V0z\" fill=\"none\"/>\n",
              "    <path d=\"M18.56 5.44l.94 2.06.94-2.06 2.06-.94-2.06-.94-.94-2.06-.94 2.06-2.06.94zm-11 1L8.5 8.5l.94-2.06 2.06-.94-2.06-.94L8.5 2.5l-.94 2.06-2.06.94zm10 10l.94 2.06.94-2.06 2.06-.94-2.06-.94-.94-2.06-.94 2.06-2.06.94z\"/><path d=\"M17.41 7.96l-1.37-1.37c-.4-.4-.92-.59-1.43-.59-.52 0-1.04.2-1.43.59L10.3 9.45l-7.72 7.72c-.78.78-.78 2.05 0 2.83L4 21.41c.39.39.9.59 1.41.59.51 0 1.02-.2 1.41-.59l7.78-7.78 2.81-2.81c.8-.78.8-2.07 0-2.86zM5.41 20L4 18.59l7.72-7.72 1.47 1.35L5.41 20z\"/>\n",
              "  </svg>\n",
              "      </button>\n",
              "      \n",
              "  <style>\n",
              "    .colab-df-container {\n",
              "      display:flex;\n",
              "      flex-wrap:wrap;\n",
              "      gap: 12px;\n",
              "    }\n",
              "\n",
              "    .colab-df-convert {\n",
              "      background-color: #E8F0FE;\n",
              "      border: none;\n",
              "      border-radius: 50%;\n",
              "      cursor: pointer;\n",
              "      display: none;\n",
              "      fill: #1967D2;\n",
              "      height: 32px;\n",
              "      padding: 0 0 0 0;\n",
              "      width: 32px;\n",
              "    }\n",
              "\n",
              "    .colab-df-convert:hover {\n",
              "      background-color: #E2EBFA;\n",
              "      box-shadow: 0px 1px 2px rgba(60, 64, 67, 0.3), 0px 1px 3px 1px rgba(60, 64, 67, 0.15);\n",
              "      fill: #174EA6;\n",
              "    }\n",
              "\n",
              "    [theme=dark] .colab-df-convert {\n",
              "      background-color: #3B4455;\n",
              "      fill: #D2E3FC;\n",
              "    }\n",
              "\n",
              "    [theme=dark] .colab-df-convert:hover {\n",
              "      background-color: #434B5C;\n",
              "      box-shadow: 0px 1px 3px 1px rgba(0, 0, 0, 0.15);\n",
              "      filter: drop-shadow(0px 1px 2px rgba(0, 0, 0, 0.3));\n",
              "      fill: #FFFFFF;\n",
              "    }\n",
              "  </style>\n",
              "\n",
              "      <script>\n",
              "        const buttonEl =\n",
              "          document.querySelector('#df-fc586d5b-feff-4bd6-883e-ce8bc4596d2a button.colab-df-convert');\n",
              "        buttonEl.style.display =\n",
              "          google.colab.kernel.accessAllowed ? 'block' : 'none';\n",
              "\n",
              "        async function convertToInteractive(key) {\n",
              "          const element = document.querySelector('#df-fc586d5b-feff-4bd6-883e-ce8bc4596d2a');\n",
              "          const dataTable =\n",
              "            await google.colab.kernel.invokeFunction('convertToInteractive',\n",
              "                                                     [key], {});\n",
              "          if (!dataTable) return;\n",
              "\n",
              "          const docLinkHtml = 'Like what you see? Visit the ' +\n",
              "            '<a target=\"_blank\" href=https://colab.research.google.com/notebooks/data_table.ipynb>data table notebook</a>'\n",
              "            + ' to learn more about interactive tables.';\n",
              "          element.innerHTML = '';\n",
              "          dataTable['output_type'] = 'display_data';\n",
              "          await google.colab.output.renderOutput(dataTable, element);\n",
              "          const docLink = document.createElement('div');\n",
              "          docLink.innerHTML = docLinkHtml;\n",
              "          element.appendChild(docLink);\n",
              "        }\n",
              "      </script>\n",
              "    </div>\n",
              "  </div>\n",
              "  "
            ]
          },
          "metadata": {},
          "execution_count": 15
        }
      ]
    },
    {
      "cell_type": "code",
      "source": [
        "data2.head()"
      ],
      "metadata": {
        "colab": {
          "base_uri": "https://localhost:8080/",
          "height": 206
        },
        "id": "IwDl7onHv6C_",
        "outputId": "cff5c5ad-d9bd-4fa9-e5a0-c5ebe052ece1"
      },
      "execution_count": 16,
      "outputs": [
        {
          "output_type": "execute_result",
          "data": {
            "text/plain": [
              "          0    1                  2                 3                 4  \\\n",
              "컬럼1     컬럼1  컬럼1  운동을 할 충분한 시간이 없어서  함께 운동을 할 사람이 없어서  운동을 할 만한 장소가 없어서   \n",
              "2019    서울시  서울시               46.8                 5               4.3   \n",
              "2019.1   성별   남자               52.4               4.4               4.9   \n",
              "2019.2   성별   여자               42.5               5.6               3.9   \n",
              "2019.3  연령별  10대               55.3               4.8               3.9   \n",
              "\n",
              "               5                  6    7  \n",
              "컬럼1     운동을 싫어해서  운동을 할 충분한 비용이 없어서   기타  \n",
              "2019        37.3                5.2  1.4  \n",
              "2019.1      32.4                4.9  1.1  \n",
              "2019.2        41                5.4  1.7  \n",
              "2019.3      32.6                3.5    -  "
            ],
            "text/html": [
              "\n",
              "  <div id=\"df-7e0f28a7-7e05-472d-9196-f39edc287725\">\n",
              "    <div class=\"colab-df-container\">\n",
              "      <div>\n",
              "<style scoped>\n",
              "    .dataframe tbody tr th:only-of-type {\n",
              "        vertical-align: middle;\n",
              "    }\n",
              "\n",
              "    .dataframe tbody tr th {\n",
              "        vertical-align: top;\n",
              "    }\n",
              "\n",
              "    .dataframe thead th {\n",
              "        text-align: right;\n",
              "    }\n",
              "</style>\n",
              "<table border=\"1\" class=\"dataframe\">\n",
              "  <thead>\n",
              "    <tr style=\"text-align: right;\">\n",
              "      <th></th>\n",
              "      <th>0</th>\n",
              "      <th>1</th>\n",
              "      <th>2</th>\n",
              "      <th>3</th>\n",
              "      <th>4</th>\n",
              "      <th>5</th>\n",
              "      <th>6</th>\n",
              "      <th>7</th>\n",
              "    </tr>\n",
              "  </thead>\n",
              "  <tbody>\n",
              "    <tr>\n",
              "      <th>컬럼1</th>\n",
              "      <td>컬럼1</td>\n",
              "      <td>컬럼1</td>\n",
              "      <td>운동을 할 충분한 시간이 없어서</td>\n",
              "      <td>함께 운동을 할 사람이 없어서</td>\n",
              "      <td>운동을 할 만한 장소가 없어서</td>\n",
              "      <td>운동을 싫어해서</td>\n",
              "      <td>운동을 할 충분한 비용이 없어서</td>\n",
              "      <td>기타</td>\n",
              "    </tr>\n",
              "    <tr>\n",
              "      <th>2019</th>\n",
              "      <td>서울시</td>\n",
              "      <td>서울시</td>\n",
              "      <td>46.8</td>\n",
              "      <td>5</td>\n",
              "      <td>4.3</td>\n",
              "      <td>37.3</td>\n",
              "      <td>5.2</td>\n",
              "      <td>1.4</td>\n",
              "    </tr>\n",
              "    <tr>\n",
              "      <th>2019.1</th>\n",
              "      <td>성별</td>\n",
              "      <td>남자</td>\n",
              "      <td>52.4</td>\n",
              "      <td>4.4</td>\n",
              "      <td>4.9</td>\n",
              "      <td>32.4</td>\n",
              "      <td>4.9</td>\n",
              "      <td>1.1</td>\n",
              "    </tr>\n",
              "    <tr>\n",
              "      <th>2019.2</th>\n",
              "      <td>성별</td>\n",
              "      <td>여자</td>\n",
              "      <td>42.5</td>\n",
              "      <td>5.6</td>\n",
              "      <td>3.9</td>\n",
              "      <td>41</td>\n",
              "      <td>5.4</td>\n",
              "      <td>1.7</td>\n",
              "    </tr>\n",
              "    <tr>\n",
              "      <th>2019.3</th>\n",
              "      <td>연령별</td>\n",
              "      <td>10대</td>\n",
              "      <td>55.3</td>\n",
              "      <td>4.8</td>\n",
              "      <td>3.9</td>\n",
              "      <td>32.6</td>\n",
              "      <td>3.5</td>\n",
              "      <td>-</td>\n",
              "    </tr>\n",
              "  </tbody>\n",
              "</table>\n",
              "</div>\n",
              "      <button class=\"colab-df-convert\" onclick=\"convertToInteractive('df-7e0f28a7-7e05-472d-9196-f39edc287725')\"\n",
              "              title=\"Convert this dataframe to an interactive table.\"\n",
              "              style=\"display:none;\">\n",
              "        \n",
              "  <svg xmlns=\"http://www.w3.org/2000/svg\" height=\"24px\"viewBox=\"0 0 24 24\"\n",
              "       width=\"24px\">\n",
              "    <path d=\"M0 0h24v24H0V0z\" fill=\"none\"/>\n",
              "    <path d=\"M18.56 5.44l.94 2.06.94-2.06 2.06-.94-2.06-.94-.94-2.06-.94 2.06-2.06.94zm-11 1L8.5 8.5l.94-2.06 2.06-.94-2.06-.94L8.5 2.5l-.94 2.06-2.06.94zm10 10l.94 2.06.94-2.06 2.06-.94-2.06-.94-.94-2.06-.94 2.06-2.06.94z\"/><path d=\"M17.41 7.96l-1.37-1.37c-.4-.4-.92-.59-1.43-.59-.52 0-1.04.2-1.43.59L10.3 9.45l-7.72 7.72c-.78.78-.78 2.05 0 2.83L4 21.41c.39.39.9.59 1.41.59.51 0 1.02-.2 1.41-.59l7.78-7.78 2.81-2.81c.8-.78.8-2.07 0-2.86zM5.41 20L4 18.59l7.72-7.72 1.47 1.35L5.41 20z\"/>\n",
              "  </svg>\n",
              "      </button>\n",
              "      \n",
              "  <style>\n",
              "    .colab-df-container {\n",
              "      display:flex;\n",
              "      flex-wrap:wrap;\n",
              "      gap: 12px;\n",
              "    }\n",
              "\n",
              "    .colab-df-convert {\n",
              "      background-color: #E8F0FE;\n",
              "      border: none;\n",
              "      border-radius: 50%;\n",
              "      cursor: pointer;\n",
              "      display: none;\n",
              "      fill: #1967D2;\n",
              "      height: 32px;\n",
              "      padding: 0 0 0 0;\n",
              "      width: 32px;\n",
              "    }\n",
              "\n",
              "    .colab-df-convert:hover {\n",
              "      background-color: #E2EBFA;\n",
              "      box-shadow: 0px 1px 2px rgba(60, 64, 67, 0.3), 0px 1px 3px 1px rgba(60, 64, 67, 0.15);\n",
              "      fill: #174EA6;\n",
              "    }\n",
              "\n",
              "    [theme=dark] .colab-df-convert {\n",
              "      background-color: #3B4455;\n",
              "      fill: #D2E3FC;\n",
              "    }\n",
              "\n",
              "    [theme=dark] .colab-df-convert:hover {\n",
              "      background-color: #434B5C;\n",
              "      box-shadow: 0px 1px 3px 1px rgba(0, 0, 0, 0.15);\n",
              "      filter: drop-shadow(0px 1px 2px rgba(0, 0, 0, 0.3));\n",
              "      fill: #FFFFFF;\n",
              "    }\n",
              "  </style>\n",
              "\n",
              "      <script>\n",
              "        const buttonEl =\n",
              "          document.querySelector('#df-7e0f28a7-7e05-472d-9196-f39edc287725 button.colab-df-convert');\n",
              "        buttonEl.style.display =\n",
              "          google.colab.kernel.accessAllowed ? 'block' : 'none';\n",
              "\n",
              "        async function convertToInteractive(key) {\n",
              "          const element = document.querySelector('#df-7e0f28a7-7e05-472d-9196-f39edc287725');\n",
              "          const dataTable =\n",
              "            await google.colab.kernel.invokeFunction('convertToInteractive',\n",
              "                                                     [key], {});\n",
              "          if (!dataTable) return;\n",
              "\n",
              "          const docLinkHtml = 'Like what you see? Visit the ' +\n",
              "            '<a target=\"_blank\" href=https://colab.research.google.com/notebooks/data_table.ipynb>data table notebook</a>'\n",
              "            + ' to learn more about interactive tables.';\n",
              "          element.innerHTML = '';\n",
              "          dataTable['output_type'] = 'display_data';\n",
              "          await google.colab.output.renderOutput(dataTable, element);\n",
              "          const docLink = document.createElement('div');\n",
              "          docLink.innerHTML = docLinkHtml;\n",
              "          element.appendChild(docLink);\n",
              "        }\n",
              "      </script>\n",
              "    </div>\n",
              "  </div>\n",
              "  "
            ]
          },
          "metadata": {},
          "execution_count": 16
        }
      ]
    },
    {
      "cell_type": "code",
      "source": [
        "data2[3:6]"
      ],
      "metadata": {
        "colab": {
          "base_uri": "https://localhost:8080/",
          "height": 143
        },
        "id": "g-XktGCyv_nD",
        "outputId": "2969019e-f26f-43db-af2a-61b1989edcdb"
      },
      "execution_count": 17,
      "outputs": [
        {
          "output_type": "execute_result",
          "data": {
            "text/plain": [
              "          0    1     2    3    4     5    6    7\n",
              "2019.2   성별   여자  42.5  5.6  3.9    41  5.4  1.7\n",
              "2019.3  연령별  10대  55.3  4.8  3.9  32.6  3.5    -\n",
              "2019.4  연령별  20대    46  4.2  4.5  38.8  6.4  0.1"
            ],
            "text/html": [
              "\n",
              "  <div id=\"df-625822f2-4a57-49d0-9609-1fd2301a7dde\">\n",
              "    <div class=\"colab-df-container\">\n",
              "      <div>\n",
              "<style scoped>\n",
              "    .dataframe tbody tr th:only-of-type {\n",
              "        vertical-align: middle;\n",
              "    }\n",
              "\n",
              "    .dataframe tbody tr th {\n",
              "        vertical-align: top;\n",
              "    }\n",
              "\n",
              "    .dataframe thead th {\n",
              "        text-align: right;\n",
              "    }\n",
              "</style>\n",
              "<table border=\"1\" class=\"dataframe\">\n",
              "  <thead>\n",
              "    <tr style=\"text-align: right;\">\n",
              "      <th></th>\n",
              "      <th>0</th>\n",
              "      <th>1</th>\n",
              "      <th>2</th>\n",
              "      <th>3</th>\n",
              "      <th>4</th>\n",
              "      <th>5</th>\n",
              "      <th>6</th>\n",
              "      <th>7</th>\n",
              "    </tr>\n",
              "  </thead>\n",
              "  <tbody>\n",
              "    <tr>\n",
              "      <th>2019.2</th>\n",
              "      <td>성별</td>\n",
              "      <td>여자</td>\n",
              "      <td>42.5</td>\n",
              "      <td>5.6</td>\n",
              "      <td>3.9</td>\n",
              "      <td>41</td>\n",
              "      <td>5.4</td>\n",
              "      <td>1.7</td>\n",
              "    </tr>\n",
              "    <tr>\n",
              "      <th>2019.3</th>\n",
              "      <td>연령별</td>\n",
              "      <td>10대</td>\n",
              "      <td>55.3</td>\n",
              "      <td>4.8</td>\n",
              "      <td>3.9</td>\n",
              "      <td>32.6</td>\n",
              "      <td>3.5</td>\n",
              "      <td>-</td>\n",
              "    </tr>\n",
              "    <tr>\n",
              "      <th>2019.4</th>\n",
              "      <td>연령별</td>\n",
              "      <td>20대</td>\n",
              "      <td>46</td>\n",
              "      <td>4.2</td>\n",
              "      <td>4.5</td>\n",
              "      <td>38.8</td>\n",
              "      <td>6.4</td>\n",
              "      <td>0.1</td>\n",
              "    </tr>\n",
              "  </tbody>\n",
              "</table>\n",
              "</div>\n",
              "      <button class=\"colab-df-convert\" onclick=\"convertToInteractive('df-625822f2-4a57-49d0-9609-1fd2301a7dde')\"\n",
              "              title=\"Convert this dataframe to an interactive table.\"\n",
              "              style=\"display:none;\">\n",
              "        \n",
              "  <svg xmlns=\"http://www.w3.org/2000/svg\" height=\"24px\"viewBox=\"0 0 24 24\"\n",
              "       width=\"24px\">\n",
              "    <path d=\"M0 0h24v24H0V0z\" fill=\"none\"/>\n",
              "    <path d=\"M18.56 5.44l.94 2.06.94-2.06 2.06-.94-2.06-.94-.94-2.06-.94 2.06-2.06.94zm-11 1L8.5 8.5l.94-2.06 2.06-.94-2.06-.94L8.5 2.5l-.94 2.06-2.06.94zm10 10l.94 2.06.94-2.06 2.06-.94-2.06-.94-.94-2.06-.94 2.06-2.06.94z\"/><path d=\"M17.41 7.96l-1.37-1.37c-.4-.4-.92-.59-1.43-.59-.52 0-1.04.2-1.43.59L10.3 9.45l-7.72 7.72c-.78.78-.78 2.05 0 2.83L4 21.41c.39.39.9.59 1.41.59.51 0 1.02-.2 1.41-.59l7.78-7.78 2.81-2.81c.8-.78.8-2.07 0-2.86zM5.41 20L4 18.59l7.72-7.72 1.47 1.35L5.41 20z\"/>\n",
              "  </svg>\n",
              "      </button>\n",
              "      \n",
              "  <style>\n",
              "    .colab-df-container {\n",
              "      display:flex;\n",
              "      flex-wrap:wrap;\n",
              "      gap: 12px;\n",
              "    }\n",
              "\n",
              "    .colab-df-convert {\n",
              "      background-color: #E8F0FE;\n",
              "      border: none;\n",
              "      border-radius: 50%;\n",
              "      cursor: pointer;\n",
              "      display: none;\n",
              "      fill: #1967D2;\n",
              "      height: 32px;\n",
              "      padding: 0 0 0 0;\n",
              "      width: 32px;\n",
              "    }\n",
              "\n",
              "    .colab-df-convert:hover {\n",
              "      background-color: #E2EBFA;\n",
              "      box-shadow: 0px 1px 2px rgba(60, 64, 67, 0.3), 0px 1px 3px 1px rgba(60, 64, 67, 0.15);\n",
              "      fill: #174EA6;\n",
              "    }\n",
              "\n",
              "    [theme=dark] .colab-df-convert {\n",
              "      background-color: #3B4455;\n",
              "      fill: #D2E3FC;\n",
              "    }\n",
              "\n",
              "    [theme=dark] .colab-df-convert:hover {\n",
              "      background-color: #434B5C;\n",
              "      box-shadow: 0px 1px 3px 1px rgba(0, 0, 0, 0.15);\n",
              "      filter: drop-shadow(0px 1px 2px rgba(0, 0, 0, 0.3));\n",
              "      fill: #FFFFFF;\n",
              "    }\n",
              "  </style>\n",
              "\n",
              "      <script>\n",
              "        const buttonEl =\n",
              "          document.querySelector('#df-625822f2-4a57-49d0-9609-1fd2301a7dde button.colab-df-convert');\n",
              "        buttonEl.style.display =\n",
              "          google.colab.kernel.accessAllowed ? 'block' : 'none';\n",
              "\n",
              "        async function convertToInteractive(key) {\n",
              "          const element = document.querySelector('#df-625822f2-4a57-49d0-9609-1fd2301a7dde');\n",
              "          const dataTable =\n",
              "            await google.colab.kernel.invokeFunction('convertToInteractive',\n",
              "                                                     [key], {});\n",
              "          if (!dataTable) return;\n",
              "\n",
              "          const docLinkHtml = 'Like what you see? Visit the ' +\n",
              "            '<a target=\"_blank\" href=https://colab.research.google.com/notebooks/data_table.ipynb>data table notebook</a>'\n",
              "            + ' to learn more about interactive tables.';\n",
              "          element.innerHTML = '';\n",
              "          dataTable['output_type'] = 'display_data';\n",
              "          await google.colab.output.renderOutput(dataTable, element);\n",
              "          const docLink = document.createElement('div');\n",
              "          docLink.innerHTML = docLinkHtml;\n",
              "          element.appendChild(docLink);\n",
              "        }\n",
              "      </script>\n",
              "    </div>\n",
              "  </div>\n",
              "  "
            ]
          },
          "metadata": {},
          "execution_count": 17
        }
      ]
    },
    {
      "cell_type": "code",
      "source": [
        "data2.describe()"
      ],
      "metadata": {
        "colab": {
          "base_uri": "https://localhost:8080/",
          "height": 175
        },
        "id": "CWRrG80fwOUc",
        "outputId": "76159a1f-b911-4a87-8893-ef6be376a707"
      },
      "execution_count": 18,
      "outputs": [
        {
          "output_type": "execute_result",
          "data": {
            "text/plain": [
              "          0    1     2    3    4     5    6   7\n",
              "count    53   53    53   53   53    53   53  53\n",
              "unique   33   53    51   36   38    48   36  28\n",
              "top     연령별  컬럼1  44.5  4.3  3.9  32.4  5.3   -\n",
              "freq      6    1     2    4    3     2    3   6"
            ],
            "text/html": [
              "\n",
              "  <div id=\"df-c4008302-ad41-4a59-956f-0309bafa4bdf\">\n",
              "    <div class=\"colab-df-container\">\n",
              "      <div>\n",
              "<style scoped>\n",
              "    .dataframe tbody tr th:only-of-type {\n",
              "        vertical-align: middle;\n",
              "    }\n",
              "\n",
              "    .dataframe tbody tr th {\n",
              "        vertical-align: top;\n",
              "    }\n",
              "\n",
              "    .dataframe thead th {\n",
              "        text-align: right;\n",
              "    }\n",
              "</style>\n",
              "<table border=\"1\" class=\"dataframe\">\n",
              "  <thead>\n",
              "    <tr style=\"text-align: right;\">\n",
              "      <th></th>\n",
              "      <th>0</th>\n",
              "      <th>1</th>\n",
              "      <th>2</th>\n",
              "      <th>3</th>\n",
              "      <th>4</th>\n",
              "      <th>5</th>\n",
              "      <th>6</th>\n",
              "      <th>7</th>\n",
              "    </tr>\n",
              "  </thead>\n",
              "  <tbody>\n",
              "    <tr>\n",
              "      <th>count</th>\n",
              "      <td>53</td>\n",
              "      <td>53</td>\n",
              "      <td>53</td>\n",
              "      <td>53</td>\n",
              "      <td>53</td>\n",
              "      <td>53</td>\n",
              "      <td>53</td>\n",
              "      <td>53</td>\n",
              "    </tr>\n",
              "    <tr>\n",
              "      <th>unique</th>\n",
              "      <td>33</td>\n",
              "      <td>53</td>\n",
              "      <td>51</td>\n",
              "      <td>36</td>\n",
              "      <td>38</td>\n",
              "      <td>48</td>\n",
              "      <td>36</td>\n",
              "      <td>28</td>\n",
              "    </tr>\n",
              "    <tr>\n",
              "      <th>top</th>\n",
              "      <td>연령별</td>\n",
              "      <td>컬럼1</td>\n",
              "      <td>44.5</td>\n",
              "      <td>4.3</td>\n",
              "      <td>3.9</td>\n",
              "      <td>32.4</td>\n",
              "      <td>5.3</td>\n",
              "      <td>-</td>\n",
              "    </tr>\n",
              "    <tr>\n",
              "      <th>freq</th>\n",
              "      <td>6</td>\n",
              "      <td>1</td>\n",
              "      <td>2</td>\n",
              "      <td>4</td>\n",
              "      <td>3</td>\n",
              "      <td>2</td>\n",
              "      <td>3</td>\n",
              "      <td>6</td>\n",
              "    </tr>\n",
              "  </tbody>\n",
              "</table>\n",
              "</div>\n",
              "      <button class=\"colab-df-convert\" onclick=\"convertToInteractive('df-c4008302-ad41-4a59-956f-0309bafa4bdf')\"\n",
              "              title=\"Convert this dataframe to an interactive table.\"\n",
              "              style=\"display:none;\">\n",
              "        \n",
              "  <svg xmlns=\"http://www.w3.org/2000/svg\" height=\"24px\"viewBox=\"0 0 24 24\"\n",
              "       width=\"24px\">\n",
              "    <path d=\"M0 0h24v24H0V0z\" fill=\"none\"/>\n",
              "    <path d=\"M18.56 5.44l.94 2.06.94-2.06 2.06-.94-2.06-.94-.94-2.06-.94 2.06-2.06.94zm-11 1L8.5 8.5l.94-2.06 2.06-.94-2.06-.94L8.5 2.5l-.94 2.06-2.06.94zm10 10l.94 2.06.94-2.06 2.06-.94-2.06-.94-.94-2.06-.94 2.06-2.06.94z\"/><path d=\"M17.41 7.96l-1.37-1.37c-.4-.4-.92-.59-1.43-.59-.52 0-1.04.2-1.43.59L10.3 9.45l-7.72 7.72c-.78.78-.78 2.05 0 2.83L4 21.41c.39.39.9.59 1.41.59.51 0 1.02-.2 1.41-.59l7.78-7.78 2.81-2.81c.8-.78.8-2.07 0-2.86zM5.41 20L4 18.59l7.72-7.72 1.47 1.35L5.41 20z\"/>\n",
              "  </svg>\n",
              "      </button>\n",
              "      \n",
              "  <style>\n",
              "    .colab-df-container {\n",
              "      display:flex;\n",
              "      flex-wrap:wrap;\n",
              "      gap: 12px;\n",
              "    }\n",
              "\n",
              "    .colab-df-convert {\n",
              "      background-color: #E8F0FE;\n",
              "      border: none;\n",
              "      border-radius: 50%;\n",
              "      cursor: pointer;\n",
              "      display: none;\n",
              "      fill: #1967D2;\n",
              "      height: 32px;\n",
              "      padding: 0 0 0 0;\n",
              "      width: 32px;\n",
              "    }\n",
              "\n",
              "    .colab-df-convert:hover {\n",
              "      background-color: #E2EBFA;\n",
              "      box-shadow: 0px 1px 2px rgba(60, 64, 67, 0.3), 0px 1px 3px 1px rgba(60, 64, 67, 0.15);\n",
              "      fill: #174EA6;\n",
              "    }\n",
              "\n",
              "    [theme=dark] .colab-df-convert {\n",
              "      background-color: #3B4455;\n",
              "      fill: #D2E3FC;\n",
              "    }\n",
              "\n",
              "    [theme=dark] .colab-df-convert:hover {\n",
              "      background-color: #434B5C;\n",
              "      box-shadow: 0px 1px 3px 1px rgba(0, 0, 0, 0.15);\n",
              "      filter: drop-shadow(0px 1px 2px rgba(0, 0, 0, 0.3));\n",
              "      fill: #FFFFFF;\n",
              "    }\n",
              "  </style>\n",
              "\n",
              "      <script>\n",
              "        const buttonEl =\n",
              "          document.querySelector('#df-c4008302-ad41-4a59-956f-0309bafa4bdf button.colab-df-convert');\n",
              "        buttonEl.style.display =\n",
              "          google.colab.kernel.accessAllowed ? 'block' : 'none';\n",
              "\n",
              "        async function convertToInteractive(key) {\n",
              "          const element = document.querySelector('#df-c4008302-ad41-4a59-956f-0309bafa4bdf');\n",
              "          const dataTable =\n",
              "            await google.colab.kernel.invokeFunction('convertToInteractive',\n",
              "                                                     [key], {});\n",
              "          if (!dataTable) return;\n",
              "\n",
              "          const docLinkHtml = 'Like what you see? Visit the ' +\n",
              "            '<a target=\"_blank\" href=https://colab.research.google.com/notebooks/data_table.ipynb>data table notebook</a>'\n",
              "            + ' to learn more about interactive tables.';\n",
              "          element.innerHTML = '';\n",
              "          dataTable['output_type'] = 'display_data';\n",
              "          await google.colab.output.renderOutput(dataTable, element);\n",
              "          const docLink = document.createElement('div');\n",
              "          docLink.innerHTML = docLinkHtml;\n",
              "          element.appendChild(docLink);\n",
              "        }\n",
              "      </script>\n",
              "    </div>\n",
              "  </div>\n",
              "  "
            ]
          },
          "metadata": {},
          "execution_count": 18
        }
      ]
    },
    {
      "cell_type": "code",
      "source": [
        "data2.mean()"
      ],
      "metadata": {
        "colab": {
          "base_uri": "https://localhost:8080/"
        },
        "id": "CeRmug1ywTRn",
        "outputId": "0deafee5-1ede-4e93-c736-2d7ac6af63fd"
      },
      "execution_count": 19,
      "outputs": [
        {
          "output_type": "stream",
          "name": "stderr",
          "text": [
            "/usr/local/lib/python3.7/dist-packages/ipykernel_launcher.py:1: FutureWarning: Dropping of nuisance columns in DataFrame reductions (with 'numeric_only=None') is deprecated; in a future version this will raise TypeError.  Select only valid columns before calling the reduction.\n",
            "  \"\"\"Entry point for launching an IPython kernel.\n"
          ]
        },
        {
          "output_type": "execute_result",
          "data": {
            "text/plain": [
              "Series([], dtype: float64)"
            ]
          },
          "metadata": {},
          "execution_count": 19
        }
      ]
    },
    {
      "cell_type": "code",
      "source": [
        "data2.dtypes"
      ],
      "metadata": {
        "colab": {
          "base_uri": "https://localhost:8080/"
        },
        "id": "jvPX-GXWwcz8",
        "outputId": "3fbf2ff3-8e45-4acf-8fdf-08efa8763917"
      },
      "execution_count": 20,
      "outputs": [
        {
          "output_type": "execute_result",
          "data": {
            "text/plain": [
              "0    object\n",
              "1    object\n",
              "2    object\n",
              "3    object\n",
              "4    object\n",
              "5    object\n",
              "6    object\n",
              "7    object\n",
              "dtype: object"
            ]
          },
          "metadata": {},
          "execution_count": 20
        }
      ]
    }
  ]
}