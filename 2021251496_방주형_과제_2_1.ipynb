{
  "nbformat": 4,
  "nbformat_minor": 0,
  "metadata": {
    "colab": {
      "name": "2021251496 방주형 과제_2-1.ipynb",
      "provenance": [],
      "collapsed_sections": [],
      "authorship_tag": "ABX9TyNWVwJ1/0QzAorrpAN21B/l",
      "include_colab_link": true
    },
    "kernelspec": {
      "name": "python3",
      "display_name": "Python 3"
    },
    "language_info": {
      "name": "python"
    },
    "accelerator": "GPU"
  },
  "cells": [
    {
      "cell_type": "markdown",
      "metadata": {
        "id": "view-in-github",
        "colab_type": "text"
      },
      "source": [
        "<a href=\"https://colab.research.google.com/github/tinypenguin-Bang/Machine-Deep-Learning-HW/blob/main/2021251496_%EB%B0%A9%EC%A3%BC%ED%98%95_%EA%B3%BC%EC%A0%9C_2_1.ipynb\" target=\"_parent\"><img src=\"https://colab.research.google.com/assets/colab-badge.svg\" alt=\"Open In Colab\"/></a>"
      ]
    },
    {
      "cell_type": "markdown",
      "source": [
        "# MNIST, Fashion MNIST 데이터 분류 CNN 모델"
      ],
      "metadata": {
        "id": "6dv1F0mUc9bQ"
      }
    },
    {
      "cell_type": "markdown",
      "source": [
        "*   Tensorflow 라이브러리 불러오기\n",
        "*   Tensorflow 내의 MNIST 데이터셋 가져오기 (MNIST : 숫자 손글씨 데이터)\n",
        "\n",
        "\n",
        "*   train / test set 저장\n"
      ],
      "metadata": {
        "id": "hNzp6TNUdXtg"
      }
    },
    {
      "cell_type": "code",
      "execution_count": 1,
      "metadata": {
        "id": "GvkBWtyhc4tx",
        "colab": {
          "base_uri": "https://localhost:8080/"
        },
        "outputId": "1e58d36b-b5fa-4a44-b9fc-f43b14c74123"
      },
      "outputs": [
        {
          "output_type": "stream",
          "name": "stdout",
          "text": [
            "Downloading data from https://storage.googleapis.com/tensorflow/tf-keras-datasets/mnist.npz\n",
            "11493376/11490434 [==============================] - 0s 0us/step\n",
            "11501568/11490434 [==============================] - 0s 0us/step\n"
          ]
        }
      ],
      "source": [
        "import tensorflow as tf                                   # Tensorflow 라이브러리\n",
        "mnist = tf.keras.datasets.mnist                           # Tensorflow에 내장된 MNIST 데이터셋 가져오기\n",
        "\n",
        "(x_train, y_train), (x_test, y_test) = mnist.load_data()  # MNIST 데이터셋 기반 train / test 데이터셋 저장\n"
      ]
    },
    {
      "cell_type": "markdown",
      "source": [
        "*   데이터 type 및 shape 확인"
      ],
      "metadata": {
        "id": "ixjUgyZVhIUF"
      }
    },
    {
      "cell_type": "code",
      "source": [
        "type(x_train)"
      ],
      "metadata": {
        "colab": {
          "base_uri": "https://localhost:8080/"
        },
        "id": "0WnpQCEwhIje",
        "outputId": "30766f93-9be8-44e0-e4d0-c13fc3b0d5c4"
      },
      "execution_count": 2,
      "outputs": [
        {
          "output_type": "execute_result",
          "data": {
            "text/plain": [
              "numpy.ndarray"
            ]
          },
          "metadata": {},
          "execution_count": 2
        }
      ]
    },
    {
      "cell_type": "code",
      "source": [
        "x_train.shape"
      ],
      "metadata": {
        "colab": {
          "base_uri": "https://localhost:8080/"
        },
        "id": "HoaLG54YhJDu",
        "outputId": "ac62fd97-aac5-43b8-c3bf-a83f241cf323"
      },
      "execution_count": 3,
      "outputs": [
        {
          "output_type": "execute_result",
          "data": {
            "text/plain": [
              "(60000, 28, 28)"
            ]
          },
          "metadata": {},
          "execution_count": 3
        }
      ]
    },
    {
      "cell_type": "code",
      "source": [
        "y_train.shape"
      ],
      "metadata": {
        "colab": {
          "base_uri": "https://localhost:8080/"
        },
        "id": "Ycmg_uIWhI5H",
        "outputId": "dc9c5ae5-0981-45c4-cf6c-b590a162cb9b"
      },
      "execution_count": 4,
      "outputs": [
        {
          "output_type": "execute_result",
          "data": {
            "text/plain": [
              "(60000,)"
            ]
          },
          "metadata": {},
          "execution_count": 4
        }
      ]
    },
    {
      "cell_type": "code",
      "source": [
        "x_test.shape"
      ],
      "metadata": {
        "colab": {
          "base_uri": "https://localhost:8080/"
        },
        "id": "3_cN1VNjhIu9",
        "outputId": "03d0a6d2-3db5-4916-a73a-44820ffcef1d"
      },
      "execution_count": 5,
      "outputs": [
        {
          "output_type": "execute_result",
          "data": {
            "text/plain": [
              "(10000, 28, 28)"
            ]
          },
          "metadata": {},
          "execution_count": 5
        }
      ]
    },
    {
      "cell_type": "code",
      "source": [
        "y_test.shape"
      ],
      "metadata": {
        "colab": {
          "base_uri": "https://localhost:8080/"
        },
        "id": "fdr5cgEthc2W",
        "outputId": "0c0336f3-4aad-4cc3-c9fb-e75b26b1334e"
      },
      "execution_count": 6,
      "outputs": [
        {
          "output_type": "execute_result",
          "data": {
            "text/plain": [
              "(10000,)"
            ]
          },
          "metadata": {},
          "execution_count": 6
        }
      ]
    },
    {
      "cell_type": "markdown",
      "source": [
        "*   60000개의 train data와 10000개의 test data 확인\n",
        "*   이미지 데이터당 (28,28) 배열 확인\n",
        "*   60000개의 train data의 성능 확인을 위해 5000개를 validation set으로 변경 (검증 set)"
      ],
      "metadata": {
        "id": "m7bd9HWyi13U"
      }
    },
    {
      "cell_type": "code",
      "source": [
        "# train set 에서 5000개를 validation set으로 변경\n",
        "x_val, y_val = x_train[55000:,:], y_train[55000:]\n",
        "x_train, y_train = x_train[:55000, :], y_train[:55000]"
      ],
      "metadata": {
        "id": "5R78KdhdjUrj"
      },
      "execution_count": 7,
      "outputs": []
    },
    {
      "cell_type": "code",
      "source": [
        "print(x_train.shape)  # 학습 set\n",
        "print(x_val.shape)    # 검증 set"
      ],
      "metadata": {
        "colab": {
          "base_uri": "https://localhost:8080/"
        },
        "id": "wRRex6fFjjoN",
        "outputId": "5ea2d2be-4a0b-42d3-b1bb-212704b38fe0"
      },
      "execution_count": 8,
      "outputs": [
        {
          "output_type": "stream",
          "name": "stdout",
          "text": [
            "(55000, 28, 28)\n",
            "(5000, 28, 28)\n"
          ]
        }
      ]
    },
    {
      "cell_type": "markdown",
      "source": [
        "*   Numpy 라이브러리 불러오기\n",
        "*   train / test set 데이터 표준화 (전처리)"
      ],
      "metadata": {
        "id": "IUCGnPBhj459"
      }
    },
    {
      "cell_type": "code",
      "source": [
        "# train / test set 데이터 표준화 (전처리)\n",
        "import numpy as np\n",
        "mean = np.mean(x_train, axis=0)  # 평균 (28 x 28 이미지)"
      ],
      "metadata": {
        "id": "MzfUVMWaj5M1"
      },
      "execution_count": 9,
      "outputs": []
    },
    {
      "cell_type": "code",
      "source": [
        "mean.shape"
      ],
      "metadata": {
        "colab": {
          "base_uri": "https://localhost:8080/"
        },
        "id": "urYA9vEWkXH1",
        "outputId": "3f5ca022-8b96-497f-e425-119fc8902ac0"
      },
      "execution_count": 10,
      "outputs": [
        {
          "output_type": "execute_result",
          "data": {
            "text/plain": [
              "(28, 28)"
            ]
          },
          "metadata": {},
          "execution_count": 10
        }
      ]
    },
    {
      "cell_type": "code",
      "source": [
        "std = np.std(x_train)    # 표준편차"
      ],
      "metadata": {
        "id": "jPxhcoB1kXaE"
      },
      "execution_count": 11,
      "outputs": []
    },
    {
      "cell_type": "code",
      "source": [
        "std"
      ],
      "metadata": {
        "colab": {
          "base_uri": "https://localhost:8080/"
        },
        "id": "SiZtTsdykezN",
        "outputId": "6cab018e-be36-4ee1-d17d-57800e5151b5"
      },
      "execution_count": 12,
      "outputs": [
        {
          "output_type": "execute_result",
          "data": {
            "text/plain": [
              "78.5901436214457"
            ]
          },
          "metadata": {},
          "execution_count": 12
        }
      ]
    },
    {
      "cell_type": "code",
      "source": [
        "x_train_centered = (x_train-mean)/std     # 학습 데이터 표준화\n",
        "x_val_centered = (x_val-mean)/std         # 검증 데이터 표준화\n",
        "x_test_centered = (x_test-mean)/std       # 테스트 데이터 표준화"
      ],
      "metadata": {
        "id": "4IJzKs-gkhNX"
      },
      "execution_count": 13,
      "outputs": []
    },
    {
      "cell_type": "code",
      "source": [
        "x_train_centered.shape"
      ],
      "metadata": {
        "colab": {
          "base_uri": "https://localhost:8080/"
        },
        "id": "PPUoB2WvkhDd",
        "outputId": "c6370bdd-4307-4ba4-a247-f9b57302f32b"
      },
      "execution_count": 14,
      "outputs": [
        {
          "output_type": "execute_result",
          "data": {
            "text/plain": [
              "(55000, 28, 28)"
            ]
          },
          "metadata": {},
          "execution_count": 14
        }
      ]
    },
    {
      "cell_type": "markdown",
      "source": [
        "*   One Hot Encoding (데이터를 단순한 숫자에서 수많은 0과 하나의 1이 있는 1차원 배열로 변경하는 것)\n",
        "*   keras를 활용, to_categorical() 함수를 통해 One Hot Encoding으로 변경 가능"
      ],
      "metadata": {
        "id": "9u2BYkqypMpS"
      }
    },
    {
      "cell_type": "code",
      "source": [
        "# one hot encoding\n",
        "from tensorflow.keras.utils import to_categorical\n",
        "\n",
        "y_train_onehot = to_categorical(y_train)\n",
        "y_val_onehot = to_categorical(y_val)\n",
        "y_test_onehot = to_categorical(y_test)"
      ],
      "metadata": {
        "id": "JgLj6EBFl7Cs"
      },
      "execution_count": 15,
      "outputs": []
    },
    {
      "cell_type": "code",
      "source": [
        "print(y_train[0])\n",
        "print(y_train_onehot[0])"
      ],
      "metadata": {
        "colab": {
          "base_uri": "https://localhost:8080/"
        },
        "id": "p-SiIn6rmijk",
        "outputId": "269d180c-0ee5-4613-a904-b0ab8fe1c5ac"
      },
      "execution_count": 16,
      "outputs": [
        {
          "output_type": "stream",
          "name": "stdout",
          "text": [
            "5\n",
            "[0. 0. 0. 0. 0. 1. 0. 0. 0. 0.]\n"
          ]
        }
      ]
    },
    {
      "cell_type": "markdown",
      "source": [
        "*   CNN 모델 만들기\n",
        "*   keras 활용, layers와 models 도입하여 parameter 설정"
      ],
      "metadata": {
        "id": "Xtrf6hfbrUwC"
      }
    },
    {
      "cell_type": "code",
      "source": [
        "# model 만들기\n",
        "\n",
        "from tensorflow.keras import layers, models\n",
        "\n",
        "model = models.Sequential()       # 모델 선언"
      ],
      "metadata": {
        "id": "Fvz5UrdKzdaf"
      },
      "execution_count": 17,
      "outputs": []
    },
    {
      "cell_type": "code",
      "source": [
        "model.add(layers.Conv2D(32,(5,5), padding='valid', activation='relu', input_shape=(28,28,1)))   # 1st 2D Conv. layer"
      ],
      "metadata": {
        "id": "1gIq78Je0bX9"
      },
      "execution_count": 18,
      "outputs": []
    },
    {
      "cell_type": "code",
      "source": [
        "model.add(layers.MaxPool2D(2,2))                                        # 1st Pool. layer\n",
        "model.add(layers.Conv2D(64,(5,5), padding='valid', activation='relu'))  # 2nd 2D Conv. layer\n",
        "model.add(layers.MaxPool2D(2,2))                                        # 2nd Pool. layer\n",
        "model.add(layers.Flatten())                                             # Flatten layer"
      ],
      "metadata": {
        "id": "70jRwZlXzdPf"
      },
      "execution_count": 19,
      "outputs": []
    },
    {
      "cell_type": "code",
      "source": [
        "# dense layer에 넣기\n",
        "model.add(layers.Dense(1024, activation='relu'))                        # Dense layer (Relu 함수 기반 DNN)\n",
        "model.add(layers.Dropout(0.5))                                          # Dropout layer (Overfitting 방지)\n",
        "model.add(layers.Dense(10, activation='softmax'))                       # Classification layer (softmax 함수 기반)"
      ],
      "metadata": {
        "id": "6EL0mbswzjZv"
      },
      "execution_count": 20,
      "outputs": []
    },
    {
      "cell_type": "code",
      "source": [
        "model.summary()"
      ],
      "metadata": {
        "colab": {
          "base_uri": "https://localhost:8080/"
        },
        "id": "d4VCk19Pzmtm",
        "outputId": "6bf5b27d-1731-4a61-e896-e92b92ca307f"
      },
      "execution_count": 21,
      "outputs": [
        {
          "output_type": "stream",
          "name": "stdout",
          "text": [
            "Model: \"sequential\"\n",
            "_________________________________________________________________\n",
            " Layer (type)                Output Shape              Param #   \n",
            "=================================================================\n",
            " conv2d (Conv2D)             (None, 24, 24, 32)        832       \n",
            "                                                                 \n",
            " max_pooling2d (MaxPooling2D  (None, 12, 12, 32)       0         \n",
            " )                                                               \n",
            "                                                                 \n",
            " conv2d_1 (Conv2D)           (None, 8, 8, 64)          51264     \n",
            "                                                                 \n",
            " max_pooling2d_1 (MaxPooling  (None, 4, 4, 64)         0         \n",
            " 2D)                                                             \n",
            "                                                                 \n",
            " flatten (Flatten)           (None, 1024)              0         \n",
            "                                                                 \n",
            " dense (Dense)               (None, 1024)              1049600   \n",
            "                                                                 \n",
            " dropout (Dropout)           (None, 1024)              0         \n",
            "                                                                 \n",
            " dense_1 (Dense)             (None, 10)                10250     \n",
            "                                                                 \n",
            "=================================================================\n",
            "Total params: 1,111,946\n",
            "Trainable params: 1,111,946\n",
            "Non-trainable params: 0\n",
            "_________________________________________________________________\n"
          ]
        }
      ]
    },
    {
      "cell_type": "code",
      "source": [
        "model.compile(loss='categorical_crossentropy', optimizer='adam', metrics=['acc'])       # loss function, optimizer, metrics 설정"
      ],
      "metadata": {
        "id": "5ayGSgPyzoOW"
      },
      "execution_count": 22,
      "outputs": []
    },
    {
      "cell_type": "code",
      "source": [
        "x_train_c = x_train_centered.reshape(-1, 28,28,1)  # -1은 추정으로 정한다\n",
        "x_val_c = x_val_centered.reshape(-1,28,28,1)\n",
        "x_test_c = x_test_centered.reshape(-1,28,28,1)"
      ],
      "metadata": {
        "id": "53zzlKXxzqxe"
      },
      "execution_count": 23,
      "outputs": []
    },
    {
      "cell_type": "code",
      "source": [
        "history=model.fit(x_train_c, y_train_onehot, batch_size=64, epochs=20,\n",
        "                  validation_data=(x_val_c, y_val_onehot))                            # training 진행, validation check 병행"
      ],
      "metadata": {
        "colab": {
          "base_uri": "https://localhost:8080/"
        },
        "id": "YMRGSkvNzr3f",
        "outputId": "75a3ce62-7879-458e-bc70-ce580b39375a"
      },
      "execution_count": 24,
      "outputs": [
        {
          "output_type": "stream",
          "name": "stdout",
          "text": [
            "Epoch 1/20\n",
            "860/860 [==============================] - 77s 87ms/step - loss: 0.1299 - acc: 0.9607 - val_loss: 0.0440 - val_acc: 0.9872\n",
            "Epoch 2/20\n",
            "860/860 [==============================] - 69s 80ms/step - loss: 0.0487 - acc: 0.9847 - val_loss: 0.0398 - val_acc: 0.9882\n",
            "Epoch 3/20\n",
            "860/860 [==============================] - 67s 78ms/step - loss: 0.0338 - acc: 0.9893 - val_loss: 0.0330 - val_acc: 0.9914\n",
            "Epoch 4/20\n",
            "860/860 [==============================] - 68s 79ms/step - loss: 0.0282 - acc: 0.9911 - val_loss: 0.0378 - val_acc: 0.9906\n",
            "Epoch 5/20\n",
            "860/860 [==============================] - 68s 80ms/step - loss: 0.0220 - acc: 0.9929 - val_loss: 0.0343 - val_acc: 0.9916\n",
            "Epoch 6/20\n",
            "860/860 [==============================] - 69s 81ms/step - loss: 0.0221 - acc: 0.9931 - val_loss: 0.0312 - val_acc: 0.9914\n",
            "Epoch 7/20\n",
            "860/860 [==============================] - 69s 81ms/step - loss: 0.0174 - acc: 0.9943 - val_loss: 0.0446 - val_acc: 0.9914\n",
            "Epoch 8/20\n",
            "860/860 [==============================] - 68s 79ms/step - loss: 0.0167 - acc: 0.9948 - val_loss: 0.0441 - val_acc: 0.9930\n",
            "Epoch 9/20\n",
            "860/860 [==============================] - 69s 80ms/step - loss: 0.0148 - acc: 0.9955 - val_loss: 0.0353 - val_acc: 0.9934\n",
            "Epoch 10/20\n",
            "860/860 [==============================] - 69s 80ms/step - loss: 0.0148 - acc: 0.9957 - val_loss: 0.0458 - val_acc: 0.9910\n",
            "Epoch 11/20\n",
            "860/860 [==============================] - 69s 80ms/step - loss: 0.0142 - acc: 0.9955 - val_loss: 0.0520 - val_acc: 0.9928\n",
            "Epoch 12/20\n",
            "860/860 [==============================] - 69s 80ms/step - loss: 0.0126 - acc: 0.9960 - val_loss: 0.0368 - val_acc: 0.9932\n",
            "Epoch 13/20\n",
            "860/860 [==============================] - 69s 80ms/step - loss: 0.0100 - acc: 0.9969 - val_loss: 0.0538 - val_acc: 0.9916\n",
            "Epoch 14/20\n",
            "860/860 [==============================] - 69s 81ms/step - loss: 0.0156 - acc: 0.9956 - val_loss: 0.0384 - val_acc: 0.9928\n",
            "Epoch 15/20\n",
            "860/860 [==============================] - 70s 81ms/step - loss: 0.0085 - acc: 0.9972 - val_loss: 0.0611 - val_acc: 0.9892\n",
            "Epoch 16/20\n",
            "860/860 [==============================] - 69s 80ms/step - loss: 0.0101 - acc: 0.9973 - val_loss: 0.0738 - val_acc: 0.9914\n",
            "Epoch 17/20\n",
            "860/860 [==============================] - 69s 80ms/step - loss: 0.0111 - acc: 0.9968 - val_loss: 0.0599 - val_acc: 0.9914\n",
            "Epoch 18/20\n",
            "860/860 [==============================] - 67s 78ms/step - loss: 0.0116 - acc: 0.9971 - val_loss: 0.0545 - val_acc: 0.9922\n",
            "Epoch 19/20\n",
            "860/860 [==============================] - 67s 78ms/step - loss: 0.0121 - acc: 0.9967 - val_loss: 0.0642 - val_acc: 0.9918\n",
            "Epoch 20/20\n",
            "860/860 [==============================] - 68s 79ms/step - loss: 0.0085 - acc: 0.9978 - val_loss: 0.0552 - val_acc: 0.9928\n"
          ]
        }
      ]
    },
    {
      "cell_type": "code",
      "source": [
        "# plot_model함수를 활용하면 도식화된 모델 구성이 출력됨\n",
        "tf.keras.utils.plot_model(model)"
      ],
      "metadata": {
        "id": "eiAtgMMBzv6_",
        "colab": {
          "base_uri": "https://localhost:8080/",
          "height": 856
        },
        "outputId": "cf623e86-b6b3-4943-cc05-12abe6c8c75d"
      },
      "execution_count": 25,
      "outputs": [
        {
          "output_type": "execute_result",
          "data": {
            "text/plain": [
              "<IPython.core.display.Image object>"
            ],
            "image/png": "[encoded data removed]"
          },
          "metadata": {},
          "execution_count": 25
        }
      ]
    },
    {
      "cell_type": "code",
      "source": [
        "import matplotlib.pyplot as plt\n",
        "plt.plot(history.history['loss'], label='training loss')\n",
        "plt.plot(history.history['val_loss'], label = 'validation loss')\n",
        "plt.legend()"
      ],
      "metadata": {
        "id": "eq0XsU_4LVBS",
        "colab": {
          "base_uri": "https://localhost:8080/",
          "height": 283
        },
        "outputId": "ed506685-7c3f-4936-eeb9-93eaf6b77033"
      },
      "execution_count": 27,
      "outputs": [
        {
          "output_type": "execute_result",
          "data": {
            "text/plain": [
              "<matplotlib.legend.Legend at 0x7fe225a95490>"
            ]
          },
          "metadata": {},
          "execution_count": 27
        },
        {
          "output_type": "display_data",
          "data": {
            "text/plain": [
              "<Figure size 432x288 with 1 Axes>"
            ],
            "image/png": "[encoded data removed]"
          },
          "metadata": {
            "needs_background": "light"
          }
        }
      ]
    },
    {
      "cell_type": "code",
      "source": [
        "model.layers[0]"
      ],
      "metadata": {
        "id": "cwAv-78g2Oh2",
        "colab": {
          "base_uri": "https://localhost:8080/"
        },
        "outputId": "0ebf1e6f-92b2-49b8-8950-8a2dc9b7c5d2"
      },
      "execution_count": 28,
      "outputs": [
        {
          "output_type": "execute_result",
          "data": {
            "text/plain": [
              "<keras.layers.convolutional.Conv2D at 0x7fe229d50e90>"
            ]
          },
          "metadata": {},
          "execution_count": 28
        }
      ]
    },
    {
      "cell_type": "code",
      "source": [
        "model.layers[0].weights"
      ],
      "metadata": {
        "id": "sz3FGTgY2Uv9",
        "colab": {
          "base_uri": "https://localhost:8080/"
        },
        "outputId": "9c8bbf27-4f4f-4d2f-a07d-3db10d5d7c01"
      },
      "execution_count": 29,
      "outputs": [
        {
          "output_type": "execute_result",
          "data": {
            "text/plain": [
              "[<tf.Variable 'conv2d/kernel:0' shape=(5, 5, 1, 32) dtype=float32, numpy=\n",
              " array([[[[ 9.21415836e-02,  3.88750434e-03,  2.62568501e-04,\n",
              "            2.78186612e-02, -7.60393813e-02,  1.15520023e-02,\n",
              "           -4.97328080e-02,  1.00741930e-01,  4.89817513e-03,\n",
              "            2.17960607e-02,  1.98328178e-02,  1.27690034e-02,\n",
              "            1.21821716e-01, -4.63630743e-02, -7.32392520e-02,\n",
              "            6.91135647e-03,  2.16338392e-02,  2.80917995e-02,\n",
              "           -2.97309551e-02, -5.78103624e-02,  1.97746679e-02,\n",
              "            5.21931387e-02, -7.35190287e-02, -4.80199233e-02,\n",
              "            2.56852154e-02,  2.48902086e-02,  1.12905748e-01,\n",
              "           -1.61198061e-02,  1.71266533e-02,  6.24152608e-02,\n",
              "            3.11471317e-02,  4.26892787e-02]],\n",
              " \n",
              "         [[ 1.54102249e-02, -3.74729112e-02, -1.28290892e-01,\n",
              "            1.89392902e-02, -1.22162141e-01,  9.81108323e-02,\n",
              "           -3.57318334e-02,  1.37674771e-02,  8.97711590e-02,\n",
              "            4.13433276e-02,  6.43942952e-02, -2.41196919e-02,\n",
              "           -6.25257567e-02, -1.30819501e-02, -7.59961316e-04,\n",
              "            1.48335937e-02,  6.08964264e-02, -8.94391239e-02,\n",
              "            1.14714056e-02, -5.68416826e-02, -5.26813194e-02,\n",
              "           -9.65365991e-02, -1.51339974e-02, -2.22337693e-02,\n",
              "           -3.58755775e-02, -1.45555362e-02,  1.23984739e-01,\n",
              "            4.41416092e-02, -6.25155726e-03,  5.14589362e-02,\n",
              "           -2.55322624e-02,  7.69822299e-02]],\n",
              " \n",
              "         [[ 4.09311615e-02,  4.18016985e-02,  7.53713921e-02,\n",
              "            2.79072812e-03,  2.14296486e-02, -4.84411269e-02,\n",
              "           -2.01565251e-02, -1.55156866e-01, -2.66610701e-02,\n",
              "            5.90976998e-02,  5.75797148e-02,  4.60099615e-02,\n",
              "           -3.79709303e-02,  3.52987722e-02,  5.81408255e-02,\n",
              "           -2.85829771e-02,  1.02913879e-01,  6.29482465e-03,\n",
              "            5.34378625e-02, -7.75551610e-03,  3.33876461e-02,\n",
              "            7.33327270e-02, -6.00612611e-02,  6.34191697e-03,\n",
              "           -3.80219221e-02, -1.74172595e-02,  8.36931169e-02,\n",
              "            1.65417846e-02, -5.64730614e-02, -6.71461597e-02,\n",
              "           -5.27942404e-02,  1.92684941e-02]],\n",
              " \n",
              "         [[ 2.50247382e-02,  1.27154673e-02,  6.12090267e-02,\n",
              "            6.46465225e-03,  1.05369411e-01, -1.31328031e-02,\n",
              "            1.33792058e-01,  5.76604046e-02, -6.17995150e-02,\n",
              "            8.10545459e-02, -2.47304384e-02,  1.41625091e-01,\n",
              "            4.89616506e-02,  6.85112700e-02, -2.41187792e-02,\n",
              "           -5.08266203e-02,  2.06367612e-01, -6.38579354e-02,\n",
              "            2.41065733e-02, -5.97568564e-02,  4.67693433e-02,\n",
              "            2.36323252e-02, -3.42718065e-02,  3.74802649e-02,\n",
              "            4.52551320e-02,  7.78045924e-03, -1.16146011e-02,\n",
              "            1.52292440e-03, -3.57742347e-02,  9.30743571e-03,\n",
              "           -7.47531876e-02, -7.64227435e-02]],\n",
              " \n",
              "         [[ 1.40017524e-01,  1.42516382e-02, -1.46134034e-01,\n",
              "            9.73941060e-05,  9.56581607e-02, -1.78175885e-02,\n",
              "           -1.38550280e-02, -2.49140244e-02, -9.18193832e-02,\n",
              "            1.76851824e-02, -3.41178365e-02,  1.43390194e-01,\n",
              "            2.93499790e-02, -2.95884628e-03, -3.76749374e-02,\n",
              "           -1.25249714e-01,  7.69369453e-02,  6.71418458e-02,\n",
              "           -4.10629716e-03, -8.19452927e-02,  6.72083199e-02,\n",
              "           -1.65024623e-02, -3.27169299e-02, -2.12517992e-01,\n",
              "            5.89134917e-02,  2.74289493e-02, -3.48615684e-02,\n",
              "           -2.61302404e-02, -3.11614908e-02,  7.28094354e-02,\n",
              "            1.35137796e-01,  4.36419584e-02]]],\n",
              " \n",
              " \n",
              "        [[[ 9.97150019e-02,  4.24813628e-02,  6.20621629e-03,\n",
              "           -4.95433398e-02,  1.64188758e-01, -2.26399954e-02,\n",
              "            3.13799605e-02,  7.24113360e-02,  6.02046587e-02,\n",
              "            7.50242099e-02,  2.23779567e-02,  3.00350580e-02,\n",
              "           -6.57327995e-02, -8.52664411e-02,  5.82540482e-02,\n",
              "            6.96939901e-02,  1.12159001e-02, -1.03492759e-01,\n",
              "            3.72756235e-02, -3.46206576e-02, -1.77658480e-02,\n",
              "            4.47629690e-02,  1.04762629e-01, -1.42704016e-02,\n",
              "            4.55484651e-02,  8.64434838e-02, -1.42353661e-02,\n",
              "           -8.79675001e-02,  6.54241419e-04, -3.26536037e-03,\n",
              "           -4.97089839e-03, -1.24647252e-01]],\n",
              " \n",
              "         [[ 1.92100815e-02, -2.81379782e-02, -1.43126622e-01,\n",
              "            4.40597385e-02, -8.10576379e-02,  2.33830381e-02,\n",
              "           -4.85398099e-02,  4.45535965e-03, -9.97734293e-02,\n",
              "           -5.39186187e-02,  2.77490038e-02,  4.77478839e-02,\n",
              "           -1.69531535e-02, -3.55550051e-02, -4.95594479e-02,\n",
              "            1.80506706e-02,  2.05716621e-02,  6.00232836e-03,\n",
              "           -1.12726361e-01,  2.81695947e-02, -3.08910292e-02,\n",
              "            2.69710366e-02, -8.28090087e-02, -3.73757631e-02,\n",
              "           -1.63697917e-02, -1.15237869e-01, -8.92097652e-02,\n",
              "            6.33028075e-02,  1.10077411e-01, -1.82316139e-01,\n",
              "           -4.52378057e-02, -2.22313423e-02]],\n",
              " \n",
              "         [[ 8.77805427e-02, -3.45921591e-02, -7.03117028e-02,\n",
              "            4.34034131e-02, -2.39006221e-01, -5.58444001e-02,\n",
              "           -1.23246655e-01, -6.93348944e-02, -9.27154720e-02,\n",
              "           -2.84886360e-02,  2.96228249e-02, -4.27986085e-02,\n",
              "           -9.71472338e-02,  2.75374409e-02, -9.97966155e-02,\n",
              "           -6.95064366e-02, -8.13712999e-02,  7.43394271e-02,\n",
              "           -6.01361282e-02,  1.06206574e-01,  2.95776557e-02,\n",
              "            7.21374080e-02,  7.41119962e-03,  9.36242640e-02,\n",
              "           -9.23541002e-03, -3.53778526e-02, -7.51981363e-02,\n",
              "            5.07768593e-04, -1.16047496e-02, -6.24532700e-02,\n",
              "           -6.84418157e-02,  6.93825930e-02]],\n",
              " \n",
              "         [[ 1.92673169e-02,  3.91023532e-02,  1.08248778e-01,\n",
              "            2.93943845e-02, -2.22871397e-02, -9.04925242e-02,\n",
              "           -6.23691715e-02, -1.62953138e-01, -5.29841892e-02,\n",
              "            7.19413087e-02, -1.40383095e-01, -9.05278102e-02,\n",
              "           -1.54217603e-02,  2.49173753e-02, -5.88815808e-02,\n",
              "            2.60041468e-02, -4.20163050e-02, -3.76963988e-02,\n",
              "            4.11221720e-02,  2.63728853e-02, -3.69272009e-02,\n",
              "           -1.44726271e-02,  4.06748652e-02,  1.97708845e-01,\n",
              "            8.42787549e-02, -3.51400264e-02, -4.68832254e-02,\n",
              "           -2.19682530e-01,  7.52006322e-02,  9.35655907e-02,\n",
              "           -5.63960988e-03, -1.12661399e-01]],\n",
              " \n",
              "         [[-1.41728699e-01,  9.71008340e-05,  1.90643251e-01,\n",
              "            3.13533619e-02, -6.37355521e-02,  6.11304119e-03,\n",
              "           -5.61686829e-02, -4.83921170e-02, -5.40778302e-02,\n",
              "            9.00853053e-02,  3.65623161e-02,  6.30247667e-02,\n",
              "           -4.04107943e-03,  1.15683168e-01,  6.20846823e-02,\n",
              "            6.96423799e-02,  4.25475352e-02,  6.31275624e-02,\n",
              "           -1.86677184e-02,  8.09610635e-02, -4.23640870e-02,\n",
              "            1.47438599e-02, -7.21082166e-02,  4.00852226e-02,\n",
              "           -4.05560471e-02,  5.30799180e-02,  3.73361260e-02,\n",
              "           -1.49409503e-01,  3.82600017e-02,  4.01332863e-02,\n",
              "            1.38221145e-01, -1.07642718e-01]]],\n",
              " \n",
              " \n",
              "        [[[ 1.63486472e-03, -5.92881925e-02,  2.78246440e-02,\n",
              "            1.77331865e-02,  1.46765396e-01, -1.31784668e-02,\n",
              "            3.43795307e-02,  3.97119597e-02, -4.33286726e-02,\n",
              "           -8.99292529e-02,  5.58912605e-02,  7.08727315e-02,\n",
              "           -5.49665764e-02, -1.22631297e-01, -8.92248377e-02,\n",
              "           -7.01886974e-03, -1.32673904e-01, -7.82803521e-02,\n",
              "            2.70898826e-02,  1.00945383e-01, -1.99389290e-02,\n",
              "           -6.31346107e-02,  9.09922272e-02,  1.10828906e-01,\n",
              "           -9.53657404e-02,  1.36755496e-01, -8.41043890e-02,\n",
              "           -1.85576659e-02, -1.09512575e-01, -9.21428055e-02,\n",
              "           -6.46804124e-02, -1.31900027e-01]],\n",
              " \n",
              "         [[ 5.22034243e-02, -4.56518233e-02, -3.26359016e-03,\n",
              "           -4.25454900e-02,  2.47549057e-01, -1.08347580e-01,\n",
              "           -2.56907698e-02,  1.36707574e-01, -8.36511403e-02,\n",
              "           -1.56795412e-01, -1.17809117e-01,  7.69857392e-02,\n",
              "            6.36249259e-02, -1.09886512e-01, -1.06326222e-01,\n",
              "            9.63261202e-02, -1.61512882e-01,  1.72600821e-02,\n",
              "           -5.00071384e-02,  6.27104864e-02, -5.38522415e-02,\n",
              "            1.28289223e-01, -3.32223773e-02,  7.02345669e-02,\n",
              "           -1.41887134e-02, -1.74881127e-02, -2.19865561e-01,\n",
              "           -4.65905741e-02,  4.54581976e-02, -2.13896250e-03,\n",
              "            1.36992047e-02, -1.93285495e-02]],\n",
              " \n",
              "         [[ 1.78837497e-02, -1.21008515e-01, -6.49638772e-02,\n",
              "           -9.73139927e-02, -9.59973633e-02, -6.81215152e-02,\n",
              "           -1.03003271e-02, -7.67038316e-02, -5.01354411e-02,\n",
              "           -4.58346792e-02, -1.15488991e-01,  2.05498114e-02,\n",
              "            1.08244970e-01, -4.79663014e-02,  5.95049709e-02,\n",
              "            1.62873929e-03, -1.63817689e-01,  5.01435176e-02,\n",
              "            4.86892238e-02, -2.08164100e-03,  5.22775650e-02,\n",
              "            8.31420794e-02, -6.14668895e-03, -1.03902474e-01,\n",
              "           -4.20656875e-02, -1.45981357e-01, -2.61936933e-02,\n",
              "            9.24346969e-02, -9.03727189e-02,  3.07137638e-01,\n",
              "           -9.97480229e-02,  6.35466725e-02]],\n",
              " \n",
              "         [[-6.56388002e-03,  1.59164697e-01, -1.17875509e-01,\n",
              "           -9.96176600e-02, -5.82075678e-02,  2.27353662e-01,\n",
              "           -1.98513102e-02, -4.49712798e-02, -9.28785186e-04,\n",
              "           -3.08497697e-02,  1.25172302e-01, -1.03910007e-01,\n",
              "           -7.77483806e-02,  1.36282369e-02, -1.05405878e-02,\n",
              "           -3.98891233e-02, -1.79599538e-01, -5.93896545e-02,\n",
              "           -3.43075283e-02,  2.09288616e-02,  6.22695200e-02,\n",
              "           -7.90794343e-02,  1.09517640e-02,  2.03185990e-01,\n",
              "            1.17633738e-01,  8.89507607e-02,  8.18956122e-02,\n",
              "            2.06162527e-01, -8.49476829e-03,  5.06157391e-02,\n",
              "           -9.56582371e-03,  6.45887107e-02]],\n",
              " \n",
              "         [[ 4.63612601e-02,  1.49079934e-02,  1.33926660e-01,\n",
              "           -6.44460246e-02,  3.11757773e-02,  1.92354262e-01,\n",
              "           -1.03866480e-01, -5.67867309e-02, -2.94125732e-02,\n",
              "            1.24942899e-01,  2.42231898e-02, -4.92369980e-02,\n",
              "           -3.44963558e-02, -8.06447212e-03,  5.43850400e-02,\n",
              "            8.64505991e-02, -4.43615243e-02,  6.43627122e-02,\n",
              "           -5.88230081e-02, -4.30530757e-02,  2.40549408e-02,\n",
              "           -6.68146610e-02, -5.52487858e-02,  8.95477235e-02,\n",
              "           -1.19194183e-02,  3.30309458e-02, -3.87313887e-02,\n",
              "            9.57306251e-02, -1.34958059e-01, -1.31507948e-01,\n",
              "            1.22796558e-01,  1.15030803e-01]]],\n",
              " \n",
              " \n",
              "        [[[-1.37770340e-01, -7.93678835e-02,  3.72974053e-02,\n",
              "           -2.41625719e-02, -1.58222720e-01,  1.35352954e-01,\n",
              "            9.22672376e-02,  2.18627248e-02, -8.12415928e-02,\n",
              "            2.66257692e-02,  6.94995075e-02, -1.00197524e-01,\n",
              "           -3.25309411e-02, -4.85797189e-02, -7.76479989e-02,\n",
              "           -6.36466444e-02,  8.31465796e-02,  1.31427152e-02,\n",
              "            8.22479427e-02, -1.67005565e-02,  4.87753423e-03,\n",
              "           -9.36951563e-02, -1.78648364e-02, -9.69713405e-02,\n",
              "           -1.11030675e-01,  1.68537661e-01, -7.16079026e-02,\n",
              "            4.14224379e-02,  1.10683050e-02,  3.29739563e-02,\n",
              "            6.04628213e-02, -7.61531247e-03]],\n",
              " \n",
              "         [[-9.93438438e-02, -1.48709556e-02,  1.47107705e-01,\n",
              "           -1.44306105e-02,  8.17753300e-02,  1.44644484e-01,\n",
              "            8.64726827e-02,  6.48688152e-02,  1.29143884e-02,\n",
              "            4.35329862e-02,  4.91860397e-02, -1.59717277e-01,\n",
              "            5.19341491e-02, -1.56169102e-01,  9.95774567e-02,\n",
              "            1.11503504e-01, -1.01291008e-01,  7.24265203e-02,\n",
              "           -6.91364110e-02, -4.86021340e-02, -5.06041162e-02,\n",
              "           -4.49999757e-02,  1.69087425e-02, -5.85965402e-02,\n",
              "            2.90196016e-02, -1.38662532e-01, -1.44061362e-02,\n",
              "           -1.04050562e-01,  1.05579495e-01,  1.12292036e-01,\n",
              "           -1.91285256e-02,  2.08296850e-01]],\n",
              " \n",
              "         [[-8.63318518e-02,  6.63126558e-02,  6.80491049e-03,\n",
              "           -4.48173471e-02,  1.35428980e-01,  1.00260548e-01,\n",
              "           -1.10271210e-02,  1.78170335e-02, -5.37037179e-02,\n",
              "           -1.00761518e-01,  6.77384585e-02, -8.33183825e-02,\n",
              "            6.27403557e-02, -1.20619677e-01,  9.03426558e-02,\n",
              "           -1.06459081e-01, -4.73488048e-02, -1.75066118e-03,\n",
              "            2.29861531e-02, -1.02497377e-01, -9.40770805e-02,\n",
              "            3.72527726e-02,  1.70296934e-02, -2.48778433e-01,\n",
              "            1.55194357e-01, -1.78291053e-01,  1.85750067e-01,\n",
              "           -2.91281915e-03,  8.48951861e-02, -4.19103503e-02,\n",
              "           -5.69498576e-02, -5.91754131e-02]],\n",
              " \n",
              "         [[ 1.37251113e-02,  1.13686912e-01, -1.68880299e-01,\n",
              "           -4.59681004e-02, -4.39850688e-02,  1.13155708e-01,\n",
              "           -1.95783135e-02, -4.83171195e-02,  9.22511611e-03,\n",
              "           -3.48997302e-02,  7.26263598e-02,  1.22887606e-03,\n",
              "            2.38949452e-02, -8.37689489e-02,  3.83838229e-02,\n",
              "           -1.44840479e-01,  7.17242248e-03, -1.22179300e-01,\n",
              "            3.13916802e-02,  1.47321709e-02, -4.55572419e-02,\n",
              "           -1.37360409e-01, -1.27627015e-01, -1.83328047e-01,\n",
              "           -2.21788976e-02,  2.21814767e-01,  4.72756848e-02,\n",
              "            4.27967682e-02,  5.72628342e-02, -2.08497345e-01,\n",
              "           -2.43005194e-02, -1.13465048e-01]],\n",
              " \n",
              "         [[-4.41461243e-02, -5.02718762e-02,  5.90576641e-02,\n",
              "           -4.99828830e-02,  7.62763694e-02, -1.44299731e-01,\n",
              "            1.15173034e-01, -1.86041873e-02, -1.69235785e-02,\n",
              "            5.65226749e-02,  1.67379994e-02,  1.64132230e-02,\n",
              "           -8.92873183e-02,  3.62935364e-02,  6.59745745e-03,\n",
              "            1.82167161e-02, -1.56804989e-03, -3.21634188e-02,\n",
              "           -3.15674879e-02, -4.34145816e-02, -1.83373783e-02,\n",
              "            3.59298550e-02,  9.60531831e-02,  5.65168485e-02,\n",
              "           -1.20716006e-01, -1.31577877e-02,  2.58689746e-02,\n",
              "           -4.74555604e-02, -5.68753146e-02, -7.49899447e-02,\n",
              "            5.86219057e-02,  8.84148106e-02]]],\n",
              " \n",
              " \n",
              "        [[[-3.23344097e-02, -8.76374394e-02, -1.19463541e-01,\n",
              "           -3.34562026e-02, -3.74448225e-02, -1.14812315e-01,\n",
              "           -3.80319022e-02, -2.83807684e-02, -3.14474804e-03,\n",
              "           -3.93473718e-04,  8.11302215e-02,  3.58165279e-02,\n",
              "           -1.43928351e-02,  4.53320779e-02,  6.01880327e-02,\n",
              "            4.27873991e-02,  1.15029335e-01, -1.56447545e-01,\n",
              "           -5.79393981e-03,  4.12746239e-03, -1.50753027e-02,\n",
              "            3.14696203e-03,  1.95478853e-02,  1.09922802e-02,\n",
              "            6.53360598e-03,  7.42631406e-02,  1.37069598e-01,\n",
              "            1.14547992e-02,  7.39253983e-02,  7.15443790e-02,\n",
              "            2.08618976e-02,  5.05267605e-02]],\n",
              " \n",
              "         [[-4.89351451e-02, -1.33914016e-02,  4.37894166e-02,\n",
              "           -1.52360117e-02, -2.65912041e-02, -2.76819970e-02,\n",
              "            2.73705777e-02,  7.47204497e-02,  5.80421127e-02,\n",
              "            1.98258273e-02,  7.20962789e-03,  4.00294736e-02,\n",
              "           -2.91706156e-03,  6.90922067e-02,  3.33718471e-02,\n",
              "            1.70610882e-02,  1.89860880e-01,  8.73369426e-02,\n",
              "            7.30036721e-02,  4.66892757e-02, -1.09429704e-02,\n",
              "           -4.45315279e-02, -4.68103476e-02,  7.53829777e-02,\n",
              "            7.50745460e-02, -1.21427588e-01,  1.71558797e-01,\n",
              "           -8.87824316e-03, -2.31706183e-02, -1.95261426e-02,\n",
              "            8.15013647e-02,  4.45806384e-02]],\n",
              " \n",
              "         [[-7.31464028e-02,  1.09170288e-01,  9.88805294e-02,\n",
              "            5.44214286e-02,  6.62131533e-02, -1.19737707e-01,\n",
              "            3.23390472e-03,  1.12019762e-01,  6.87485337e-02,\n",
              "           -1.18099442e-02, -4.21100631e-02,  4.66845930e-02,\n",
              "            3.20743322e-02, -1.13756424e-02,  1.66369528e-02,\n",
              "           -3.80255654e-02,  8.55370462e-02, -2.42929664e-02,\n",
              "           -6.68770596e-02,  4.92602810e-02,  1.10359117e-02,\n",
              "            9.16356444e-02, -5.45477383e-02,  1.02779567e-01,\n",
              "           -5.99495042e-03, -2.71194261e-02, -7.51510412e-02,\n",
              "           -9.25619975e-02,  6.46344870e-02, -1.83054030e-01,\n",
              "           -9.18528214e-02, -1.53482571e-01]],\n",
              " \n",
              "         [[-6.77853599e-02,  2.14627702e-02, -1.05534792e-01,\n",
              "            8.55228901e-02, -1.77930146e-02, -7.73491263e-02,\n",
              "            8.57308507e-02, -5.41467443e-02,  1.86063554e-02,\n",
              "           -3.78518514e-02, -2.97315791e-02,  9.11316052e-02,\n",
              "           -8.04629549e-02, -1.06904477e-01,  4.84800562e-02,\n",
              "           -1.03871049e-02,  7.21201450e-02, -1.31244063e-01,\n",
              "           -2.87536103e-02,  6.61805272e-02, -1.71819311e-02,\n",
              "            6.95893541e-02, -9.35343876e-02,  1.98154282e-02,\n",
              "           -6.88826740e-02,  1.04851887e-01, -1.12506315e-01,\n",
              "            7.22041205e-02,  1.48669466e-01,  3.05677392e-02,\n",
              "           -6.38692677e-02, -2.53662132e-02]],\n",
              " \n",
              "         [[-4.96469438e-02, -1.40872058e-02, -1.92589033e-02,\n",
              "            1.55683607e-01, -1.86746288e-02, -1.08963728e-01,\n",
              "           -1.77271646e-02, -2.73713693e-02, -1.78751051e-02,\n",
              "            6.26168624e-02,  6.78673089e-02,  2.21297294e-02,\n",
              "           -6.74540251e-02, -1.31508514e-01,  7.29046389e-02,\n",
              "            1.27264723e-01,  3.07646021e-02,  8.39864388e-02,\n",
              "            3.30060646e-02,  8.61020386e-02, -3.82897854e-02,\n",
              "            3.21074985e-02,  1.45417929e-01,  3.71674821e-02,\n",
              "           -5.83658256e-02, -7.34190121e-02, -2.80996785e-02,\n",
              "            2.69606542e-02,  6.97704926e-02,  9.15980414e-02,\n",
              "            5.44494241e-02,  9.41906571e-02]]]], dtype=float32)>,\n",
              " <tf.Variable 'conv2d/bias:0' shape=(32,) dtype=float32, numpy=\n",
              " array([-0.22895719, -0.41715133, -0.4568421 , -0.44122642, -0.38992485,\n",
              "        -0.38161892, -0.33115572, -0.34420052, -0.25425515, -0.42916146,\n",
              "        -0.54205537, -0.436557  , -0.5293048 , -0.24587515, -0.3896405 ,\n",
              "        -0.45577115, -0.3914722 , -0.51312745, -0.4313467 , -0.55394953,\n",
              "        -0.43383676, -0.46819186, -0.43297744, -0.3670552 , -0.37256786,\n",
              "        -0.36367077, -0.37856528, -0.3960321 , -0.41771126, -0.4365312 ,\n",
              "        -0.4326436 , -0.4472709 ], dtype=float32)>]"
            ]
          },
          "metadata": {},
          "execution_count": 29
        }
      ]
    },
    {
      "cell_type": "code",
      "source": [
        "model.layers[0].weights[0].shape"
      ],
      "metadata": {
        "id": "xESCfVyz2XQl",
        "colab": {
          "base_uri": "https://localhost:8080/"
        },
        "outputId": "d8d2fca2-4083-4284-a4d5-a7b7fea20520"
      },
      "execution_count": 30,
      "outputs": [
        {
          "output_type": "execute_result",
          "data": {
            "text/plain": [
              "TensorShape([5, 5, 1, 32])"
            ]
          },
          "metadata": {},
          "execution_count": 30
        }
      ]
    },
    {
      "cell_type": "code",
      "source": [
        "import matplotlib.pyplot as plt\n",
        "\n",
        "plt.imshow(model.layers[0].weights[0][:,:,0,0], cmap='gray')"
      ],
      "metadata": {
        "id": "VLzJf5Kb2bb-",
        "colab": {
          "base_uri": "https://localhost:8080/",
          "height": 283
        },
        "outputId": "8592344c-79e4-46e9-d03b-e194d4bf3784"
      },
      "execution_count": 31,
      "outputs": [
        {
          "output_type": "execute_result",
          "data": {
            "text/plain": [
              "<matplotlib.image.AxesImage at 0x7fe2254af290>"
            ]
          },
          "metadata": {},
          "execution_count": 31
        },
        {
          "output_type": "display_data",
          "data": {
            "text/plain": [
              "<Figure size 432x288 with 1 Axes>"
            ],
            "image/png": "[encoded data removed]"
          },
          "metadata": {
            "needs_background": "light"
          }
        }
      ]
    },
    {
      "cell_type": "code",
      "source": [
        "# conv2d 확인\n",
        "\n",
        "conv2d_1 = models.Model(inputs=model.input, outputs=model.layers[0].output)"
      ],
      "metadata": {
        "id": "Tk2ONPbG4Mz1"
      },
      "execution_count": 32,
      "outputs": []
    },
    {
      "cell_type": "code",
      "source": [
        "conv2d_out = conv2d_1.predict(x_train_c[[0]])"
      ],
      "metadata": {
        "id": "nW3CLWHJ4Oc1"
      },
      "execution_count": 33,
      "outputs": []
    },
    {
      "cell_type": "code",
      "source": [
        "x_train_c.shape"
      ],
      "metadata": {
        "id": "fq8kO6kQ4P6O",
        "colab": {
          "base_uri": "https://localhost:8080/"
        },
        "outputId": "df31cc6e-7c21-46d5-c2de-76f070f00728"
      },
      "execution_count": 34,
      "outputs": [
        {
          "output_type": "execute_result",
          "data": {
            "text/plain": [
              "(55000, 28, 28, 1)"
            ]
          },
          "metadata": {},
          "execution_count": 34
        }
      ]
    },
    {
      "cell_type": "code",
      "source": [
        "conv2d_out.shape"
      ],
      "metadata": {
        "id": "ShUv3yKP4SLl",
        "colab": {
          "base_uri": "https://localhost:8080/"
        },
        "outputId": "3458737f-87fc-4a4d-ad40-0524cb7cb6ef"
      },
      "execution_count": 35,
      "outputs": [
        {
          "output_type": "execute_result",
          "data": {
            "text/plain": [
              "(1, 24, 24, 32)"
            ]
          },
          "metadata": {},
          "execution_count": 35
        }
      ]
    },
    {
      "cell_type": "code",
      "source": [
        "import matplotlib.pyplot as plt\n",
        "\n",
        "plt.imshow(x_train_c[0,:,:,0], cmap='gray')  # 원본\n",
        "plt.figure()\n",
        "plt.imshow(conv2d_out[0,:,:,1],cmap='gray')  # convolution"
      ],
      "metadata": {
        "id": "70VU00-W4UHX",
        "colab": {
          "base_uri": "https://localhost:8080/",
          "height": 531
        },
        "outputId": "bccdb137-a099-4404-b6f9-87983f8e41d2"
      },
      "execution_count": 36,
      "outputs": [
        {
          "output_type": "execute_result",
          "data": {
            "text/plain": [
              "<matplotlib.image.AxesImage at 0x7fe2acbf47d0>"
            ]
          },
          "metadata": {},
          "execution_count": 36
        },
        {
          "output_type": "display_data",
          "data": {
            "text/plain": [
              "<Figure size 432x288 with 1 Axes>"
            ],
            "image/png": "[encoded data removed]"
          },
          "metadata": {
            "needs_background": "light"
          }
        },
        {
          "output_type": "display_data",
          "data": {
            "text/plain": [
              "<Figure size 432x288 with 1 Axes>"
            ],
            "image/png": "[encoded data removed]"
          },
          "metadata": {
            "needs_background": "light"
          }
        }
      ]
    },
    {
      "cell_type": "code",
      "source": [
        "# 32개 필터 적용된 것 확인\n",
        "import matplotlib.pyplot as plt\n",
        "fig = plt.figure(figsize=(10,15))\n",
        "for i in range(32):\n",
        "  fig.add_subplot(7,5,i+1)\n",
        "  plt.imshow(conv2d_out[0,:,:,i], cmap='gray')"
      ],
      "metadata": {
        "id": "9fpa7RDA4che",
        "colab": {
          "base_uri": "https://localhost:8080/",
          "height": 862
        },
        "outputId": "756af1d9-1633-4435-972e-ed7a8d8b59d4"
      },
      "execution_count": 37,
      "outputs": [
        {
          "output_type": "display_data",
          "data": {
            "text/plain": [
              "<Figure size 720x1080 with 32 Axes>"
            ],
            "image/png": "[encoded data removed]"
          },
          "metadata": {
            "needs_background": "light"
          }
        }
      ]
    },
    {
      "cell_type": "code",
      "source": [
        "maxpool_1 = models.Model(inputs=model.input, outputs=model.layers[1].output)"
      ],
      "metadata": {
        "id": "VOr_KM884lI-"
      },
      "execution_count": 38,
      "outputs": []
    },
    {
      "cell_type": "code",
      "source": [
        "maxpool_out = maxpool_1.predict(x_train_c[[0]])"
      ],
      "metadata": {
        "id": "mNQ19efU4mDc"
      },
      "execution_count": 39,
      "outputs": []
    },
    {
      "cell_type": "code",
      "source": [
        "maxpool_out.shape"
      ],
      "metadata": {
        "id": "8IJabDGF4n6k",
        "colab": {
          "base_uri": "https://localhost:8080/"
        },
        "outputId": "dd176f0a-36c0-4b5e-813a-bb5fc26a7db8"
      },
      "execution_count": 40,
      "outputs": [
        {
          "output_type": "execute_result",
          "data": {
            "text/plain": [
              "(1, 12, 12, 32)"
            ]
          },
          "metadata": {},
          "execution_count": 40
        }
      ]
    },
    {
      "cell_type": "code",
      "source": [
        "maxpool_out.max()"
      ],
      "metadata": {
        "id": "Ex2uZMEr4pYt",
        "colab": {
          "base_uri": "https://localhost:8080/"
        },
        "outputId": "041dac37-3b68-4acf-9318-62e873bfcc85"
      },
      "execution_count": 41,
      "outputs": [
        {
          "output_type": "execute_result",
          "data": {
            "text/plain": [
              "1.6402036"
            ]
          },
          "metadata": {},
          "execution_count": 41
        }
      ]
    },
    {
      "cell_type": "code",
      "source": [
        "import matplotlib.pyplot as plt\n",
        "fig = plt.figure(figsize=(10,15))\n",
        "for i in range(32):\n",
        "  fig.add_subplot(7,5,i+1)\n",
        "  plt.imshow(maxpool_out[0,:,:,i], cmap='gray')"
      ],
      "metadata": {
        "id": "qKsc1hTn4qy9",
        "colab": {
          "base_uri": "https://localhost:8080/",
          "height": 860
        },
        "outputId": "ef1be71b-a8e8-40e7-e4e4-e02c84cd18c5"
      },
      "execution_count": 42,
      "outputs": [
        {
          "output_type": "display_data",
          "data": {
            "text/plain": [
              "<Figure size 720x1080 with 32 Axes>"
            ],
            "image/png": "[encoded data removed]"
          },
          "metadata": {
            "needs_background": "light"
          }
        }
      ]
    },
    {
      "cell_type": "code",
      "source": [
        "import matplotlib.pyplot as plt\n",
        "fig = plt.figure(figsize=(10,15))\n",
        "for i in range(32):\n",
        "  fig.add_subplot(7,5,i+1)\n",
        "  plt.imshow(model.layers[0].kernel[:,:,0,i], cmap='gray')\n",
        "plt.show()"
      ],
      "metadata": {
        "id": "3b1a029h4tTl",
        "colab": {
          "base_uri": "https://localhost:8080/",
          "height": 860
        },
        "outputId": "f8f3fdb0-d3d8-4611-c720-bdd929371f90"
      },
      "execution_count": 43,
      "outputs": [
        {
          "output_type": "display_data",
          "data": {
            "text/plain": [
              "<Figure size 720x1080 with 32 Axes>"
            ],
            "image/png": "[encoded data removed]"
          },
          "metadata": {
            "needs_background": "light"
          }
        }
      ]
    },
    {
      "cell_type": "code",
      "source": [
        "maxpool_3 = models.Model(inputs=model.input, outputs=model.layers[3].output)\n",
        "maxpool_out = maxpool_3.predict(x_train_c[[0]])\n",
        "fig = plt.figure(figsize=(10,15))\n",
        "for i in range(32):\n",
        "  fig.add_subplot(7,5,i+1)\n",
        "  plt.imshow(maxpool_out[0,:,:,i], cmap='gray')\n",
        "plt.show()"
      ],
      "metadata": {
        "id": "QehykrfE4zys",
        "colab": {
          "base_uri": "https://localhost:8080/",
          "height": 860
        },
        "outputId": "57572e7b-c87f-4814-9bea-13c8876cea0e"
      },
      "execution_count": 44,
      "outputs": [
        {
          "output_type": "display_data",
          "data": {
            "text/plain": [
              "<Figure size 720x1080 with 32 Axes>"
            ],
            "image/png": "[encoded data removed]"
          },
          "metadata": {
            "needs_background": "light"
          }
        }
      ]
    },
    {
      "cell_type": "code",
      "source": [
        "flat = models.Model(inputs=model.input, outputs=model.layers[4].output)\n",
        "flat_out = flat.predict(x_train_c[[0]])"
      ],
      "metadata": {
        "id": "bjOaUvUU42Wl"
      },
      "execution_count": 45,
      "outputs": []
    },
    {
      "cell_type": "code",
      "source": [
        "flat_out"
      ],
      "metadata": {
        "id": "KdKbEgqA44VG",
        "colab": {
          "base_uri": "https://localhost:8080/"
        },
        "outputId": "72eb90bc-1f2a-4702-e952-f710896b75aa"
      },
      "execution_count": 46,
      "outputs": [
        {
          "output_type": "execute_result",
          "data": {
            "text/plain": [
              "array([[0., 0., 0., ..., 0., 0., 0.]], dtype=float32)"
            ]
          },
          "metadata": {},
          "execution_count": 46
        }
      ]
    },
    {
      "cell_type": "code",
      "source": [
        "import pandas as pd\n",
        "flat_df = pd.Series(flat_out[0])"
      ],
      "metadata": {
        "id": "OjZmUARA45n1"
      },
      "execution_count": 47,
      "outputs": []
    },
    {
      "cell_type": "code",
      "source": [
        "flat_df.describe()"
      ],
      "metadata": {
        "id": "WWMrNKhu5vLc",
        "colab": {
          "base_uri": "https://localhost:8080/"
        },
        "outputId": "7c9b611c-5931-4f19-9b23-2ec186dd13e2"
      },
      "execution_count": 48,
      "outputs": [
        {
          "output_type": "execute_result",
          "data": {
            "text/plain": [
              "count    1024.000000\n",
              "mean        0.078980\n",
              "std         0.329182\n",
              "min         0.000000\n",
              "25%         0.000000\n",
              "50%         0.000000\n",
              "75%         0.000000\n",
              "max         3.416236\n",
              "dtype: float64"
            ]
          },
          "metadata": {},
          "execution_count": 48
        }
      ]
    },
    {
      "cell_type": "code",
      "source": [
        "flat_df.plot()"
      ],
      "metadata": {
        "id": "BtEl1CsK5ve7",
        "colab": {
          "base_uri": "https://localhost:8080/",
          "height": 283
        },
        "outputId": "61b59441-6559-453c-913c-60a6dffbfea4"
      },
      "execution_count": 49,
      "outputs": [
        {
          "output_type": "execute_result",
          "data": {
            "text/plain": [
              "<matplotlib.axes._subplots.AxesSubplot at 0x7fe2acad4f10>"
            ]
          },
          "metadata": {},
          "execution_count": 49
        },
        {
          "output_type": "display_data",
          "data": {
            "text/plain": [
              "<Figure size 432x288 with 1 Axes>"
            ],
            "image/png": "[encoded data removed]"
          },
          "metadata": {
            "needs_background": "light"
          }
        }
      ]
    },
    {
      "cell_type": "markdown",
      "source": [
        "# Fashion MNIST"
      ],
      "metadata": {
        "id": "6B--n83KZuRi"
      }
    },
    {
      "cell_type": "code",
      "source": [
        "import tensorflow as tf\n",
        "from tensorflow import keras\n",
        "import numpy as np\n",
        "import matplotlib.pyplot as plt"
      ],
      "metadata": {
        "id": "TQgrR3dfae1z"
      },
      "execution_count": 50,
      "outputs": []
    },
    {
      "cell_type": "code",
      "source": [
        "fashion_mnist = keras.datasets.fashion_mnist\n",
        "(train_images, train_labels), (test_images, test_labels) = fashion_mnist.load_data()"
      ],
      "metadata": {
        "id": "0k6CoABrZzoJ",
        "colab": {
          "base_uri": "https://localhost:8080/"
        },
        "outputId": "b4c77d8f-23d5-4ecd-8071-72c79b0a8d71"
      },
      "execution_count": 51,
      "outputs": [
        {
          "output_type": "stream",
          "name": "stdout",
          "text": [
            "Downloading data from https://storage.googleapis.com/tensorflow/tf-keras-datasets/train-labels-idx1-ubyte.gz\n",
            "32768/29515 [=================================] - 0s 0us/step\n",
            "40960/29515 [=========================================] - 0s 0us/step\n",
            "Downloading data from https://storage.googleapis.com/tensorflow/tf-keras-datasets/train-images-idx3-ubyte.gz\n",
            "26427392/26421880 [==============================] - 0s 0us/step\n",
            "26435584/26421880 [==============================] - 0s 0us/step\n",
            "Downloading data from https://storage.googleapis.com/tensorflow/tf-keras-datasets/t10k-labels-idx1-ubyte.gz\n",
            "16384/5148 [===============================================================================================] - 0s 0us/step\n",
            "Downloading data from https://storage.googleapis.com/tensorflow/tf-keras-datasets/t10k-images-idx3-ubyte.gz\n",
            "4423680/4422102 [==============================] - 0s 0us/step\n",
            "4431872/4422102 [==============================] - 0s 0us/step\n"
          ]
        }
      ]
    },
    {
      "cell_type": "code",
      "source": [
        "test_images.shape"
      ],
      "metadata": {
        "id": "Z61IAhAvZz1T",
        "colab": {
          "base_uri": "https://localhost:8080/"
        },
        "outputId": "234fc8c9-9bf9-4153-8ed5-032991000924"
      },
      "execution_count": 52,
      "outputs": [
        {
          "output_type": "execute_result",
          "data": {
            "text/plain": [
              "(10000, 28, 28)"
            ]
          },
          "metadata": {},
          "execution_count": 52
        }
      ]
    },
    {
      "cell_type": "code",
      "source": [
        "train_images.shape"
      ],
      "metadata": {
        "id": "BzbW0qJCZ5V0",
        "colab": {
          "base_uri": "https://localhost:8080/"
        },
        "outputId": "42e6211e-59c7-498e-aa0a-8188219d59c4"
      },
      "execution_count": 53,
      "outputs": [
        {
          "output_type": "execute_result",
          "data": {
            "text/plain": [
              "(60000, 28, 28)"
            ]
          },
          "metadata": {},
          "execution_count": 53
        }
      ]
    },
    {
      "cell_type": "code",
      "source": [
        "test_labels"
      ],
      "metadata": {
        "id": "Uiz2BAm_Z7V6",
        "colab": {
          "base_uri": "https://localhost:8080/"
        },
        "outputId": "d9ae588e-a6f1-4bc1-a4f9-a329a854caed"
      },
      "execution_count": 54,
      "outputs": [
        {
          "output_type": "execute_result",
          "data": {
            "text/plain": [
              "array([9, 2, 1, ..., 8, 1, 5], dtype=uint8)"
            ]
          },
          "metadata": {},
          "execution_count": 54
        }
      ]
    },
    {
      "cell_type": "code",
      "source": [
        "plt.figure()\n",
        "plt.imshow(train_images[2], cmap='gray')"
      ],
      "metadata": {
        "id": "PsMfJSmQZ8sR",
        "colab": {
          "base_uri": "https://localhost:8080/",
          "height": 283
        },
        "outputId": "26742161-422d-41b2-b029-554fd39f176e"
      },
      "execution_count": 55,
      "outputs": [
        {
          "output_type": "execute_result",
          "data": {
            "text/plain": [
              "<matplotlib.image.AxesImage at 0x7fe2ac515b90>"
            ]
          },
          "metadata": {},
          "execution_count": 55
        },
        {
          "output_type": "display_data",
          "data": {
            "text/plain": [
              "<Figure size 432x288 with 1 Axes>"
            ],
            "image/png": "[encoded data removed]"
          },
          "metadata": {
            "needs_background": "light"
          }
        }
      ]
    },
    {
      "cell_type": "code",
      "source": [
        "train_labels"
      ],
      "metadata": {
        "id": "jyiuX6R5Z-LL",
        "colab": {
          "base_uri": "https://localhost:8080/"
        },
        "outputId": "946039cb-abf5-4bf2-9d8f-7a71cfc06114"
      },
      "execution_count": 56,
      "outputs": [
        {
          "output_type": "execute_result",
          "data": {
            "text/plain": [
              "array([9, 0, 0, ..., 3, 0, 5], dtype=uint8)"
            ]
          },
          "metadata": {},
          "execution_count": 56
        }
      ]
    },
    {
      "cell_type": "code",
      "source": [
        "label_df = pd.Series(train_labels)\n",
        "label_df.value_counts()"
      ],
      "metadata": {
        "id": "1UWtZmPBaACC",
        "colab": {
          "base_uri": "https://localhost:8080/"
        },
        "outputId": "ac9f244e-f2d8-4ae0-f795-b05ec9388904"
      },
      "execution_count": 57,
      "outputs": [
        {
          "output_type": "execute_result",
          "data": {
            "text/plain": [
              "9    6000\n",
              "0    6000\n",
              "3    6000\n",
              "2    6000\n",
              "7    6000\n",
              "5    6000\n",
              "1    6000\n",
              "6    6000\n",
              "4    6000\n",
              "8    6000\n",
              "dtype: int64"
            ]
          },
          "metadata": {},
          "execution_count": 57
        }
      ]
    },
    {
      "cell_type": "code",
      "source": [
        "train_images = train_images / 255.0\n",
        "test_images = test_images / 255.0"
      ],
      "metadata": {
        "id": "29-umZm2aBTK"
      },
      "execution_count": 58,
      "outputs": []
    },
    {
      "cell_type": "code",
      "source": [
        "class_names = ['T-shirt/top', 'Trouser', 'Pullover', 'Dress', 'Coat',\n",
        "               'Sandal', 'Shirt', 'Sneaker', 'Bag', 'Ankle boot']"
      ],
      "metadata": {
        "id": "Sol1dLloaCu6"
      },
      "execution_count": 59,
      "outputs": []
    },
    {
      "cell_type": "code",
      "source": [
        "plt.figure(figsize=(10,10))\n",
        "for i in range(25):\n",
        "    plt.subplot(5,5,i+1)\n",
        "    plt.xticks([])\n",
        "    plt.yticks([])\n",
        "    plt.grid(False)\n",
        "    plt.imshow(train_images[i])\n",
        "    plt.xlabel(class_names[train_labels[i]])\n",
        "plt.show()"
      ],
      "metadata": {
        "id": "2lPFBJuLaEbx",
        "colab": {
          "base_uri": "https://localhost:8080/",
          "height": 589
        },
        "outputId": "e11db72f-0d6b-4e20-d36d-50c92026660f"
      },
      "execution_count": 60,
      "outputs": [
        {
          "output_type": "display_data",
          "data": {
            "text/plain": [
              "<Figure size 720x720 with 25 Axes>"
            ],
            "image/png": "[encoded data removed]"
          },
          "metadata": {}
        }
      ]
    },
    {
      "cell_type": "code",
      "source": [
        "model = keras.Sequential([\n",
        "    keras.layers.Flatten(input_shape=(28, 28)),\n",
        "    keras.layers.Dense(128, activation='relu'),\n",
        "    keras.layers.Dense(10, activation='softmax')\n",
        "])\n",
        "model.compile(optimizer='adam',\n",
        "              loss='sparse_categorical_crossentropy',\n",
        "              metrics=['accuracy'])\n",
        "model.fit(train_images, train_labels, epochs=10)"
      ],
      "metadata": {
        "id": "Y8UvP04raKIC",
        "colab": {
          "base_uri": "https://localhost:8080/"
        },
        "outputId": "92acca44-bc26-49ee-b8c0-fdc556c93166"
      },
      "execution_count": 61,
      "outputs": [
        {
          "output_type": "stream",
          "name": "stdout",
          "text": [
            "Epoch 1/10\n",
            "1875/1875 [==============================] - 4s 2ms/step - loss: 0.4970 - accuracy: 0.8248\n",
            "Epoch 2/10\n",
            "1875/1875 [==============================] - 4s 2ms/step - loss: 0.3705 - accuracy: 0.8657\n",
            "Epoch 3/10\n",
            "1875/1875 [==============================] - 4s 2ms/step - loss: 0.3328 - accuracy: 0.8783\n",
            "Epoch 4/10\n",
            "1875/1875 [==============================] - 4s 2ms/step - loss: 0.3121 - accuracy: 0.8842\n",
            "Epoch 5/10\n",
            "1875/1875 [==============================] - 4s 2ms/step - loss: 0.2928 - accuracy: 0.8912\n",
            "Epoch 6/10\n",
            "1875/1875 [==============================] - 4s 2ms/step - loss: 0.2786 - accuracy: 0.8977\n",
            "Epoch 7/10\n",
            "1875/1875 [==============================] - 4s 2ms/step - loss: 0.2671 - accuracy: 0.9017\n",
            "Epoch 8/10\n",
            "1875/1875 [==============================] - 4s 2ms/step - loss: 0.2542 - accuracy: 0.9068\n",
            "Epoch 9/10\n",
            "1875/1875 [==============================] - 4s 2ms/step - loss: 0.2458 - accuracy: 0.9090\n",
            "Epoch 10/10\n",
            "1875/1875 [==============================] - 4s 2ms/step - loss: 0.2376 - accuracy: 0.9114\n"
          ]
        },
        {
          "output_type": "execute_result",
          "data": {
            "text/plain": [
              "<keras.callbacks.History at 0x7fe2220cb810>"
            ]
          },
          "metadata": {},
          "execution_count": 61
        }
      ]
    },
    {
      "cell_type": "code",
      "source": [
        "test_loss, test_acc = model.evaluate(test_images,  test_labels, verbose=2)"
      ],
      "metadata": {
        "id": "gfTdcNIoaNbB",
        "colab": {
          "base_uri": "https://localhost:8080/"
        },
        "outputId": "d632650d-f943-4fcd-f77a-b4a2ea7b173e"
      },
      "execution_count": 62,
      "outputs": [
        {
          "output_type": "stream",
          "name": "stdout",
          "text": [
            "313/313 - 0s - loss: 0.3302 - accuracy: 0.8837 - 489ms/epoch - 2ms/step\n"
          ]
        }
      ]
    },
    {
      "cell_type": "code",
      "source": [
        "predictions = model.predict(test_images)"
      ],
      "metadata": {
        "id": "VjLG_s-0aQXb",
        "colab": {
          "base_uri": "https://localhost:8080/"
        },
        "outputId": "9f105327-d85e-42a2-87c1-908ef27bb99a"
      },
      "execution_count": 63,
      "outputs": [
        {
          "output_type": "stream",
          "name": "stdout",
          "text": [
            "WARNING:tensorflow:5 out of the last 5 calls to <function Model.make_predict_function.<locals>.predict_function at 0x7fe221bf8a70> triggered tf.function retracing. Tracing is expensive and the excessive number of tracings could be due to (1) creating @tf.function repeatedly in a loop, (2) passing tensors with different shapes, (3) passing Python objects instead of tensors. For (1), please define your @tf.function outside of the loop. For (2), @tf.function has experimental_relax_shapes=True option that relaxes argument shapes that can avoid unnecessary retracing. For (3), please refer to https://www.tensorflow.org/guide/function#controlling_retracing and https://www.tensorflow.org/api_docs/python/tf/function for  more details.\n"
          ]
        }
      ]
    },
    {
      "cell_type": "code",
      "source": [
        "predictions.shape"
      ],
      "metadata": {
        "id": "PXTPy0WaaRrK",
        "colab": {
          "base_uri": "https://localhost:8080/"
        },
        "outputId": "e7eceddd-81ad-4fdd-c2ed-9bf719506b7c"
      },
      "execution_count": 64,
      "outputs": [
        {
          "output_type": "execute_result",
          "data": {
            "text/plain": [
              "(10000, 10)"
            ]
          },
          "metadata": {},
          "execution_count": 64
        }
      ]
    },
    {
      "cell_type": "code",
      "source": [
        "predictions[0]"
      ],
      "metadata": {
        "id": "PhSsKW1vaS4R",
        "colab": {
          "base_uri": "https://localhost:8080/"
        },
        "outputId": "b844d7a8-8f3f-4c8f-ab81-85feaf32449e"
      },
      "execution_count": 65,
      "outputs": [
        {
          "output_type": "execute_result",
          "data": {
            "text/plain": [
              "array([1.25374315e-08, 6.44586121e-11, 1.24521082e-09, 1.74264639e-12,\n",
              "       1.08869092e-09, 1.43621801e-04, 9.71597114e-09, 6.27945119e-04,\n",
              "       5.35256461e-09, 9.99228358e-01], dtype=float32)"
            ]
          },
          "metadata": {},
          "execution_count": 65
        }
      ]
    },
    {
      "cell_type": "code",
      "source": [
        "predictions[0].max()"
      ],
      "metadata": {
        "id": "bgIGhzXBaUJF",
        "colab": {
          "base_uri": "https://localhost:8080/"
        },
        "outputId": "7eef935b-7b0a-4dc9-af9c-926952a70356"
      },
      "execution_count": 66,
      "outputs": [
        {
          "output_type": "execute_result",
          "data": {
            "text/plain": [
              "0.99922836"
            ]
          },
          "metadata": {},
          "execution_count": 66
        }
      ]
    },
    {
      "cell_type": "code",
      "source": [
        "np.argmax(predictions[0])"
      ],
      "metadata": {
        "id": "AIGe33CdaVSE",
        "colab": {
          "base_uri": "https://localhost:8080/"
        },
        "outputId": "00bff120-5fed-437f-c765-cff83d1c3e13"
      },
      "execution_count": 67,
      "outputs": [
        {
          "output_type": "execute_result",
          "data": {
            "text/plain": [
              "9"
            ]
          },
          "metadata": {},
          "execution_count": 67
        }
      ]
    },
    {
      "cell_type": "code",
      "source": [
        "def plot_image(i, predictions_array, true_label, img):\n",
        "  predictions_array, true_label, img = predictions_array[i], true_label[i], img[i]\n",
        "  plt.grid(False)\n",
        "  plt.xticks([])\n",
        "  plt.yticks([])\n",
        "\n",
        "  plt.imshow(img, cmap=plt.cm.binary)\n",
        "\n",
        "  predicted_label = np.argmax(predictions_array)\n",
        "  if predicted_label == true_label:\n",
        "    color = 'blue'\n",
        "  else:\n",
        "    color = 'red'\n",
        "\n",
        "  plt.xlabel(\"{} {:2.0f}% ({})\".format(class_names[predicted_label],\n",
        "                                100*np.max(predictions_array),\n",
        "                                class_names[true_label]),\n",
        "                                color=color)\n",
        "\n",
        "def plot_value_array(i, predictions_array, true_label):\n",
        "  predictions_array, true_label = predictions_array[i], true_label[i]\n",
        "  plt.grid(False)\n",
        "  plt.xticks([])\n",
        "  plt.yticks([])\n",
        "  thisplot = plt.bar(range(10), predictions_array, color=\"#777777\")\n",
        "  plt.ylim([0, 1])\n",
        "  predicted_label = np.argmax(predictions_array)\n",
        "\n",
        "  thisplot[predicted_label].set_color('red')\n",
        "  thisplot[true_label].set_color('blue')"
      ],
      "metadata": {
        "id": "7g4MN00OaZvj"
      },
      "execution_count": 68,
      "outputs": []
    },
    {
      "cell_type": "code",
      "source": [
        "i = 0\n",
        "plt.figure(figsize=(6,3))\n",
        "plt.subplot(1,2,1)\n",
        "plot_image(i, predictions, test_labels, test_images)\n",
        "plt.subplot(1,2,2)\n",
        "plot_value_array(i, predictions,  test_labels)\n",
        "plt.show()"
      ],
      "metadata": {
        "id": "esXVAm1tahix",
        "colab": {
          "base_uri": "https://localhost:8080/",
          "height": 203
        },
        "outputId": "dfae2d34-2b65-4c4c-b642-737f08963308"
      },
      "execution_count": 69,
      "outputs": [
        {
          "output_type": "display_data",
          "data": {
            "text/plain": [
              "<Figure size 432x216 with 2 Axes>"
            ],
            "image/png": "[encoded data removed]"
          },
          "metadata": {}
        }
      ]
    },
    {
      "cell_type": "code",
      "source": [
        "# 처음 X 개의 테스트 이미지와 예측 레이블, 진짜 레이블을 출력합니다\n",
        "# 올바른 예측은 파랑색으로 잘못된 예측은 빨강색으로 나타냅니다\n",
        "num_rows = 5\n",
        "num_cols = 3\n",
        "num_images = num_rows*num_cols\n",
        "plt.figure(figsize=(2*2*num_cols, 2*num_rows))\n",
        "for i in range(num_images):\n",
        "  plt.subplot(num_rows, 2*num_cols, 2*i+1)\n",
        "  plot_image(i, predictions, test_labels, test_images)\n",
        "  plt.subplot(num_rows, 2*num_cols, 2*i+2)\n",
        "  plot_value_array(i, predictions, test_labels)\n",
        "plt.show()"
      ],
      "metadata": {
        "id": "a2TkW4QxbArS",
        "colab": {
          "base_uri": "https://localhost:8080/",
          "height": 589
        },
        "outputId": "73e39735-9019-412b-de02-d8578bdb5b7b"
      },
      "execution_count": 70,
      "outputs": [
        {
          "output_type": "display_data",
          "data": {
            "text/plain": [
              "<Figure size 864x720 with 30 Axes>"
            ],
            "image/png": "[encoded data removed]"
          },
          "metadata": {}
        }
      ]
    },
    {
      "cell_type": "code",
      "source": [
        "# 테스트 세트에서 이미지 하나를 선택합니다\n",
        "img = test_images[12]\n",
        "\n",
        "print(img.shape)"
      ],
      "metadata": {
        "id": "-QqF5VTqbJaM",
        "colab": {
          "base_uri": "https://localhost:8080/"
        },
        "outputId": "81f1bd8b-7e77-4c6e-d996-844f47233696"
      },
      "execution_count": 75,
      "outputs": [
        {
          "output_type": "stream",
          "name": "stdout",
          "text": [
            "(28, 28)\n"
          ]
        }
      ]
    },
    {
      "cell_type": "code",
      "source": [
        "# 이미지 하나만 사용할 때도 배치에 추가합니다\n",
        "img = (np.expand_dims(img,0))\n",
        "\n",
        "print(img.shape)"
      ],
      "metadata": {
        "id": "3IabP4uTbOXS",
        "colab": {
          "base_uri": "https://localhost:8080/"
        },
        "outputId": "fdbdadb2-703d-4acf-ed48-c6c60e140971"
      },
      "execution_count": 76,
      "outputs": [
        {
          "output_type": "stream",
          "name": "stdout",
          "text": [
            "(1, 28, 28)\n"
          ]
        }
      ]
    },
    {
      "cell_type": "code",
      "source": [
        "predictions_single = model.predict(img)\n",
        "\n",
        "print(predictions_single)"
      ],
      "metadata": {
        "id": "Dpt_9nH5bXcD",
        "colab": {
          "base_uri": "https://localhost:8080/"
        },
        "outputId": "53b66254-7a54-4f4d-c875-850eb95ef6ef"
      },
      "execution_count": 77,
      "outputs": [
        {
          "output_type": "stream",
          "name": "stdout",
          "text": [
            "[[1.2732423e-09 1.4572390e-06 1.3185820e-09 6.6746732e-05 6.2892866e-08\n",
            "  8.8635969e-01 3.4642031e-08 8.9298949e-02 2.4273021e-02 4.9222613e-09]]\n"
          ]
        }
      ]
    },
    {
      "cell_type": "code",
      "source": [
        "plot_value_array(0, predictions_single, test_labels)\n",
        "_ = plt.xticks(range(10), class_names, rotation=45)"
      ],
      "metadata": {
        "id": "Nrs4Ntm7ba7y",
        "colab": {
          "base_uri": "https://localhost:8080/",
          "height": 300
        },
        "outputId": "80687cf5-7867-4e85-9890-2da757a5d2e1"
      },
      "execution_count": 78,
      "outputs": [
        {
          "output_type": "display_data",
          "data": {
            "text/plain": [
              "<Figure size 432x288 with 1 Axes>"
            ],
            "image/png": "[encoded data removed]"
          },
          "metadata": {
            "needs_background": "light"
          }
        }
      ]
    }
  ]
}