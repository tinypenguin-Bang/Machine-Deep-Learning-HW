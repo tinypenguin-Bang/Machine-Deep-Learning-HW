{
  "nbformat": 4,
  "nbformat_minor": 0,
  "metadata": {
    "colab": {
      "name": "2021251496 방주형 과제2-1.ipynb",
      "provenance": [],
      "authorship_tag": "ABX9TyPmDA8a3R7tlM+u6ES5yzNa",
      "include_colab_link": true
    },
    "kernelspec": {
      "name": "python3",
      "display_name": "Python 3"
    },
    "language_info": {
      "name": "python"
    },
    "accelerator": "GPU"
  },
  "cells": [
    {
      "cell_type": "markdown",
      "metadata": {
        "id": "view-in-github",
        "colab_type": "text"
      },
      "source": [
        "<a href=\"https://colab.research.google.com/github/tinypenguin-Bang/Machine-Deep-Learning-HW/blob/main/2021251496_%EB%B0%A9%EC%A3%BC%ED%98%95_%EA%B3%BC%EC%A0%9C2_1.ipynb\" target=\"_parent\"><img src=\"https://colab.research.google.com/assets/colab-badge.svg\" alt=\"Open In Colab\"/></a>"
      ]
    },
    {
      "cell_type": "markdown",
      "source": [
        "# MNIST, Fashion MNIST 데이터 분류 CNN 모델"
      ],
      "metadata": {
        "id": "6dv1F0mUc9bQ"
      }
    },
    {
      "cell_type": "markdown",
      "source": [
        "*   Tensorflow 라이브러리 불러오기\n",
        "*   Tensorflow 내의 MNIST 데이터셋 가져오기 (MNIST : 숫자 손글씨 데이터)\n",
        "\n",
        "\n",
        "*   train / test set 저장\n"
      ],
      "metadata": {
        "id": "hNzp6TNUdXtg"
      }
    },
    {
      "cell_type": "code",
      "execution_count": null,
      "metadata": {
        "id": "GvkBWtyhc4tx"
      },
      "outputs": [],
      "source": [
        "import tensorflow as tf                                   # Tensorflow 라이브러리\n",
        "mnist = tf.keras.datasets.mnist                           # Tensorflow에 내장된 MNIST 데이터셋 가져오기\n",
        "\n",
        "(x_train, y_train), (x_test, y_test) = mnist.load_data()  # MNIST 데이터셋 기반 train / test 데이터셋 저장\n"
      ]
    },
    {
      "cell_type": "markdown",
      "source": [
        "*   데이터 type 및 shape 확인"
      ],
      "metadata": {
        "id": "ixjUgyZVhIUF"
      }
    },
    {
      "cell_type": "code",
      "source": [
        "type(x_train)"
      ],
      "metadata": {
        "colab": {
          "base_uri": "https://localhost:8080/"
        },
        "id": "0WnpQCEwhIje",
        "outputId": "0d41eef0-ee0f-457d-ac70-7ac2df041370"
      },
      "execution_count": null,
      "outputs": [
        {
          "output_type": "execute_result",
          "data": {
            "text/plain": [
              "numpy.ndarray"
            ]
          },
          "metadata": {},
          "execution_count": 108
        }
      ]
    },
    {
      "cell_type": "code",
      "source": [
        "x_train.shape"
      ],
      "metadata": {
        "colab": {
          "base_uri": "https://localhost:8080/"
        },
        "id": "HoaLG54YhJDu",
        "outputId": "08a00373-9704-46d5-84b1-a227b49dced3"
      },
      "execution_count": null,
      "outputs": [
        {
          "output_type": "execute_result",
          "data": {
            "text/plain": [
              "(60000, 28, 28)"
            ]
          },
          "metadata": {},
          "execution_count": 109
        }
      ]
    },
    {
      "cell_type": "code",
      "source": [
        "y_train.shape"
      ],
      "metadata": {
        "colab": {
          "base_uri": "https://localhost:8080/"
        },
        "id": "Ycmg_uIWhI5H",
        "outputId": "2d3b50b1-c727-426c-ca17-5312dcdf22ba"
      },
      "execution_count": null,
      "outputs": [
        {
          "output_type": "execute_result",
          "data": {
            "text/plain": [
              "(60000,)"
            ]
          },
          "metadata": {},
          "execution_count": 110
        }
      ]
    },
    {
      "cell_type": "code",
      "source": [
        "x_test.shape"
      ],
      "metadata": {
        "colab": {
          "base_uri": "https://localhost:8080/"
        },
        "id": "3_cN1VNjhIu9",
        "outputId": "78c15358-3e81-427d-9682-a09221a190d1"
      },
      "execution_count": null,
      "outputs": [
        {
          "output_type": "execute_result",
          "data": {
            "text/plain": [
              "(10000, 28, 28)"
            ]
          },
          "metadata": {},
          "execution_count": 111
        }
      ]
    },
    {
      "cell_type": "code",
      "source": [
        "y_test.shape"
      ],
      "metadata": {
        "colab": {
          "base_uri": "https://localhost:8080/"
        },
        "id": "fdr5cgEthc2W",
        "outputId": "9c2f9699-7bcc-4dc0-f98c-ee20b1b4d28d"
      },
      "execution_count": null,
      "outputs": [
        {
          "output_type": "execute_result",
          "data": {
            "text/plain": [
              "(10000,)"
            ]
          },
          "metadata": {},
          "execution_count": 112
        }
      ]
    },
    {
      "cell_type": "markdown",
      "source": [
        "*   60000개의 train data와 10000개의 test data 확인\n",
        "*   이미지 데이터당 (28,28) 배열 확인\n",
        "*   60000개의 train data의 성능 확인을 위해 5000개를 validation set으로 변경 (검증 set)"
      ],
      "metadata": {
        "id": "m7bd9HWyi13U"
      }
    },
    {
      "cell_type": "code",
      "source": [
        "# train set 에서 5000개를 validation set으로 변경\n",
        "x_val, y_val = x_train[55000:,:], y_train[55000:]\n",
        "x_train, y_train = x_train[:55000, :], y_train[:55000]"
      ],
      "metadata": {
        "id": "5R78KdhdjUrj"
      },
      "execution_count": null,
      "outputs": []
    },
    {
      "cell_type": "code",
      "source": [
        "print(x_train.shape)  # 학습 set\n",
        "print(x_val.shape)    # 검증 set"
      ],
      "metadata": {
        "colab": {
          "base_uri": "https://localhost:8080/"
        },
        "id": "wRRex6fFjjoN",
        "outputId": "a8902273-aba1-476c-d475-b31b9153f299"
      },
      "execution_count": null,
      "outputs": [
        {
          "output_type": "stream",
          "name": "stdout",
          "text": [
            "(55000, 28, 28)\n",
            "(5000, 28, 28)\n"
          ]
        }
      ]
    },
    {
      "cell_type": "markdown",
      "source": [
        "*   Numpy 라이브러리 불러오기\n",
        "*   train / test set 데이터 표준화 (전처리)"
      ],
      "metadata": {
        "id": "IUCGnPBhj459"
      }
    },
    {
      "cell_type": "code",
      "source": [
        "# train / test set 데이터 표준화 (전처리)\n",
        "import numpy as np\n",
        "mean = np.mean(x_train, axis=0)  # 평균 (28 x 28 이미지)"
      ],
      "metadata": {
        "id": "MzfUVMWaj5M1"
      },
      "execution_count": null,
      "outputs": []
    },
    {
      "cell_type": "code",
      "source": [
        "mean.shape"
      ],
      "metadata": {
        "colab": {
          "base_uri": "https://localhost:8080/"
        },
        "id": "urYA9vEWkXH1",
        "outputId": "cb8bf09c-5252-4dbe-e47b-6279b6b1dff0"
      },
      "execution_count": null,
      "outputs": [
        {
          "output_type": "execute_result",
          "data": {
            "text/plain": [
              "(28, 28)"
            ]
          },
          "metadata": {},
          "execution_count": 116
        }
      ]
    },
    {
      "cell_type": "code",
      "source": [
        "std = np.std(x_train)    # 표준편차"
      ],
      "metadata": {
        "id": "jPxhcoB1kXaE"
      },
      "execution_count": null,
      "outputs": []
    },
    {
      "cell_type": "code",
      "source": [
        "std"
      ],
      "metadata": {
        "colab": {
          "base_uri": "https://localhost:8080/"
        },
        "id": "SiZtTsdykezN",
        "outputId": "5c8529a6-878b-4d81-fd8e-4956708f0b5c"
      },
      "execution_count": null,
      "outputs": [
        {
          "output_type": "execute_result",
          "data": {
            "text/plain": [
              "78.5901436214457"
            ]
          },
          "metadata": {},
          "execution_count": 118
        }
      ]
    },
    {
      "cell_type": "code",
      "source": [
        "x_train_centered = (x_train-mean)/std     # 학습 데이터 표준화\n",
        "x_val_centered = (x_val-mean)/std         # 검증 데이터 표준화\n",
        "x_test_centered = (x_test-mean)/std       # 테스트 데이터 표준화"
      ],
      "metadata": {
        "id": "4IJzKs-gkhNX"
      },
      "execution_count": null,
      "outputs": []
    },
    {
      "cell_type": "code",
      "source": [
        "x_train_centered.shape"
      ],
      "metadata": {
        "colab": {
          "base_uri": "https://localhost:8080/"
        },
        "id": "PPUoB2WvkhDd",
        "outputId": "4ad17ff7-c1fe-4084-d35e-0693f00345b7"
      },
      "execution_count": null,
      "outputs": [
        {
          "output_type": "execute_result",
          "data": {
            "text/plain": [
              "(55000, 28, 28)"
            ]
          },
          "metadata": {},
          "execution_count": 120
        }
      ]
    },
    {
      "cell_type": "markdown",
      "source": [
        "*   One Hot Encoding (데이터를 단순한 숫자에서 수많은 0과 하나의 1이 있는 1차원 배열로 변경하는 것)\n",
        "*   keras를 활용, to_categorical() 함수를 통해 One Hot Encoding으로 변경 가능"
      ],
      "metadata": {
        "id": "9u2BYkqypMpS"
      }
    },
    {
      "cell_type": "code",
      "source": [
        "# one hot encoding\n",
        "from tensorflow.keras.utils import to_categorical\n",
        "\n",
        "y_train_onehot = to_categorical(y_train)\n",
        "y_val_onehot = to_categorical(y_val)\n",
        "y_test_onehot = to_categorical(y_test)"
      ],
      "metadata": {
        "id": "JgLj6EBFl7Cs"
      },
      "execution_count": null,
      "outputs": []
    },
    {
      "cell_type": "code",
      "source": [
        "print(y_train[0])\n",
        "print(y_train_onehot[0])"
      ],
      "metadata": {
        "colab": {
          "base_uri": "https://localhost:8080/"
        },
        "id": "p-SiIn6rmijk",
        "outputId": "c643d7d8-b60e-492a-9bf7-47268917838d"
      },
      "execution_count": null,
      "outputs": [
        {
          "output_type": "stream",
          "name": "stdout",
          "text": [
            "5\n",
            "[0. 0. 0. 0. 0. 1. 0. 0. 0. 0.]\n"
          ]
        }
      ]
    },
    {
      "cell_type": "markdown",
      "source": [
        "*   CNN 모델 만들기\n",
        "*   keras 활용, layers와 models 도입하여 parameter 설정"
      ],
      "metadata": {
        "id": "Xtrf6hfbrUwC"
      }
    },
    {
      "cell_type": "code",
      "source": [
        "# model 만들기\n",
        "\n",
        "from tensorflow.keras import layers, models\n",
        "\n",
        "model = models.Sequential()       # 모델 선언"
      ],
      "metadata": {
        "id": "Fvz5UrdKzdaf"
      },
      "execution_count": null,
      "outputs": []
    },
    {
      "cell_type": "code",
      "source": [
        "model.add(layers.Conv2D(32,(5,5), padding='valid', activation='relu', input_shape=(28,28,1)))   # 1st 2D Conv. layer"
      ],
      "metadata": {
        "id": "1gIq78Je0bX9"
      },
      "execution_count": null,
      "outputs": []
    },
    {
      "cell_type": "code",
      "source": [
        "model.add(layers.MaxPool2D(2,2))                                        # 1st Pool. layer\n",
        "model.add(layers.Conv2D(64,(5,5), padding='valid', activation='relu'))  # 2nd 2D Conv. layer\n",
        "model.add(layers.MaxPool2D(2,2))                                        # 2nd Pool. layer\n",
        "model.add(layers.Flatten())                                             # Flatten layer"
      ],
      "metadata": {
        "id": "70jRwZlXzdPf"
      },
      "execution_count": null,
      "outputs": []
    },
    {
      "cell_type": "code",
      "source": [
        "# dense layer에 넣기\n",
        "model.add(layers.Dense(1024, activation='relu'))                        # Dense layer (Relu 함수 기반 DNN)\n",
        "model.add(layers.Dropout(0.5))                                          # Dropout layer (Overfitting 방지)\n",
        "model.add(layers.Dense(10, activation='softmax'))                       # Classification layer (softmax 함수 기반)"
      ],
      "metadata": {
        "id": "6EL0mbswzjZv"
      },
      "execution_count": null,
      "outputs": []
    },
    {
      "cell_type": "code",
      "source": [
        "model.summary()"
      ],
      "metadata": {
        "colab": {
          "base_uri": "https://localhost:8080/"
        },
        "id": "d4VCk19Pzmtm",
        "outputId": "8cf5457d-bf25-4576-a991-88e90d6bba1b"
      },
      "execution_count": null,
      "outputs": [
        {
          "output_type": "stream",
          "name": "stdout",
          "text": [
            "Model: \"sequential_5\"\n",
            "_________________________________________________________________\n",
            " Layer (type)                Output Shape              Param #   \n",
            "=================================================================\n",
            " conv2d_6 (Conv2D)           (None, 24, 24, 32)        832       \n",
            "                                                                 \n",
            " max_pooling2d_8 (MaxPooling  (None, 12, 12, 32)       0         \n",
            " 2D)                                                             \n",
            "                                                                 \n",
            " conv2d_7 (Conv2D)           (None, 8, 8, 64)          51264     \n",
            "                                                                 \n",
            " max_pooling2d_9 (MaxPooling  (None, 4, 4, 64)         0         \n",
            " 2D)                                                             \n",
            "                                                                 \n",
            " flatten_4 (Flatten)         (None, 1024)              0         \n",
            "                                                                 \n",
            " dense_8 (Dense)             (None, 1024)              1049600   \n",
            "                                                                 \n",
            " dropout_4 (Dropout)         (None, 1024)              0         \n",
            "                                                                 \n",
            " dense_9 (Dense)             (None, 10)                10250     \n",
            "                                                                 \n",
            "=================================================================\n",
            "Total params: 1,111,946\n",
            "Trainable params: 1,111,946\n",
            "Non-trainable params: 0\n",
            "_________________________________________________________________\n"
          ]
        }
      ]
    },
    {
      "cell_type": "code",
      "source": [
        "model.compile(loss='categorical_crossentropy', optimizer='adam', metrics=['acc'])       # loss function, optimizer, metrics 설정"
      ],
      "metadata": {
        "id": "5ayGSgPyzoOW"
      },
      "execution_count": null,
      "outputs": []
    },
    {
      "cell_type": "code",
      "source": [
        "x_train_c = x_train_centered.reshape(-1, 28,28,1)  # -1은 추정으로 정한다\n",
        "x_val_c = x_val_centered.reshape(-1,28,28,1)\n",
        "x_test_c = x_test_centered.reshape(-1,28,28,1)"
      ],
      "metadata": {
        "id": "53zzlKXxzqxe"
      },
      "execution_count": null,
      "outputs": []
    },
    {
      "cell_type": "code",
      "source": [
        "history=model.fit(x_train_c, y_train_onehot, batch_size=64, epochs=20,\n",
        "                  validation_data=(x_val_c, y_val_onehot))                            # training 진행, validation check 병행"
      ],
      "metadata": {
        "colab": {
          "base_uri": "https://localhost:8080/"
        },
        "id": "YMRGSkvNzr3f",
        "outputId": "f109c74b-7d32-4bd4-c8fd-1ae7e66ee4c9"
      },
      "execution_count": null,
      "outputs": [
        {
          "output_type": "stream",
          "name": "stdout",
          "text": [
            "Epoch 1/20\n",
            "860/860 [==============================] - 9s 10ms/step - loss: 0.1392 - acc: 0.9571 - val_loss: 0.0408 - val_acc: 0.9884\n",
            "Epoch 2/20\n",
            "860/860 [==============================] - 10s 12ms/step - loss: 0.0475 - acc: 0.9851 - val_loss: 0.0508 - val_acc: 0.9876\n",
            "Epoch 3/20\n",
            "860/860 [==============================] - 8s 9ms/step - loss: 0.0354 - acc: 0.9890 - val_loss: 0.0439 - val_acc: 0.9896\n",
            "Epoch 4/20\n",
            "860/860 [==============================] - 7s 9ms/step - loss: 0.0265 - acc: 0.9913 - val_loss: 0.0313 - val_acc: 0.9918\n",
            "Epoch 5/20\n",
            "860/860 [==============================] - 7s 9ms/step - loss: 0.0216 - acc: 0.9934 - val_loss: 0.0373 - val_acc: 0.9902\n",
            "Epoch 6/20\n",
            "860/860 [==============================] - 8s 9ms/step - loss: 0.0221 - acc: 0.9933 - val_loss: 0.0378 - val_acc: 0.9914\n",
            "Epoch 7/20\n",
            "860/860 [==============================] - 7s 8ms/step - loss: 0.0176 - acc: 0.9943 - val_loss: 0.0435 - val_acc: 0.9914\n",
            "Epoch 8/20\n",
            "860/860 [==============================] - 7s 9ms/step - loss: 0.0148 - acc: 0.9952 - val_loss: 0.0431 - val_acc: 0.9904\n",
            "Epoch 9/20\n",
            "860/860 [==============================] - 7s 9ms/step - loss: 0.0156 - acc: 0.9951 - val_loss: 0.0448 - val_acc: 0.9908\n",
            "Epoch 10/20\n",
            "860/860 [==============================] - 7s 9ms/step - loss: 0.0134 - acc: 0.9961 - val_loss: 0.0470 - val_acc: 0.9904\n",
            "Epoch 11/20\n",
            "860/860 [==============================] - 8s 9ms/step - loss: 0.0137 - acc: 0.9958 - val_loss: 0.0484 - val_acc: 0.9910\n",
            "Epoch 12/20\n",
            "860/860 [==============================] - 8s 9ms/step - loss: 0.0126 - acc: 0.9964 - val_loss: 0.0468 - val_acc: 0.9922\n",
            "Epoch 13/20\n",
            "860/860 [==============================] - 7s 9ms/step - loss: 0.0112 - acc: 0.9967 - val_loss: 0.0540 - val_acc: 0.9908\n",
            "Epoch 14/20\n",
            "860/860 [==============================] - 7s 8ms/step - loss: 0.0117 - acc: 0.9966 - val_loss: 0.0572 - val_acc: 0.9912\n",
            "Epoch 15/20\n",
            "860/860 [==============================] - 7s 9ms/step - loss: 0.0095 - acc: 0.9975 - val_loss: 0.0578 - val_acc: 0.9920\n",
            "Epoch 16/20\n",
            "860/860 [==============================] - 7s 9ms/step - loss: 0.0089 - acc: 0.9975 - val_loss: 0.0702 - val_acc: 0.9910\n",
            "Epoch 17/20\n",
            "860/860 [==============================] - 8s 9ms/step - loss: 0.0113 - acc: 0.9968 - val_loss: 0.0672 - val_acc: 0.9906\n",
            "Epoch 18/20\n",
            "860/860 [==============================] - 7s 9ms/step - loss: 0.0091 - acc: 0.9975 - val_loss: 0.0546 - val_acc: 0.9918\n",
            "Epoch 19/20\n",
            "860/860 [==============================] - 7s 9ms/step - loss: 0.0122 - acc: 0.9969 - val_loss: 0.0715 - val_acc: 0.9932\n",
            "Epoch 20/20\n",
            "860/860 [==============================] - 7s 9ms/step - loss: 0.0104 - acc: 0.9972 - val_loss: 0.0635 - val_acc: 0.9918\n"
          ]
        }
      ]
    },
    {
      "cell_type": "code",
      "source": [
        "# plot_model함수를 활용하면 도식화된 모델 구성이 출력됨\n",
        "tf.keras.utils.plot_model(model)"
      ],
      "metadata": {
        "colab": {
          "base_uri": "https://localhost:8080/",
          "height": 856
        },
        "id": "eiAtgMMBzv6_",
        "outputId": "dca5245b-d14f-4ec4-b6a9-93e47e8b9c79"
      },
      "execution_count": null,
      "outputs": [
        {
          "output_type": "execute_result",
          "data": {
            "text/plain": [
              "<IPython.core.display.Image object>"
            ],
            "image/png": "[encoded data removed]"
          },
          "metadata": {},
          "execution_count": 131
        }
      ]
    },
    {
      "cell_type": "markdown",
      "source": [
        ""
      ],
      "metadata": {
        "id": "2OVXJ-7b2N9F"
      }
    },
    {
      "cell_type": "code",
      "source": [
        "model.layers[0]"
      ],
      "metadata": {
        "colab": {
          "base_uri": "https://localhost:8080/"
        },
        "id": "cwAv-78g2Oh2",
        "outputId": "6f8c7cab-8f99-4a0f-9de4-06f74593835d"
      },
      "execution_count": null,
      "outputs": [
        {
          "output_type": "execute_result",
          "data": {
            "text/plain": [
              "<keras.layers.convolutional.Conv2D at 0x7fcf03719710>"
            ]
          },
          "metadata": {},
          "execution_count": 132
        }
      ]
    },
    {
      "cell_type": "code",
      "source": [
        "model.layers[0].weights"
      ],
      "metadata": {
        "colab": {
          "base_uri": "https://localhost:8080/"
        },
        "id": "sz3FGTgY2Uv9",
        "outputId": "9fa819e4-7835-42c2-fa75-999c862bc59c"
      },
      "execution_count": null,
      "outputs": [
        {
          "output_type": "execute_result",
          "data": {
            "text/plain": [
              "[<tf.Variable 'conv2d_6/kernel:0' shape=(5, 5, 1, 32) dtype=float32, numpy=\n",
              " array([[[[-4.77816015e-02, -3.68653424e-03, -2.05252692e-02,\n",
              "           -3.98275368e-02,  3.13494578e-02, -1.10600386e-02,\n",
              "            3.27184908e-02,  8.87504816e-02, -9.64473858e-02,\n",
              "            3.96749899e-02,  7.91740790e-03,  2.58514266e-02,\n",
              "            6.10018484e-02,  4.81209457e-02, -3.36281732e-02,\n",
              "            1.29248708e-01,  2.25441679e-02, -2.32310803e-03,\n",
              "            4.14300635e-02, -3.99754457e-02,  3.11171506e-02,\n",
              "           -9.69775841e-02,  4.88295928e-02,  1.30979806e-01,\n",
              "           -2.45661698e-02, -5.46532031e-03,  1.67976215e-01,\n",
              "            5.82817663e-03, -2.71246396e-02,  9.83306244e-02,\n",
              "            4.77387272e-02,  7.34632537e-02]],\n",
              " \n",
              "         [[-1.16227850e-01, -1.29296601e-01, -8.05779360e-04,\n",
              "           -2.38867532e-02, -1.35768384e-01, -4.49619703e-02,\n",
              "            4.73773619e-03,  1.30630761e-01,  7.43689910e-02,\n",
              "            6.04443513e-02, -7.11987764e-02, -4.15650494e-02,\n",
              "            6.99837953e-02,  1.19383238e-01, -1.60615854e-02,\n",
              "            7.13229254e-02,  5.64217344e-02, -1.03439733e-01,\n",
              "            1.34337284e-02, -9.41896737e-02,  7.09266067e-02,\n",
              "           -8.50371551e-03, -2.17891745e-02, -9.58152786e-02,\n",
              "            2.91283838e-02, -2.97724362e-02, -9.58283767e-02,\n",
              "           -1.30969465e-01, -4.94186543e-02, -3.05013750e-02,\n",
              "            2.87857782e-02, -1.21788844e-01]],\n",
              " \n",
              "         [[-6.72899634e-02,  1.99742131e-02,  8.97484124e-02,\n",
              "           -2.52716169e-02, -4.09283824e-02, -6.12322800e-02,\n",
              "           -2.38611437e-02,  1.45249039e-01,  3.78477424e-02,\n",
              "           -1.29685730e-01, -1.31677175e-02, -9.17808991e-03,\n",
              "            2.01815646e-02,  5.82872182e-02,  1.24885604e-01,\n",
              "           -5.70291281e-02,  6.11651912e-02,  4.33265679e-02,\n",
              "           -7.16087641e-03,  1.05477907e-01, -6.16992600e-02,\n",
              "           -2.78151548e-03,  1.10719083e-02,  5.80162294e-02,\n",
              "           -1.26628667e-01, -1.02034576e-01, -9.73861441e-02,\n",
              "           -1.92900524e-01, -3.73937450e-02,  2.50694063e-02,\n",
              "            5.75891063e-02, -7.33624445e-04]],\n",
              " \n",
              "         [[-4.88054305e-02,  1.17020167e-01, -7.73792416e-02,\n",
              "           -3.02855596e-02,  3.13068135e-03, -5.33923954e-02,\n",
              "           -4.11694590e-03,  1.19192816e-01, -2.42214605e-01,\n",
              "           -1.01054301e-02,  7.89887086e-02, -2.23319270e-02,\n",
              "           -5.74121904e-03,  1.52525052e-01,  1.20077699e-01,\n",
              "           -3.44308466e-02, -2.33081803e-02, -3.30429338e-02,\n",
              "           -3.73035334e-02, -2.35475227e-02,  2.61450522e-02,\n",
              "           -1.78641151e-03, -2.29118709e-02,  8.65099654e-02,\n",
              "           -7.51562566e-02,  4.57736962e-02,  4.14941832e-03,\n",
              "            4.75731790e-02,  1.59075717e-03, -2.57435851e-02,\n",
              "            1.06535368e-01,  2.68456805e-02]],\n",
              " \n",
              "         [[-2.20043093e-01, -3.82200554e-02, -9.07879025e-02,\n",
              "           -6.18643360e-03,  5.39784767e-02,  1.18858650e-01,\n",
              "            6.30748942e-02,  1.18205898e-01,  4.67434386e-03,\n",
              "            8.23025852e-02,  6.89002946e-02,  2.76241489e-02,\n",
              "            6.68672938e-03, -8.50186124e-02,  6.89318478e-02,\n",
              "            1.36578036e-02, -6.92696497e-02,  6.95789456e-02,\n",
              "           -3.15610059e-02,  6.89366311e-02,  6.38420433e-02,\n",
              "            2.91070826e-02, -1.38912365e-01, -5.99933676e-02,\n",
              "            1.17120340e-01,  1.73449472e-01,  1.44827411e-01,\n",
              "            1.68522850e-01,  9.65123251e-02, -1.15229152e-01,\n",
              "           -1.67460978e-01,  1.49920229e-02]]],\n",
              " \n",
              " \n",
              "        [[[-2.16230210e-02, -8.24538618e-02, -1.31308824e-01,\n",
              "            4.14277986e-02,  1.05491556e-01, -5.96523657e-02,\n",
              "            1.38497464e-02, -1.43767133e-01, -6.85183331e-02,\n",
              "            1.35816187e-01, -3.57938558e-02,  9.47710220e-03,\n",
              "            1.50200771e-02, -1.71273015e-02,  6.61699846e-02,\n",
              "            6.45605177e-02, -5.98928779e-02,  4.41085584e-02,\n",
              "           -4.20234613e-02,  3.39950621e-02,  4.38669734e-02,\n",
              "            2.95783002e-02, -1.78655218e-02,  2.93678734e-02,\n",
              "           -7.34466910e-02,  1.10807985e-01,  1.23544835e-01,\n",
              "            7.38929287e-02,  6.67965263e-02,  3.83612141e-03,\n",
              "            1.64115816e-01,  3.06324270e-02]],\n",
              " \n",
              "         [[ 8.78673419e-02,  3.45517397e-02, -1.44063219e-01,\n",
              "           -5.83896488e-02,  1.72096089e-01,  5.74826561e-02,\n",
              "            2.06665099e-02, -1.22460842e-01,  7.99317509e-02,\n",
              "           -1.38240173e-01,  4.34200559e-03,  2.53553782e-02,\n",
              "           -8.01246986e-02, -4.21099849e-02,  6.06055595e-02,\n",
              "           -1.74812883e-01,  8.15765411e-02,  1.19510330e-01,\n",
              "           -3.19068134e-02, -7.01825246e-02,  7.48330075e-03,\n",
              "           -3.15533616e-02,  1.81689131e-04, -1.11145675e-01,\n",
              "            7.81106129e-02, -5.38435951e-02, -2.11835094e-02,\n",
              "            8.11238438e-02, -1.91928130e-02,  2.87695546e-02,\n",
              "           -7.71896616e-02,  4.38120849e-02]],\n",
              " \n",
              "         [[ 1.39088660e-01,  6.54275790e-02, -4.12332639e-02,\n",
              "           -1.04160234e-01,  1.51118547e-01,  4.96392585e-02,\n",
              "           -5.82398400e-02, -2.46860310e-02,  2.46655136e-01,\n",
              "           -1.23615332e-01, -5.05208820e-02,  1.29781784e-02,\n",
              "           -1.37634009e-01, -1.55763283e-01,  1.18880056e-01,\n",
              "           -1.97443396e-01, -4.22391202e-03, -5.47786802e-02,\n",
              "           -5.82548603e-02,  1.64754428e-02, -1.90543998e-02,\n",
              "           -4.94056270e-02,  1.59659430e-01, -5.23553677e-02,\n",
              "            5.54360710e-02, -2.91300118e-01, -6.37768582e-02,\n",
              "           -2.01880112e-01,  6.90180138e-02,  2.97441408e-02,\n",
              "            1.28662502e-02,  2.24435870e-02]],\n",
              " \n",
              "         [[ 2.39285067e-01, -9.65319648e-02,  8.94557983e-02,\n",
              "           -7.31650740e-02,  5.27597032e-02, -4.20648679e-02,\n",
              "           -1.27091575e-02,  3.46459560e-02, -1.37094021e-01,\n",
              "            6.76247552e-02, -9.64669660e-02,  1.02663822e-02,\n",
              "           -1.26376227e-02,  1.45505294e-01, -7.24483207e-02,\n",
              "            1.75342500e-01, -1.17974475e-01, -4.95005026e-02,\n",
              "           -4.29357626e-02,  7.23112077e-02, -7.55774602e-02,\n",
              "           -3.94861028e-02,  1.79851413e-01,  8.05324838e-02,\n",
              "           -2.10831147e-02, -1.25901416e-01, -8.96094590e-02,\n",
              "           -1.18208341e-01,  2.44101137e-02, -8.05922151e-02,\n",
              "            5.59678823e-02,  7.28539005e-02]],\n",
              " \n",
              "         [[ 3.90108675e-02,  1.11721940e-01, -1.27765164e-02,\n",
              "           -2.97960490e-02, -2.65612453e-02,  1.01506598e-01,\n",
              "            4.37339395e-02, -3.33972462e-02,  6.37275130e-02,\n",
              "            5.89611419e-02, -4.32509296e-02, -3.36736115e-03,\n",
              "            4.33767773e-02,  4.22537811e-02, -7.22550973e-02,\n",
              "            8.43009129e-02, -7.36003183e-03, -2.79349238e-02,\n",
              "           -7.09984973e-02,  1.16032667e-01, -3.31164747e-02,\n",
              "           -3.09283789e-02, -1.21157669e-01,  4.04956713e-02,\n",
              "            3.43508460e-02, -3.29734012e-02,  9.43789259e-02,\n",
              "            6.04317822e-02, -8.42027925e-03,  6.70522824e-02,\n",
              "           -6.59258440e-02, -2.11721733e-02]]],\n",
              " \n",
              " \n",
              "        [[[ 1.26860678e-01,  1.43298879e-01, -8.76151919e-02,\n",
              "            3.86405620e-03, -9.85706300e-02, -1.27090201e-01,\n",
              "            3.80889024e-03, -4.93818382e-03, -1.04752496e-01,\n",
              "            6.75680265e-02, -9.67219658e-03, -3.35731395e-02,\n",
              "           -8.90813321e-02, -6.05591126e-02,  8.10608268e-02,\n",
              "            1.22182379e-02,  1.10552393e-01, -3.93685363e-02,\n",
              "           -1.00557394e-01, -9.37962066e-03, -8.20545852e-03,\n",
              "           -2.88722571e-02, -2.78757140e-02, -4.19844538e-02,\n",
              "           -2.82991622e-02,  1.02135316e-01,  3.49781848e-02,\n",
              "           -1.67229585e-02, -6.55053779e-02,  4.87580672e-02,\n",
              "            2.53196657e-02,  7.12066442e-02]],\n",
              " \n",
              "         [[-2.91991457e-02,  3.04065533e-02,  1.91832200e-01,\n",
              "           -4.98504676e-02, -9.75351110e-02, -8.48677009e-02,\n",
              "           -9.52005163e-02, -6.60976768e-02, -5.71366586e-02,\n",
              "           -2.60111064e-01,  1.67488381e-02, -2.01948527e-02,\n",
              "           -2.42522791e-01,  6.02343120e-02,  5.70969470e-02,\n",
              "           -1.53186321e-01,  9.21186358e-02,  3.58580388e-02,\n",
              "           -5.52029014e-02,  4.31388104e-03, -1.63153976e-01,\n",
              "           -1.69033669e-02, -1.76353589e-01,  1.33229746e-02,\n",
              "           -7.21921399e-02,  2.55656749e-01,  2.19313819e-02,\n",
              "            1.52442828e-01, -1.05029076e-01, -1.73940305e-02,\n",
              "           -7.54918307e-02, -9.49374400e-03]],\n",
              " \n",
              "         [[-1.16409764e-01, -1.07173383e-01,  1.56127825e-01,\n",
              "           -3.03474646e-02,  6.66410327e-02,  5.21344766e-02,\n",
              "           -6.11002296e-02, -1.63515046e-01,  2.18441077e-02,\n",
              "            7.85935074e-02, -6.98445216e-02, -1.30725382e-02,\n",
              "            1.02827720e-01, -3.03919036e-02, -1.08255245e-01,\n",
              "            2.10992172e-01, -8.05153176e-02,  1.08857431e-01,\n",
              "           -7.25984722e-02, -1.15338191e-01, -6.76963255e-02,\n",
              "           -5.47728091e-02,  6.83138743e-02,  2.29624640e-02,\n",
              "           -2.38959715e-02,  1.01875462e-01, -5.20162657e-02,\n",
              "           -1.02924824e-01, -8.87835957e-03, -4.79245186e-02,\n",
              "            8.93073305e-02, -9.31405425e-02]],\n",
              " \n",
              "         [[-3.01574245e-02, -1.98038325e-01, -4.69642356e-02,\n",
              "            3.69027741e-02, -3.18387449e-02, -3.28495279e-02,\n",
              "            4.13842611e-02, -1.26324788e-01, -2.92722061e-02,\n",
              "           -5.76733872e-02, -9.48241502e-02, -5.69782080e-03,\n",
              "            1.42090023e-01,  5.22291623e-02, -1.42320082e-01,\n",
              "            9.95539203e-02, -4.41532284e-02,  3.56724188e-02,\n",
              "           -5.84668294e-02, -1.50840670e-01, -2.31769476e-02,\n",
              "           -7.56840482e-02,  1.53954074e-01,  7.85441250e-02,\n",
              "           -5.10769486e-02,  5.23081310e-02, -6.46270290e-02,\n",
              "           -1.05771631e-01,  9.09730718e-02, -8.26221406e-02,\n",
              "           -7.23087341e-02, -1.28709048e-01]],\n",
              " \n",
              "         [[ 1.20051295e-01, -6.81412816e-02, -4.65310551e-02,\n",
              "           -8.02277401e-03,  6.60147378e-03,  1.03623159e-02,\n",
              "            9.93966907e-02, -1.05406016e-01,  2.75550615e-02,\n",
              "            8.97281095e-02, -7.79683366e-02,  1.03826290e-02,\n",
              "            6.57383800e-02, -1.20612569e-02, -3.78476903e-02,\n",
              "           -9.13266018e-02, -5.13635809e-04, -1.03775859e-01,\n",
              "           -6.00277409e-02, -4.43784893e-02,  3.62024568e-02,\n",
              "           -6.32841364e-02, -1.12105861e-01,  1.12523720e-01,\n",
              "           -8.16175565e-02,  7.11205974e-03,  5.09320609e-02,\n",
              "           -4.54327203e-02,  4.64014225e-02,  8.04895014e-02,\n",
              "            5.76895475e-03,  1.35035619e-01]]],\n",
              " \n",
              " \n",
              "        [[[-6.81574866e-02, -1.49992993e-02,  6.56748116e-02,\n",
              "            5.72167039e-02, -1.76456928e-01, -4.34039347e-02,\n",
              "           -2.97618490e-02,  1.01191206e-02, -5.88056594e-02,\n",
              "           -1.18305553e-02, -5.08776158e-02,  3.12109441e-02,\n",
              "            5.59340715e-02, -5.10440357e-02, -4.01452668e-02,\n",
              "           -1.65905822e-02, -2.21144799e-02, -1.40560880e-01,\n",
              "           -2.10897718e-02,  5.98574392e-02, -6.99808300e-02,\n",
              "            3.29820551e-02, -3.67810503e-02, -7.50062568e-03,\n",
              "           -1.98883247e-02, -1.05047293e-01,  4.15703915e-02,\n",
              "           -4.33703279e-03, -9.12268907e-02,  3.65516059e-02,\n",
              "           -4.24869321e-02,  1.11036645e-02]],\n",
              " \n",
              "         [[-6.81308508e-02,  6.23269714e-02,  1.63183406e-01,\n",
              "            2.78036818e-02, -1.70076296e-01, -1.22587681e-01,\n",
              "           -2.21877359e-02, -1.01176985e-02,  1.45059461e-02,\n",
              "           -6.17624260e-04, -6.81566074e-02, -1.31382262e-02,\n",
              "            6.01876304e-02, -2.14453228e-02, -9.81312916e-02,\n",
              "            1.64555997e-01,  1.03739046e-01, -6.82296306e-02,\n",
              "           -9.87352431e-02,  7.02925548e-02,  2.21515000e-02,\n",
              "            4.29595225e-02, -7.69278482e-02,  5.71638271e-02,\n",
              "            1.06477691e-02,  3.82065699e-02,  4.76275720e-02,\n",
              "            9.98300537e-02,  5.53606730e-03, -7.15571418e-02,\n",
              "            1.28918374e-02, -1.14708334e-01]],\n",
              " \n",
              "         [[-1.44904986e-01,  8.68147835e-02, -1.46982566e-01,\n",
              "           -3.92535664e-02, -1.14844315e-01, -1.66180134e-01,\n",
              "           -5.00818081e-02,  1.79276976e-03,  6.16022013e-02,\n",
              "            7.46057108e-02,  6.07073680e-02,  1.55179361e-02,\n",
              "            2.30128542e-01,  6.16967976e-02, -1.73859686e-01,\n",
              "            7.02402294e-02, -1.02658905e-01, -3.05347089e-02,\n",
              "           -3.95961739e-02, -9.12267938e-02,  2.88173445e-02,\n",
              "           -1.25244660e-02, -2.06715725e-02, -4.94039319e-02,\n",
              "            1.77079905e-03,  8.37163553e-02, -2.27600243e-02,\n",
              "            6.71054199e-02,  1.14582935e-02, -3.32266353e-02,\n",
              "            1.16005123e-01, -1.14799149e-01]],\n",
              " \n",
              "         [[-1.72303870e-01, -2.48330235e-02, -1.76833272e-01,\n",
              "           -2.49953177e-02, -2.96305697e-02, -9.39810276e-02,\n",
              "            1.60565645e-01, -1.63923968e-02, -1.15070976e-01,\n",
              "           -4.35112454e-02, -4.19523716e-02, -1.88003457e-03,\n",
              "           -2.07839143e-02,  5.88123612e-02,  4.66106124e-02,\n",
              "           -1.65748090e-01, -1.24328081e-02,  5.73198237e-02,\n",
              "           -4.59169112e-02, -1.97520167e-01,  9.75669771e-02,\n",
              "           -2.95209326e-02,  1.49054036e-01, -7.94579610e-02,\n",
              "            7.71114454e-02, -3.19280550e-02, -1.21613622e-01,\n",
              "           -7.08534047e-02,  1.51999921e-01, -4.69335988e-02,\n",
              "           -3.57022025e-02,  4.17323271e-03]],\n",
              " \n",
              "         [[ 3.23382877e-02,  4.06030491e-02,  8.93719215e-03,\n",
              "            5.21113444e-03, -4.83795814e-02,  2.50410698e-02,\n",
              "           -6.76167849e-03,  4.36585732e-02, -6.28318405e-03,\n",
              "           -1.52117340e-02,  1.25144526e-01, -4.58068820e-03,\n",
              "            6.78374246e-03,  1.05550118e-01,  6.89410418e-02,\n",
              "           -9.00873765e-02,  2.62650196e-02,  2.92695500e-02,\n",
              "           -8.07948187e-02, -1.48455352e-01,  8.15199763e-02,\n",
              "           -1.07569322e-01, -1.54806916e-02, -9.13996901e-03,\n",
              "            4.49561104e-02, -4.27926145e-02,  4.90077734e-02,\n",
              "           -9.54196975e-02,  9.92418639e-03,  6.04339205e-02,\n",
              "           -1.45735055e-01,  1.69764131e-01]]],\n",
              " \n",
              " \n",
              "        [[[-2.38678977e-02, -1.93988249e-01,  6.09312207e-02,\n",
              "            1.57406740e-02,  1.60854653e-01,  1.15504511e-01,\n",
              "           -2.57213917e-02,  7.78222308e-02,  5.84927611e-02,\n",
              "           -7.87673444e-02, -3.60902622e-02, -3.13669667e-02,\n",
              "           -1.03751328e-02, -6.00686669e-02, -1.10715246e-02,\n",
              "            1.41508710e-02,  2.75711603e-02, -4.22128402e-02,\n",
              "            1.12936217e-02, -2.62668449e-02,  1.45496324e-01,\n",
              "            4.09388170e-02,  4.60625328e-02, -7.45146722e-02,\n",
              "           -1.55927232e-02, -1.21838115e-02,  2.32753698e-02,\n",
              "           -1.57129802e-02, -1.11009769e-01, -1.47928670e-02,\n",
              "            1.89677980e-02,  8.62065405e-02]],\n",
              " \n",
              "         [[ 1.14230752e-01, -7.51208588e-02, -8.90822783e-02,\n",
              "            2.54558995e-02,  3.29404585e-02,  9.01483595e-02,\n",
              "           -5.45671433e-02,  1.03515629e-02, -1.60096418e-02,\n",
              "            9.74007323e-02,  1.31021328e-02,  7.30320066e-03,\n",
              "            2.84095779e-02,  5.42938150e-02,  1.33422697e-02,\n",
              "            2.45400220e-02,  7.43850470e-02,  1.15463078e-01,\n",
              "            4.94259759e-04,  1.28888329e-02,  9.25930887e-02,\n",
              "            1.77815382e-04, -1.36651015e-02, -1.24792807e-01,\n",
              "           -7.85068423e-02, -1.05859041e-01, -5.10931537e-02,\n",
              "            5.32178245e-02,  6.45475909e-02, -5.08201160e-02,\n",
              "           -5.69887012e-02, -8.41134563e-02]],\n",
              " \n",
              "         [[ 1.37144804e-01,  2.80835610e-02, -9.07112136e-02,\n",
              "            2.52399817e-02,  6.12793751e-02,  5.91148362e-02,\n",
              "            8.41931906e-03,  3.51002589e-02,  2.73461509e-02,\n",
              "           -3.17209624e-02,  9.94255394e-02, -3.03735118e-03,\n",
              "           -1.31831288e-01, -6.41448572e-02,  9.08572152e-02,\n",
              "            5.88703975e-02, -3.23986001e-02, -9.39675048e-02,\n",
              "           -1.43838078e-02,  1.44040093e-01,  3.39846760e-02,\n",
              "            3.42202233e-03, -1.57337666e-01, -1.32451966e-01,\n",
              "            3.15741636e-03,  6.38864264e-02,  9.69613437e-03,\n",
              "           -1.65287796e-02,  7.13457679e-03, -1.27800396e-02,\n",
              "           -1.86322685e-02, -3.97229865e-02]],\n",
              " \n",
              "         [[ 4.16715480e-02,  5.73327541e-02,  4.32980508e-02,\n",
              "            1.20348193e-01,  4.41851206e-02, -1.11342423e-01,\n",
              "            5.35666235e-02,  7.01666549e-02, -2.99123470e-02,\n",
              "           -3.88391279e-02,  6.43338859e-02, -2.42913514e-03,\n",
              "           -6.57645091e-02, -4.90729623e-02,  7.38580152e-02,\n",
              "           -7.53057003e-02,  2.27513537e-02,  2.51084510e-02,\n",
              "           -1.01418300e-02,  1.71685517e-01,  9.32604820e-03,\n",
              "           -8.80609173e-03,  5.29299937e-02, -9.01703835e-02,\n",
              "           -1.44280279e-02,  2.18462944e-02, -5.57044037e-02,\n",
              "           -1.65477395e-02,  6.84822053e-02, -1.98630542e-02,\n",
              "            1.30116239e-01,  1.48683623e-03]],\n",
              " \n",
              "         [[-3.53106968e-02,  3.01568210e-02,  1.47048563e-01,\n",
              "            1.52295530e-02, -5.79611689e-04, -5.35108782e-02,\n",
              "           -2.47050468e-02,  7.69295990e-02,  1.18990650e-03,\n",
              "            3.96742336e-02,  2.66262442e-02,  3.04333330e-03,\n",
              "           -1.00319967e-01,  1.08154073e-01, -2.13060156e-03,\n",
              "            1.08453006e-01, -2.22909190e-02,  4.31377552e-02,\n",
              "           -4.16794643e-02,  1.60806045e-01,  1.04396164e-01,\n",
              "           -5.88891506e-02,  1.59208085e-02, -3.40497796e-03,\n",
              "           -9.23755541e-02, -6.96418285e-02,  8.76215473e-02,\n",
              "           -4.37975824e-02,  7.51720071e-02, -1.41608203e-02,\n",
              "            8.86056349e-02,  8.29791054e-02]]]], dtype=float32)>,\n",
              " <tf.Variable 'conv2d_6/bias:0' shape=(32,) dtype=float32, numpy=\n",
              " array([-0.38162673, -0.41308892, -0.47966075, -0.33622316, -0.45286837,\n",
              "        -0.43488353, -0.36215118, -0.40890288, -0.43903837, -0.41738918,\n",
              "        -0.4899377 , -0.30150294, -0.46051618, -0.4501713 , -0.40765658,\n",
              "        -0.41735637, -0.3868997 , -0.49510124, -0.23212788, -0.4221832 ,\n",
              "        -0.3798533 , -0.42052957, -0.41027328, -0.35396641, -0.45908824,\n",
              "        -0.42428645, -0.42802584, -0.5157018 , -0.34952578, -0.40624467,\n",
              "        -0.41919056, -0.3960886 ], dtype=float32)>]"
            ]
          },
          "metadata": {},
          "execution_count": 133
        }
      ]
    },
    {
      "cell_type": "code",
      "source": [
        "model.layers[0].weights[0].shape"
      ],
      "metadata": {
        "colab": {
          "base_uri": "https://localhost:8080/"
        },
        "id": "xESCfVyz2XQl",
        "outputId": "c1a493b1-742d-4582-a0b2-065b189b813e"
      },
      "execution_count": null,
      "outputs": [
        {
          "output_type": "execute_result",
          "data": {
            "text/plain": [
              "TensorShape([5, 5, 1, 32])"
            ]
          },
          "metadata": {},
          "execution_count": 134
        }
      ]
    },
    {
      "cell_type": "code",
      "source": [
        "import matplotlib.pyplot as plt\n",
        "\n",
        "plt.imshow(model.layers[0].weights[0][:,:,0,0], cmap='gray')"
      ],
      "metadata": {
        "colab": {
          "base_uri": "https://localhost:8080/",
          "height": 283
        },
        "id": "VLzJf5Kb2bb-",
        "outputId": "c2463132-c1cc-49ea-8efd-56e2aa1f29e4"
      },
      "execution_count": null,
      "outputs": [
        {
          "output_type": "execute_result",
          "data": {
            "text/plain": [
              "<matplotlib.image.AxesImage at 0x7fcf7a604f50>"
            ]
          },
          "metadata": {},
          "execution_count": 135
        },
        {
          "output_type": "display_data",
          "data": {
            "text/plain": [
              "<Figure size 432x288 with 1 Axes>"
            ],
            "image/png": "[encoded data removed]"
          },
          "metadata": {
            "needs_background": "light"
          }
        }
      ]
    },
    {
      "cell_type": "code",
      "source": [
        "# conv2d 확인\n",
        "\n",
        "conv2d_1 = models.Model(inputs=model.input, outputs=model.layers[0].output)"
      ],
      "metadata": {
        "id": "Tk2ONPbG4Mz1"
      },
      "execution_count": null,
      "outputs": []
    },
    {
      "cell_type": "code",
      "source": [
        "conv2d_out = conv2d_1.predict(x_train_c[[0]])"
      ],
      "metadata": {
        "id": "nW3CLWHJ4Oc1"
      },
      "execution_count": null,
      "outputs": []
    },
    {
      "cell_type": "code",
      "source": [
        "x_train_c.shape"
      ],
      "metadata": {
        "colab": {
          "base_uri": "https://localhost:8080/"
        },
        "id": "fq8kO6kQ4P6O",
        "outputId": "21dc4b8a-ae99-4aec-e977-679efbe787d7"
      },
      "execution_count": null,
      "outputs": [
        {
          "output_type": "execute_result",
          "data": {
            "text/plain": [
              "(55000, 28, 28, 1)"
            ]
          },
          "metadata": {},
          "execution_count": 138
        }
      ]
    },
    {
      "cell_type": "code",
      "source": [
        "conv2d_out.shape"
      ],
      "metadata": {
        "colab": {
          "base_uri": "https://localhost:8080/"
        },
        "id": "ShUv3yKP4SLl",
        "outputId": "e12ef1c6-380e-4c3b-ebc9-5eeb1ba77257"
      },
      "execution_count": null,
      "outputs": [
        {
          "output_type": "execute_result",
          "data": {
            "text/plain": [
              "(1, 24, 24, 32)"
            ]
          },
          "metadata": {},
          "execution_count": 139
        }
      ]
    },
    {
      "cell_type": "code",
      "source": [
        "import matplotlib.pyplot as plt\n",
        "\n",
        "plt.imshow(x_train_c[0,:,:,0], cmap='gray')  # 원본\n",
        "plt.figure()\n",
        "plt.imshow(conv2d_out[0,:,:,1],cmap='gray')  # convolution"
      ],
      "metadata": {
        "colab": {
          "base_uri": "https://localhost:8080/",
          "height": 531
        },
        "id": "70VU00-W4UHX",
        "outputId": "af5a7ee9-d687-4036-f2db-32a95fa8c48a"
      },
      "execution_count": null,
      "outputs": [
        {
          "output_type": "execute_result",
          "data": {
            "text/plain": [
              "<matplotlib.image.AxesImage at 0x7fcf0472f4d0>"
            ]
          },
          "metadata": {},
          "execution_count": 140
        },
        {
          "output_type": "display_data",
          "data": {
            "text/plain": [
              "<Figure size 432x288 with 1 Axes>"
            ],
            "image/png": "[encoded data removed]"
          },
          "metadata": {
            "needs_background": "light"
          }
        },
        {
          "output_type": "display_data",
          "data": {
            "text/plain": [
              "<Figure size 432x288 with 1 Axes>"
            ],
            "image/png": "[encoded data removed]"
          },
          "metadata": {
            "needs_background": "light"
          }
        }
      ]
    },
    {
      "cell_type": "code",
      "source": [
        "# 32개 필터 적용된 것 확인\n",
        "import matplotlib.pyplot as plt\n",
        "fig = plt.figure(figsize=(10,15))\n",
        "for i in range(32):\n",
        "  fig.add_subplot(7,5,i+1)\n",
        "  plt.imshow(conv2d_out[0,:,:,i], cmap='gray')"
      ],
      "metadata": {
        "colab": {
          "base_uri": "https://localhost:8080/",
          "height": 862
        },
        "id": "9fpa7RDA4che",
        "outputId": "d519cf9a-d984-4ac6-d65a-136d488cc9ec"
      },
      "execution_count": null,
      "outputs": [
        {
          "output_type": "display_data",
          "data": {
            "text/plain": [
              "<Figure size 720x1080 with 32 Axes>"
            ],
            "image/png": "[encoded data removed]"
          },
          "metadata": {
            "needs_background": "light"
          }
        }
      ]
    },
    {
      "cell_type": "code",
      "source": [
        "maxpool_1 = models.Model(inputs=model.input, outputs=model.layers[1].output)"
      ],
      "metadata": {
        "id": "VOr_KM884lI-"
      },
      "execution_count": null,
      "outputs": []
    },
    {
      "cell_type": "code",
      "source": [
        "maxpool_out = maxpool_1.predict(x_train_c[[0]])"
      ],
      "metadata": {
        "id": "mNQ19efU4mDc"
      },
      "execution_count": null,
      "outputs": []
    },
    {
      "cell_type": "code",
      "source": [
        "maxpool_out.shape"
      ],
      "metadata": {
        "colab": {
          "base_uri": "https://localhost:8080/"
        },
        "id": "8IJabDGF4n6k",
        "outputId": "f5ec07fd-f352-4388-95ce-31ad17f726e5"
      },
      "execution_count": null,
      "outputs": [
        {
          "output_type": "execute_result",
          "data": {
            "text/plain": [
              "(1, 12, 12, 32)"
            ]
          },
          "metadata": {},
          "execution_count": 144
        }
      ]
    },
    {
      "cell_type": "code",
      "source": [
        "maxpool_out.max()"
      ],
      "metadata": {
        "colab": {
          "base_uri": "https://localhost:8080/"
        },
        "id": "Ex2uZMEr4pYt",
        "outputId": "68db54ac-2b98-4532-9563-a947ffddf839"
      },
      "execution_count": null,
      "outputs": [
        {
          "output_type": "execute_result",
          "data": {
            "text/plain": [
              "1.658797"
            ]
          },
          "metadata": {},
          "execution_count": 145
        }
      ]
    },
    {
      "cell_type": "code",
      "source": [
        "import matplotlib.pyplot as plt\n",
        "fig = plt.figure(figsize=(10,15))\n",
        "for i in range(32):\n",
        "  fig.add_subplot(7,5,i+1)\n",
        "  plt.imshow(maxpool_out[0,:,:,i], cmap='gray')"
      ],
      "metadata": {
        "colab": {
          "base_uri": "https://localhost:8080/",
          "height": 860
        },
        "id": "qKsc1hTn4qy9",
        "outputId": "2e803feb-63d9-4ca6-e48b-43a3848b62b9"
      },
      "execution_count": null,
      "outputs": [
        {
          "output_type": "display_data",
          "data": {
            "text/plain": [
              "<Figure size 720x1080 with 32 Axes>"
            ],
            "image/png": "[encoded data removed]"
          },
          "metadata": {
            "needs_background": "light"
          }
        }
      ]
    },
    {
      "cell_type": "code",
      "source": [
        "import matplotlib.pyplot as plt\n",
        "fig = plt.figure(figsize=(10,15))\n",
        "for i in range(32):\n",
        "  fig.add_subplot(7,5,i+1)\n",
        "  plt.imshow(model.layers[0].kernel[:,:,0,i], cmap='gray')\n",
        "plt.show()"
      ],
      "metadata": {
        "colab": {
          "base_uri": "https://localhost:8080/",
          "height": 860
        },
        "id": "3b1a029h4tTl",
        "outputId": "3e4b85c7-e315-48f8-8dc1-c83e2ba7a6b8"
      },
      "execution_count": null,
      "outputs": [
        {
          "output_type": "display_data",
          "data": {
            "text/plain": [
              "<Figure size 720x1080 with 32 Axes>"
            ],
            "image/png": "[encoded data removed]"
          },
          "metadata": {
            "needs_background": "light"
          }
        }
      ]
    },
    {
      "cell_type": "code",
      "source": [
        "maxpool_3 = models.Model(inputs=model.input, outputs=model.layers[3].output)\n",
        "maxpool_out = maxpool_3.predict(x_train_c[[0]])\n",
        "fig = plt.figure(figsize=(10,15))\n",
        "for i in range(32):\n",
        "  fig.add_subplot(7,5,i+1)\n",
        "  plt.imshow(maxpool_out[0,:,:,i], cmap='gray')\n",
        "plt.show()"
      ],
      "metadata": {
        "colab": {
          "base_uri": "https://localhost:8080/",
          "height": 860
        },
        "id": "QehykrfE4zys",
        "outputId": "f392d44a-6335-457a-c5ab-766cd1f76d3c"
      },
      "execution_count": null,
      "outputs": [
        {
          "output_type": "display_data",
          "data": {
            "text/plain": [
              "<Figure size 720x1080 with 32 Axes>"
            ],
            "image/png": "[encoded data removed]"
          },
          "metadata": {
            "needs_background": "light"
          }
        }
      ]
    },
    {
      "cell_type": "code",
      "source": [
        "flat = models.Model(inputs=model.input, outputs=model.layers[4].output)\n",
        "flat_out = flat.predict(x_train_c[[0]])"
      ],
      "metadata": {
        "id": "bjOaUvUU42Wl"
      },
      "execution_count": null,
      "outputs": []
    },
    {
      "cell_type": "code",
      "source": [
        "flat_out"
      ],
      "metadata": {
        "colab": {
          "base_uri": "https://localhost:8080/"
        },
        "id": "KdKbEgqA44VG",
        "outputId": "816e9c37-2253-4c41-9a27-ea93d7e49aea"
      },
      "execution_count": null,
      "outputs": [
        {
          "output_type": "execute_result",
          "data": {
            "text/plain": [
              "array([[0.        , 0.        , 0.        , ..., 0.        , 0.        ,\n",
              "        0.64151686]], dtype=float32)"
            ]
          },
          "metadata": {},
          "execution_count": 150
        }
      ]
    },
    {
      "cell_type": "code",
      "source": [
        "import pandas as pd\n",
        "flat_df = pd.Series(flat_out[0])"
      ],
      "metadata": {
        "id": "OjZmUARA45n1"
      },
      "execution_count": null,
      "outputs": []
    },
    {
      "cell_type": "code",
      "source": [
        "flat_df.describe()"
      ],
      "metadata": {
        "colab": {
          "base_uri": "https://localhost:8080/"
        },
        "id": "WWMrNKhu5vLc",
        "outputId": "96f4b8a0-9e23-4b2a-9a3b-fe6dbec48573"
      },
      "execution_count": null,
      "outputs": [
        {
          "output_type": "execute_result",
          "data": {
            "text/plain": [
              "count    1024.000000\n",
              "mean        0.071709\n",
              "std         0.344818\n",
              "min         0.000000\n",
              "25%         0.000000\n",
              "50%         0.000000\n",
              "75%         0.000000\n",
              "max         4.116655\n",
              "dtype: float64"
            ]
          },
          "metadata": {},
          "execution_count": 152
        }
      ]
    },
    {
      "cell_type": "code",
      "source": [
        "flat_df.plot()"
      ],
      "metadata": {
        "colab": {
          "base_uri": "https://localhost:8080/",
          "height": 283
        },
        "id": "BtEl1CsK5ve7",
        "outputId": "89bc4097-c91f-46f4-ef7a-4047ff406402"
      },
      "execution_count": null,
      "outputs": [
        {
          "output_type": "execute_result",
          "data": {
            "text/plain": [
              "<matplotlib.axes._subplots.AxesSubplot at 0x7fcf02554990>"
            ]
          },
          "metadata": {},
          "execution_count": 153
        },
        {
          "output_type": "display_data",
          "data": {
            "text/plain": [
              "<Figure size 432x288 with 1 Axes>"
            ],
            "image/png": "[encoded data removed]"
          },
          "metadata": {
            "needs_background": "light"
          }
        }
      ]
    },
    {
      "cell_type": "markdown",
      "source": [
        "# Fashion MNIST"
      ],
      "metadata": {
        "id": "6B--n83KZuRi"
      }
    },
    {
      "cell_type": "code",
      "source": [
        "import tensorflow as tf\n",
        "from tensorflow import keras\n",
        "import numpy as np\n",
        "import matplotlib.pyplot as plt"
      ],
      "metadata": {
        "id": "TQgrR3dfae1z"
      },
      "execution_count": 203,
      "outputs": []
    },
    {
      "cell_type": "code",
      "source": [
        "fashion_mnist = keras.datasets.fashion_mnist\n",
        "(train_images, train_labels), (test_images, test_labels) = fashion_mnist.load_data()"
      ],
      "metadata": {
        "id": "0k6CoABrZzoJ"
      },
      "execution_count": 204,
      "outputs": []
    },
    {
      "cell_type": "code",
      "source": [
        "test_images.shape"
      ],
      "metadata": {
        "colab": {
          "base_uri": "https://localhost:8080/"
        },
        "id": "Z61IAhAvZz1T",
        "outputId": "ab67661e-aba2-4cfb-e57a-938177fc6044"
      },
      "execution_count": 205,
      "outputs": [
        {
          "output_type": "execute_result",
          "data": {
            "text/plain": [
              "(10000, 28, 28)"
            ]
          },
          "metadata": {},
          "execution_count": 205
        }
      ]
    },
    {
      "cell_type": "code",
      "source": [
        "train_images.shape"
      ],
      "metadata": {
        "colab": {
          "base_uri": "https://localhost:8080/"
        },
        "id": "BzbW0qJCZ5V0",
        "outputId": "fc025da6-80e1-4fda-8642-b4f2b5735340"
      },
      "execution_count": 206,
      "outputs": [
        {
          "output_type": "execute_result",
          "data": {
            "text/plain": [
              "(60000, 28, 28)"
            ]
          },
          "metadata": {},
          "execution_count": 206
        }
      ]
    },
    {
      "cell_type": "code",
      "source": [
        "test_labels"
      ],
      "metadata": {
        "colab": {
          "base_uri": "https://localhost:8080/"
        },
        "id": "Uiz2BAm_Z7V6",
        "outputId": "3962c34e-e06e-4e5b-eb6a-d84aa58ebf7f"
      },
      "execution_count": 207,
      "outputs": [
        {
          "output_type": "execute_result",
          "data": {
            "text/plain": [
              "array([9, 2, 1, ..., 8, 1, 5], dtype=uint8)"
            ]
          },
          "metadata": {},
          "execution_count": 207
        }
      ]
    },
    {
      "cell_type": "code",
      "source": [
        "plt.figure()\n",
        "plt.imshow(train_images[2], cmap='gray')"
      ],
      "metadata": {
        "colab": {
          "base_uri": "https://localhost:8080/",
          "height": 283
        },
        "id": "PsMfJSmQZ8sR",
        "outputId": "d125c098-0f2d-4582-89c9-20acf6f6706d"
      },
      "execution_count": 208,
      "outputs": [
        {
          "output_type": "execute_result",
          "data": {
            "text/plain": [
              "<matplotlib.image.AxesImage at 0x7fcf79446210>"
            ]
          },
          "metadata": {},
          "execution_count": 208
        },
        {
          "output_type": "display_data",
          "data": {
            "text/plain": [
              "<Figure size 432x288 with 1 Axes>"
            ],
            "image/png": "[encoded data removed]"
          },
          "metadata": {
            "needs_background": "light"
          }
        }
      ]
    },
    {
      "cell_type": "code",
      "source": [
        "train_labels"
      ],
      "metadata": {
        "colab": {
          "base_uri": "https://localhost:8080/"
        },
        "id": "jyiuX6R5Z-LL",
        "outputId": "fd0fd086-12bc-4be2-cd21-12c2d61383f1"
      },
      "execution_count": 209,
      "outputs": [
        {
          "output_type": "execute_result",
          "data": {
            "text/plain": [
              "array([9, 0, 0, ..., 3, 0, 5], dtype=uint8)"
            ]
          },
          "metadata": {},
          "execution_count": 209
        }
      ]
    },
    {
      "cell_type": "code",
      "source": [
        "label_df = pd.Series(train_labels)\n",
        "label_df.value_counts()"
      ],
      "metadata": {
        "colab": {
          "base_uri": "https://localhost:8080/"
        },
        "id": "1UWtZmPBaACC",
        "outputId": "cd20258b-2f44-4b1b-88cc-d0075da5ebf7"
      },
      "execution_count": 210,
      "outputs": [
        {
          "output_type": "execute_result",
          "data": {
            "text/plain": [
              "9    6000\n",
              "0    6000\n",
              "3    6000\n",
              "2    6000\n",
              "7    6000\n",
              "5    6000\n",
              "1    6000\n",
              "6    6000\n",
              "4    6000\n",
              "8    6000\n",
              "dtype: int64"
            ]
          },
          "metadata": {},
          "execution_count": 210
        }
      ]
    },
    {
      "cell_type": "code",
      "source": [
        "train_images = train_images / 255.0\n",
        "test_images = test_images / 255.0"
      ],
      "metadata": {
        "id": "29-umZm2aBTK"
      },
      "execution_count": 211,
      "outputs": []
    },
    {
      "cell_type": "code",
      "source": [
        "class_names = ['T-shirt/top', 'Trouser', 'Pullover', 'Dress', 'Coat',\n",
        "               'Sandal', 'Shirt', 'Sneaker', 'Bag', 'Ankle boot']"
      ],
      "metadata": {
        "id": "Sol1dLloaCu6"
      },
      "execution_count": 212,
      "outputs": []
    },
    {
      "cell_type": "code",
      "source": [
        "plt.figure(figsize=(10,10))\n",
        "for i in range(25):\n",
        "    plt.subplot(5,5,i+1)\n",
        "    plt.xticks([])\n",
        "    plt.yticks([])\n",
        "    plt.grid(False)\n",
        "    plt.imshow(train_images[i])\n",
        "    plt.xlabel(class_names[train_labels[i]])\n",
        "plt.show()"
      ],
      "metadata": {
        "colab": {
          "base_uri": "https://localhost:8080/",
          "height": 589
        },
        "id": "2lPFBJuLaEbx",
        "outputId": "6745fef4-e414-432b-82cf-0d59773c35e8"
      },
      "execution_count": 213,
      "outputs": [
        {
          "output_type": "display_data",
          "data": {
            "text/plain": [
              "<Figure size 720x720 with 25 Axes>"
            ],
            "image/png": "[encoded data removed]"
          },
          "metadata": {}
        }
      ]
    },
    {
      "cell_type": "code",
      "source": [
        "model = keras.Sequential([\n",
        "    keras.layers.Flatten(input_shape=(28, 28)),\n",
        "    keras.layers.Dense(128, activation='relu'),\n",
        "    keras.layers.Dense(10, activation='softmax')\n",
        "])\n",
        "model.compile(optimizer='adam',\n",
        "              loss='sparse_categorical_crossentropy',\n",
        "              metrics=['accuracy'])\n",
        "model.fit(train_images, train_labels, epochs=10)"
      ],
      "metadata": {
        "colab": {
          "base_uri": "https://localhost:8080/"
        },
        "id": "Y8UvP04raKIC",
        "outputId": "fef2e723-6d4c-46a0-dc61-727a89b87c89"
      },
      "execution_count": 214,
      "outputs": [
        {
          "output_type": "stream",
          "name": "stdout",
          "text": [
            "Epoch 1/10\n",
            "1875/1875 [==============================] - 7s 3ms/step - loss: 0.4996 - accuracy: 0.8246\n",
            "Epoch 2/10\n",
            "1875/1875 [==============================] - 5s 3ms/step - loss: 0.3741 - accuracy: 0.8647\n",
            "Epoch 3/10\n",
            "1875/1875 [==============================] - 5s 3ms/step - loss: 0.3367 - accuracy: 0.8767\n",
            "Epoch 4/10\n",
            "1875/1875 [==============================] - 5s 3ms/step - loss: 0.3124 - accuracy: 0.8864\n",
            "Epoch 5/10\n",
            "1875/1875 [==============================] - 5s 3ms/step - loss: 0.2970 - accuracy: 0.8908\n",
            "Epoch 6/10\n",
            "1875/1875 [==============================] - 5s 3ms/step - loss: 0.2793 - accuracy: 0.8970\n",
            "Epoch 7/10\n",
            "1875/1875 [==============================] - 5s 3ms/step - loss: 0.2692 - accuracy: 0.8998\n",
            "Epoch 8/10\n",
            "1875/1875 [==============================] - 5s 3ms/step - loss: 0.2569 - accuracy: 0.9043\n",
            "Epoch 9/10\n",
            "1875/1875 [==============================] - 5s 3ms/step - loss: 0.2483 - accuracy: 0.9076\n",
            "Epoch 10/10\n",
            "1875/1875 [==============================] - 5s 3ms/step - loss: 0.2360 - accuracy: 0.9123\n"
          ]
        },
        {
          "output_type": "execute_result",
          "data": {
            "text/plain": [
              "<keras.callbacks.History at 0x7fd07644c950>"
            ]
          },
          "metadata": {},
          "execution_count": 214
        }
      ]
    },
    {
      "cell_type": "code",
      "source": [
        "test_loss, test_acc = model.evaluate(test_images,  test_labels, verbose=2)"
      ],
      "metadata": {
        "colab": {
          "base_uri": "https://localhost:8080/"
        },
        "id": "gfTdcNIoaNbB",
        "outputId": "e7c92927-7035-4076-ca32-75c58eb965b0"
      },
      "execution_count": 215,
      "outputs": [
        {
          "output_type": "stream",
          "name": "stdout",
          "text": [
            "313/313 - 1s - loss: 0.3423 - accuracy: 0.8836 - 1s/epoch - 4ms/step\n"
          ]
        }
      ]
    },
    {
      "cell_type": "code",
      "source": [
        "predictions = model.predict(test_images)"
      ],
      "metadata": {
        "id": "VjLG_s-0aQXb"
      },
      "execution_count": 216,
      "outputs": []
    },
    {
      "cell_type": "code",
      "source": [
        "predictions.shape"
      ],
      "metadata": {
        "colab": {
          "base_uri": "https://localhost:8080/"
        },
        "id": "PXTPy0WaaRrK",
        "outputId": "d066e263-43eb-4460-bcfd-fd3b612719ad"
      },
      "execution_count": 217,
      "outputs": [
        {
          "output_type": "execute_result",
          "data": {
            "text/plain": [
              "(10000, 10)"
            ]
          },
          "metadata": {},
          "execution_count": 217
        }
      ]
    },
    {
      "cell_type": "code",
      "source": [
        "predictions[0]"
      ],
      "metadata": {
        "colab": {
          "base_uri": "https://localhost:8080/"
        },
        "id": "PhSsKW1vaS4R",
        "outputId": "8fab4d50-84f3-4dfa-bf1a-c239b8c44fa6"
      },
      "execution_count": 218,
      "outputs": [
        {
          "output_type": "execute_result",
          "data": {
            "text/plain": [
              "array([1.5742460e-05, 1.8297911e-08, 4.9445934e-08, 1.9646176e-13,\n",
              "       3.5964743e-07, 3.0524196e-02, 5.4390142e-07, 3.2426313e-02,\n",
              "       1.6131588e-09, 9.3703276e-01], dtype=float32)"
            ]
          },
          "metadata": {},
          "execution_count": 218
        }
      ]
    },
    {
      "cell_type": "code",
      "source": [
        "predictions[0].max()"
      ],
      "metadata": {
        "colab": {
          "base_uri": "https://localhost:8080/"
        },
        "id": "bgIGhzXBaUJF",
        "outputId": "2817661b-d3d9-4006-e3d5-64e949155433"
      },
      "execution_count": 219,
      "outputs": [
        {
          "output_type": "execute_result",
          "data": {
            "text/plain": [
              "0.93703276"
            ]
          },
          "metadata": {},
          "execution_count": 219
        }
      ]
    },
    {
      "cell_type": "code",
      "source": [
        "np.argmax(predictions[0])"
      ],
      "metadata": {
        "colab": {
          "base_uri": "https://localhost:8080/"
        },
        "id": "AIGe33CdaVSE",
        "outputId": "277483cb-4f5f-4a81-a093-3099d43951e7"
      },
      "execution_count": 220,
      "outputs": [
        {
          "output_type": "execute_result",
          "data": {
            "text/plain": [
              "9"
            ]
          },
          "metadata": {},
          "execution_count": 220
        }
      ]
    },
    {
      "cell_type": "code",
      "source": [
        "def plot_image(i, predictions_array, true_label, img):\n",
        "  predictions_array, true_label, img = predictions_array[i], true_label[i], img[i]\n",
        "  plt.grid(False)\n",
        "  plt.xticks([])\n",
        "  plt.yticks([])\n",
        "\n",
        "  plt.imshow(img, cmap=plt.cm.binary)\n",
        "\n",
        "  predicted_label = np.argmax(predictions_array)\n",
        "  if predicted_label == true_label:\n",
        "    color = 'blue'\n",
        "  else:\n",
        "    color = 'red'\n",
        "\n",
        "  plt.xlabel(\"{} {:2.0f}% ({})\".format(class_names[predicted_label],\n",
        "                                100*np.max(predictions_array),\n",
        "                                class_names[true_label]),\n",
        "                                color=color)\n",
        "\n",
        "def plot_value_array(i, predictions_array, true_label):\n",
        "  predictions_array, true_label = predictions_array[i], true_label[i]\n",
        "  plt.grid(False)\n",
        "  plt.xticks([])\n",
        "  plt.yticks([])\n",
        "  thisplot = plt.bar(range(10), predictions_array, color=\"#777777\")\n",
        "  plt.ylim([0, 1])\n",
        "  predicted_label = np.argmax(predictions_array)\n",
        "\n",
        "  thisplot[predicted_label].set_color('red')\n",
        "  thisplot[true_label].set_color('blue')"
      ],
      "metadata": {
        "id": "7g4MN00OaZvj"
      },
      "execution_count": 221,
      "outputs": []
    },
    {
      "cell_type": "code",
      "source": [
        "i = 0\n",
        "plt.figure(figsize=(6,3))\n",
        "plt.subplot(1,2,1)\n",
        "plot_image(i, predictions, test_labels, test_images)\n",
        "plt.subplot(1,2,2)\n",
        "plot_value_array(i, predictions,  test_labels)\n",
        "plt.show()"
      ],
      "metadata": {
        "colab": {
          "base_uri": "https://localhost:8080/",
          "height": 203
        },
        "id": "esXVAm1tahix",
        "outputId": "2d8a9ba1-ea81-4b80-b553-92fc097d18c6"
      },
      "execution_count": 222,
      "outputs": [
        {
          "output_type": "display_data",
          "data": {
            "text/plain": [
              "<Figure size 432x216 with 2 Axes>"
            ],
            "image/png": "[encoded data removed]"
          },
          "metadata": {}
        }
      ]
    },
    {
      "cell_type": "code",
      "source": [
        "# 처음 X 개의 테스트 이미지와 예측 레이블, 진짜 레이블을 출력합니다\n",
        "# 올바른 예측은 파랑색으로 잘못된 예측은 빨강색으로 나타냅니다\n",
        "num_rows = 5\n",
        "num_cols = 3\n",
        "num_images = num_rows*num_cols\n",
        "plt.figure(figsize=(2*2*num_cols, 2*num_rows))\n",
        "for i in range(num_images):\n",
        "  plt.subplot(num_rows, 2*num_cols, 2*i+1)\n",
        "  plot_image(i, predictions, test_labels, test_images)\n",
        "  plt.subplot(num_rows, 2*num_cols, 2*i+2)\n",
        "  plot_value_array(i, predictions, test_labels)\n",
        "plt.show()"
      ],
      "metadata": {
        "colab": {
          "base_uri": "https://localhost:8080/",
          "height": 589
        },
        "id": "a2TkW4QxbArS",
        "outputId": "653f7bc4-b5ed-4a8d-ec03-e06484edff62"
      },
      "execution_count": 223,
      "outputs": [
        {
          "output_type": "display_data",
          "data": {
            "text/plain": [
              "<Figure size 864x720 with 30 Axes>"
            ],
            "image/png": "[encoded data removed]"
          },
          "metadata": {}
        }
      ]
    },
    {
      "cell_type": "code",
      "source": [
        "# 테스트 세트에서 이미지 하나를 선택합니다\n",
        "img = test_images[8]\n",
        "\n",
        "print(img.shape)"
      ],
      "metadata": {
        "colab": {
          "base_uri": "https://localhost:8080/"
        },
        "id": "-QqF5VTqbJaM",
        "outputId": "cba81459-32b4-45ac-d50b-c2cb81b66090"
      },
      "execution_count": 224,
      "outputs": [
        {
          "output_type": "stream",
          "name": "stdout",
          "text": [
            "(28, 28)\n"
          ]
        }
      ]
    },
    {
      "cell_type": "code",
      "source": [
        "# 이미지 하나만 사용할 때도 배치에 추가합니다\n",
        "img = (np.expand_dims(img,0))\n",
        "\n",
        "print(img.shape)"
      ],
      "metadata": {
        "colab": {
          "base_uri": "https://localhost:8080/"
        },
        "id": "3IabP4uTbOXS",
        "outputId": "3e8aabc5-f0c1-44ae-da8e-ff30006104b8"
      },
      "execution_count": 225,
      "outputs": [
        {
          "output_type": "stream",
          "name": "stdout",
          "text": [
            "(1, 28, 28)\n"
          ]
        }
      ]
    },
    {
      "cell_type": "code",
      "source": [
        "predictions_single = model.predict(img)\n",
        "\n",
        "print(predictions_single)"
      ],
      "metadata": {
        "colab": {
          "base_uri": "https://localhost:8080/"
        },
        "id": "Dpt_9nH5bXcD",
        "outputId": "8de1f494-7cec-42d6-c575-d0b1484e3b39"
      },
      "execution_count": 226,
      "outputs": [
        {
          "output_type": "stream",
          "name": "stdout",
          "text": [
            "[[2.5077772e-05 1.8078756e-06 7.3177387e-07 1.4163996e-07 6.0809379e-07\n",
            "  9.9976736e-01 1.4145732e-05 1.8607439e-04 3.5374417e-06 4.7127352e-07]]\n"
          ]
        }
      ]
    },
    {
      "cell_type": "code",
      "source": [
        "plot_value_array(0, predictions_single, test_labels)\n",
        "_ = plt.xticks(range(10), class_names, rotation=45)"
      ],
      "metadata": {
        "colab": {
          "base_uri": "https://localhost:8080/",
          "height": 300
        },
        "id": "Nrs4Ntm7ba7y",
        "outputId": "01ce36e7-6768-43f2-8d14-d72344a323a7"
      },
      "execution_count": 227,
      "outputs": [
        {
          "output_type": "display_data",
          "data": {
            "text/plain": [
              "<Figure size 432x288 with 1 Axes>"
            ],
            "image/png": "[encoded data removed]"
          },
          "metadata": {
            "needs_background": "light"
          }
        }
      ]
    }
  ]
}